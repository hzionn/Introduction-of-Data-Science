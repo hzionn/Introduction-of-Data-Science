{
 "cells": [
  {
   "cell_type": "markdown",
   "id": "3cc3c606",
   "metadata": {},
   "source": [
    "Problem 2: Movie Data Analysis ( *hw0_p2.py* ) \n",
    "\n",
    "In this homework, you are asked to write a program for answering the following questions based on IMDB Movie data ( *IMDB‐Movie‐Data.csv* ). \n",
    "\n",
    "You are required to write a function for answering each question. You may want to use `Python’s File reading`, `List`, `Dictionary`, and `Functions`. \n",
    "\n",
    "**You cannot use any packages**. The output format of each question is free."
   ]
  },
  {
   "cell_type": "code",
   "execution_count": 1,
   "id": "f1d91246",
   "metadata": {},
   "outputs": [],
   "source": [
    "class MyTable:\n",
    "    \n",
    "    def __init__(self):\n",
    "        with open('IMDB-Movie-Data.csv', 'r') as f:\n",
    "            self.contents = [line for line in f]\n",
    "            self.columns_names = self.contents[0].strip('\\n').split(',')\n",
    "            self.rows = [content.strip('\\n').split(',') for content in self.contents[1:]]\n",
    "    \n",
    "    def describe(self):\n",
    "        print(f'data\\'s length without titles: {len(self.rows)}')\n",
    "        print(f'Columns name: \\n{self.columns_names}')\n",
    "    \n",
    "    def __repr__(self):\n",
    "        text = ''\n",
    "        for line in self.contents:\n",
    "            text += line + '\\n'\n",
    "        return text\n",
    "    \n",
    "    def columns(self, col_name: str) -> list:\n",
    "        assert col_name in self.columns_names, f'choose column from {self.columns_names}'\n",
    "        \n",
    "        col_index = self.columns_names.index(col_name)\n",
    "        return [row[col_index] for row in self.rows]\n",
    "    \n",
    "    def multi_col_name_index(self, *col_name) -> list:\n",
    "        col_names = []\n",
    "        for i in col_name:\n",
    "            assert i in self.columns_names, f'choose column from {self.columns_names}'\n",
    "            col_names.append(i)\n",
    "        \n",
    "        return [df.columns_names.index(col_names[i]) for i in range(len(col_names))]\n",
    "            \n",
    "    def rows_with_column(self, col_name: str, data_type: str) -> list:\n",
    "        assert col_name in self.columns_names, f'choose column from {self.columns_names}'\n",
    "        \n",
    "        col_index = self.columns_names.index(col_name)\n",
    "        return [i for i in df.rows if i[col_index] == data_type]\n",
    "\n",
    "    def total_revenue(self):\n",
    "        count_total = lambda df: sum(float(i) for i in df if i != '')\n",
    "        total_revenue = round(count_total(df.columns(col_name='Revenue (Millions)')), 2)\n",
    "        return total_revenue"
   ]
  },
  {
   "cell_type": "code",
   "execution_count": 2,
   "id": "5fb990c3",
   "metadata": {},
   "outputs": [],
   "source": [
    "df = MyTable()\n",
    "#df.describe()"
   ]
  },
  {
   "cell_type": "markdown",
   "id": "9b076508",
   "metadata": {},
   "source": [
    "## (1) Top-3 movies with the highest ratings in 2016? "
   ]
  },
  {
   "cell_type": "markdown",
   "id": "b380b96b",
   "metadata": {},
   "source": [
    "##### check"
   ]
  },
  {
   "cell_type": "code",
   "execution_count": 3,
   "id": "a8bda6e5",
   "metadata": {},
   "outputs": [],
   "source": [
    "#print(len([i for i in df.rows_with_column(col_name='Year', data_type='2016')]), '\\n')\n",
    "#print('checking with first three:\\n',[i for i in df.rows_with_column(col_name='Year', data_type='2016')][0:3])"
   ]
  },
  {
   "cell_type": "markdown",
   "id": "782eed67",
   "metadata": {},
   "source": [
    "##### answer"
   ]
  },
  {
   "cell_type": "code",
   "execution_count": 4,
   "id": "d83b2305",
   "metadata": {},
   "outputs": [
    {
     "name": "stdout",
     "output_type": "stream",
     "text": [
      "Top-3 movies with the highest ratings in 2016: ['Split', 'Sing', 'Suicide Squad']\n",
      "\n"
     ]
    }
   ],
   "source": [
    "df_2016_sorted = sorted(df.rows_with_column(col_name='Year', data_type='2016'), key=lambda x: int(x[0]))\n",
    "df_2016_top3 = [each_movie[df.columns_names.index('Title')] for each_movie in df_2016_sorted[:3]]\n",
    "print(f'Top-3 movies with the highest ratings in 2016: {df_2016_top3}\\n')"
   ]
  },
  {
   "cell_type": "markdown",
   "id": "e6517b06",
   "metadata": {},
   "source": [
    "## (2) The actor generating the highest average revenue?"
   ]
  },
  {
   "cell_type": "markdown",
   "id": "4e1f9bb5",
   "metadata": {},
   "source": [
    "- 有最高平均薪酬的演員？\n",
    "- 每部戲賺的錢 / 戲裡的演員 = 平均薪酬\n",
    "- 找出平均薪酬裡最高的演員？\n",
    "\n",
    "？是這樣嗎？"
   ]
  },
  {
   "cell_type": "markdown",
   "id": "fbde6ae6",
   "metadata": {},
   "source": [
    "##### 有被紀錄revenue的戲的數量"
   ]
  },
  {
   "cell_type": "code",
   "execution_count": 5,
   "id": "36778b1c",
   "metadata": {},
   "outputs": [],
   "source": [
    "count_have_revenue = 0\n",
    "for i in df.columns(col_name='Revenue (Millions)'):\n",
    "    if i != '':\n",
    "        count_have_revenue += 1\n",
    "#count_have_revenue"
   ]
  },
  {
   "cell_type": "markdown",
   "id": "54243828",
   "metadata": {},
   "source": [
    "##### 每位演員演過多少部戲"
   ]
  },
  {
   "cell_type": "code",
   "execution_count": 6,
   "id": "7f0fd82f",
   "metadata": {},
   "outputs": [],
   "source": [
    "#每部戲出現的演員\n",
    "actors = [j.strip() \n",
    "          for i in [actors.split('|') for actors in df.columns('Actors')] \n",
    "          for j in i]\n",
    "#print(len(actors))\n",
    "\n",
    "actors_count =  {}\n",
    "for person in actors:\n",
    "    if person not in actors_count:\n",
    "        actors_count[person] = 1\n",
    "    else:\n",
    "        actors_count[person] += 1\n",
    "#print(actors_count)"
   ]
  },
  {
   "cell_type": "code",
   "execution_count": 7,
   "id": "c3b22f76",
   "metadata": {},
   "outputs": [],
   "source": [
    "#len(actors_count)"
   ]
  },
  {
   "cell_type": "code",
   "execution_count": 8,
   "id": "e344f92c",
   "metadata": {},
   "outputs": [],
   "source": [
    "actors_count_sorted = {k: v for k, v in sorted(actors_count.items(), key=lambda item: item[1], reverse=True)}\n",
    "#print(actors_count_sorted)"
   ]
  },
  {
   "cell_type": "markdown",
   "id": "74aeb3d1",
   "metadata": {},
   "source": [
    "##### answer\n",
    "##### 每部戲讓演員們平均賺多少錢"
   ]
  },
  {
   "cell_type": "code",
   "execution_count": 9,
   "id": "0dd94af0",
   "metadata": {},
   "outputs": [
    {
     "name": "stdout",
     "output_type": "stream",
     "text": [
      "The actor generating the highest average revenue:\n",
      "highest average money: 234.1575, Daisy Ridley| John Boyega| Oscar Isaac| Domhnall Gleeson\n",
      "\n",
      "4\n"
     ]
    }
   ],
   "source": [
    "index_T_A_R = df.multi_col_name_index('Title', 'Actors', 'Revenue (Millions)')\n",
    "t_a_r = [(i[index_T_A_R[0]], i[index_T_A_R[1]], i[index_T_A_R[2]]) for i in df.rows if i[index_T_A_R[2]] != '']\n",
    "highest_avg_money = 0\n",
    "movie = ''\n",
    "who = ''\n",
    "for i in t_a_r:\n",
    "    #print(i, '\\n')\n",
    "    person_count = 1\n",
    "    money = float(i[2])\n",
    "    for j in i[1]:\n",
    "        if j == '|':\n",
    "            person_count += 1\n",
    "    each = money / person_count\n",
    "    if each > highest_avg_money:\n",
    "        highest_avg_money = each\n",
    "        movie = i[0]\n",
    "        who = i[1]\n",
    "\n",
    "print('The actor generating the highest average revenue:')\n",
    "print(f'highest average money: {highest_avg_money}, {who}\\n')\n",
    "print(person_count)"
   ]
  },
  {
   "cell_type": "code",
   "execution_count": 10,
   "id": "d2507fd3",
   "metadata": {},
   "outputs": [
    {
     "data": {
      "text/plain": [
       "4"
      ]
     },
     "execution_count": 10,
     "metadata": {},
     "output_type": "execute_result"
    }
   ],
   "source": [
    "person_count"
   ]
  },
  {
   "cell_type": "markdown",
   "id": "cd33f40e",
   "metadata": {},
   "source": [
    "## (3) The average rating of Emma Watson’s movies?"
   ]
  },
  {
   "cell_type": "markdown",
   "id": "4204261a",
   "metadata": {},
   "source": [
    "- 她有演過多少部戲？\n",
    "- 她演過的戲的rank的加總？再平均"
   ]
  },
  {
   "cell_type": "markdown",
   "id": "4194609a",
   "metadata": {},
   "source": [
    "##### check"
   ]
  },
  {
   "cell_type": "code",
   "execution_count": 11,
   "id": "dfded32d",
   "metadata": {},
   "outputs": [],
   "source": [
    "actors = [j.strip() \n",
    "          for i in [actors.split('|') for actors in df.columns('Actors')] \n",
    "          for j in i]\n",
    "#print(f'{len(actors)} actors in total of all movies')\n",
    "#print('Emma Watson' in actors)\n",
    "#print(f\"{actors_count['Emma Watson']} movies by Emma Watson\")"
   ]
  },
  {
   "cell_type": "code",
   "execution_count": 12,
   "id": "702433f9",
   "metadata": {},
   "outputs": [],
   "source": [
    "for movie in [actors.split('|') for actors in df.columns('Actors')]:\n",
    "    #print(movie)\n",
    "    for person in movie:\n",
    "        if person.strip() == 'Emma Watson':\n",
    "            #print(person)\n",
    "            pass"
   ]
  },
  {
   "cell_type": "code",
   "execution_count": 13,
   "id": "139c4c9c",
   "metadata": {},
   "outputs": [],
   "source": [
    "test_str = 'Christian Bale| Heath Ledger| Aaron Eckhart|Michael Caine'\n",
    "#print('Christian Bale' in test_str)"
   ]
  },
  {
   "cell_type": "markdown",
   "id": "e76582f5",
   "metadata": {},
   "source": [
    "##### answer"
   ]
  },
  {
   "cell_type": "code",
   "execution_count": 14,
   "id": "ea79751c",
   "metadata": {},
   "outputs": [
    {
     "name": "stdout",
     "output_type": "stream",
     "text": [
      "The average rating of Emma Watson’s movies: 437.5\n",
      "\n"
     ]
    }
   ],
   "source": [
    "index_R_T_A = df.multi_col_name_index('Rank', 'Title', 'Actors')\n",
    "r_t_a = [(i[index_R_T_A[0]], i[index_R_T_A[1]], i[index_R_T_A[2]]) for i in df.rows]\n",
    "\n",
    "emma_watson_movies = [(rank, title) for rank, title, actor in r_t_a if 'Emma Watson' in actor]\n",
    "#print(emma_watson_movies, '\\n')\n",
    "print(f\"The average rating of Emma Watson’s movies: {sum(int(rank) for rank, title in emma_watson_movies) / actors_count['Emma Watson']}\\n\")"
   ]
  },
  {
   "cell_type": "markdown",
   "id": "8f7765e3",
   "metadata": {},
   "source": [
    "## (4) Top-3 directors who collaborate with the most actors? "
   ]
  },
  {
   "cell_type": "markdown",
   "id": "d9a1c661",
   "metadata": {},
   "source": [
    "##### check"
   ]
  },
  {
   "cell_type": "code",
   "execution_count": 15,
   "id": "bdaadf17",
   "metadata": {},
   "outputs": [],
   "source": [
    "#print(f\"director in {len(df.columns(col_name='Director'))} of movies\")\n",
    "#print([director for director in df.columns(col_name='Director')][0:3])"
   ]
  },
  {
   "cell_type": "code",
   "execution_count": 16,
   "id": "dc67f0be",
   "metadata": {},
   "outputs": [],
   "source": [
    "director_repeat = [director for director in df.columns(col_name='Director')]\n",
    "director_nonrepeat = []\n",
    "for d in director_repeat:\n",
    "    if d not in director_nonrepeat:\n",
    "        director_nonrepeat.append(d)\n",
    "#print(len(director_repeat))\n",
    "#print(len(director_nonrepeat))"
   ]
  },
  {
   "cell_type": "code",
   "execution_count": 17,
   "id": "8a4cba83",
   "metadata": {},
   "outputs": [],
   "source": [
    "index_d, index_a = df.multi_col_name_index('Director', 'Actors')\n",
    "d_a = []\n",
    "for i in df.rows:\n",
    "    i[index_a] = i[index_a].replace('|', ',')\n",
    "    i[index_a] = i[index_a].replace(', ', ',')\n",
    "    d_a.append((i[index_d], i[index_a]))\n",
    "#d_a[0]"
   ]
  },
  {
   "cell_type": "code",
   "execution_count": 18,
   "id": "97c7d0f6",
   "metadata": {},
   "outputs": [],
   "source": [
    "collaborate = []\n",
    "for da in d_a:\n",
    "    for a in da[1].split(','):\n",
    "        collaborate.append((da[0], a))\n",
    "#print(collaborate)"
   ]
  },
  {
   "cell_type": "markdown",
   "id": "b96547de",
   "metadata": {},
   "source": [
    "##### check"
   ]
  },
  {
   "cell_type": "code",
   "execution_count": 19,
   "id": "ecfdd6e1",
   "metadata": {},
   "outputs": [],
   "source": [
    "def director_work_with(target_director: str) -> list:\n",
    "    return [actor\n",
    "        for director, actor in collaborate\n",
    "        if director == target_director]\n",
    "\n",
    "def director_work_with_how_many(target_director: str) -> int:\n",
    "    count_a = []\n",
    "    for a in director_work_with(target_director):\n",
    "        if a not in count_a:\n",
    "            count_a.append(a)\n",
    "    return len(count_a)\n",
    "\n",
    "#director_work_with_how_many('Christopher Nolan')"
   ]
  },
  {
   "cell_type": "markdown",
   "id": "6b396584",
   "metadata": {},
   "source": [
    "##### answer"
   ]
  },
  {
   "cell_type": "code",
   "execution_count": 20,
   "id": "48886f5a",
   "metadata": {},
   "outputs": [],
   "source": [
    "all_director_with_with_how_many = []\n",
    "for d in director_nonrepeat:\n",
    "    director = ''\n",
    "    count_collaborate = director_work_with_how_many(d)\n",
    "    highest_collaborate = count_collaborate\n",
    "    director = d\n",
    "    all_director_with_with_how_many.append((director, highest_collaborate))\n",
    "\n",
    "#all_director_with_with_how_many"
   ]
  },
  {
   "cell_type": "code",
   "execution_count": 21,
   "id": "949e9ae5",
   "metadata": {},
   "outputs": [
    {
     "name": "stdout",
     "output_type": "stream",
     "text": [
      "Top-3 directors who collaborate with the most actors:\n",
      "['Ridley Scott', 'M. Night Shyamalan', 'Danny Boyle']\n",
      "\n"
     ]
    }
   ],
   "source": [
    "all_director_with_with_how_many = sorted(all_director_with_with_how_many, key=lambda x: x[1], reverse=True)\n",
    "print(f'Top-3 directors who collaborate with the most actors:\\n{[i[0] for i in all_director_with_with_how_many[:3]]}\\n')"
   ]
  },
  {
   "cell_type": "markdown",
   "id": "0b860739",
   "metadata": {},
   "source": [
    "# (5) Top-2 actors playing in the most genres of movies? "
   ]
  },
  {
   "cell_type": "code",
   "execution_count": 22,
   "id": "88021f7d",
   "metadata": {},
   "outputs": [],
   "source": [
    "index_g, index_a = df.multi_col_name_index('Genre', 'Actors')\n",
    "g_a = []\n",
    "for i in df.rows:\n",
    "    i[index_a] = i[index_a].replace('|', ',')\n",
    "    i[index_a] = i[index_a].replace(', ', ',')\n",
    "    i[index_g] = i[index_g].replace('|', ',')\n",
    "    g_a.append((i[index_g], i[index_a]))\n",
    "#g_a[0]"
   ]
  },
  {
   "cell_type": "code",
   "execution_count": 23,
   "id": "eba93072",
   "metadata": {},
   "outputs": [],
   "source": [
    "actor_genre = {}\n",
    "for genres, actors in g_a:\n",
    "    for actor in actors.split(','):\n",
    "        if actor not in actor_genre:\n",
    "            actor_genre[actor] = []\n",
    "            for genre in genres.split(','):\n",
    "                actor_genre[actor].append(genre)\n",
    "        else:\n",
    "            for genre in genres.split(','):\n",
    "                if genre not in actor_genre[actor]:\n",
    "                    actor_genre[actor].append(genre)\n",
    "#actor_genre"
   ]
  },
  {
   "cell_type": "markdown",
   "id": "775947e4",
   "metadata": {},
   "source": [
    "##### answer"
   ]
  },
  {
   "cell_type": "code",
   "execution_count": 24,
   "id": "d7688b8f",
   "metadata": {},
   "outputs": [
    {
     "name": "stdout",
     "output_type": "stream",
     "text": [
      "Top actors playing in the most genres of movies:\n",
      "['Brad Pitt', 'Hugh Jackman', 'Scarlett Johansson', 'Amy Adams', 'Chloe Grace Moretz', 'Johnny Depp']\n",
      "\n"
     ]
    }
   ],
   "source": [
    "count_actor_genre = {}\n",
    "for k, v in actor_genre.items():\n",
    "    count_actor_genre[k] = len(v)\n",
    "count_actor_genre = {k: v for k, v in sorted(count_actor_genre.items(), key=lambda item: item[1], reverse=True)}\n",
    "top_count_actor_genre = [(k, v) for k, v in count_actor_genre.items()]\n",
    "print(f'Top actors playing in the most genres of movies:\\n{[i for i, j in top_count_actor_genre if j >= 13]}\\n')"
   ]
  },
  {
   "cell_type": "markdown",
   "id": "ed1e6f20",
   "metadata": {},
   "source": [
    "# (6) Top-3 actors whose movies lead to the largest maximum gap of years?"
   ]
  },
  {
   "cell_type": "markdown",
   "id": "84ec7077",
   "metadata": {},
   "source": [
    "Example of “maximum gap of years”: \n",
    "\n",
    "Tom Cruise has movies: “Edge of Tomorrow” in 2014, “Mission: Impossible - Rogue Nation” in 2015, “Oblivion” in 2013, “Jack Reacher” in 2012, “Mission: Impossible III” in 2006, “Jack Reacher: Never Go Back” in 2016, “Rock of Ages” in 2012, “Mission: Impossible - Ghost Protocol” in 2011. \n",
    "\n",
    "The maximum gap of years is 2016‐2006 = 10"
   ]
  },
  {
   "cell_type": "code",
   "execution_count": 25,
   "id": "4bf1402f",
   "metadata": {},
   "outputs": [],
   "source": [
    "index_a, index_y = df.multi_col_name_index('Actors', 'Year')\n",
    "g_a = []\n",
    "for i in df.rows:\n",
    "    i[index_a] = i[index_a].replace('|', ',')\n",
    "    i[index_a] = i[index_a].replace(', ', ',')\n",
    "    g_a.append((int(i[index_y]), i[index_a].split(',')))\n",
    "#print(g_a[:3])"
   ]
  },
  {
   "cell_type": "code",
   "execution_count": 26,
   "id": "e9b1b350",
   "metadata": {},
   "outputs": [],
   "source": [
    "actor_year = {}\n",
    "for year, actors in g_a:\n",
    "    for actor in actors:\n",
    "        if actor not in actor_year:\n",
    "            actor_year[actor] = [year]\n",
    "        else:\n",
    "            actor_year[actor].append(year)\n",
    "#actor_year"
   ]
  },
  {
   "cell_type": "code",
   "execution_count": 27,
   "id": "73211645",
   "metadata": {},
   "outputs": [],
   "source": [
    "def maximum_gap_of_years(actor: str):\n",
    "    assert actor in actor_year.keys(), 'This actor seems not to be in the IMDB list'\n",
    "    return max(actor_year[actor]) - min(actor_year[actor])\n",
    "\n",
    "#maximum_gap_of_years('Leonardo DiCaprio')"
   ]
  },
  {
   "cell_type": "code",
   "execution_count": 28,
   "id": "42127a40",
   "metadata": {},
   "outputs": [],
   "source": [
    "actors_maximum_gap_of_years = {}\n",
    "for actor in actor_year.keys():\n",
    "    actors_maximum_gap_of_years[actor] = maximum_gap_of_years(actor)\n",
    "actors_maximum_gap_of_years = {k: v for k, v in sorted(actors_maximum_gap_of_years.items(), key=lambda item: item[1], reverse=True)}\n",
    "#actors_maximum_gap_of_years"
   ]
  },
  {
   "cell_type": "code",
   "execution_count": 29,
   "id": "99d35ca7",
   "metadata": {},
   "outputs": [
    {
     "name": "stdout",
     "output_type": "stream",
     "text": [
      "Actors whose movies lead to the largest maximum gap of years(10 years):\n",
      "['Christian Bale', 'Anne Hathaway', 'Hugh Jackman', 'Scarlett Johansson', 'Matt Damon', 'Mark Wahlberg', 'Brad Pitt', 'Christopher Plummer', 'Tom Hanks', 'Bryce Dallas Howard', 'Chiwetel Ejiofor', 'Ben Kingsley', 'Gerard Butler', 'Eva Green', 'Judi Dench', 'Will Smith', 'Jennifer Connelly', 'Tom Cruise', 'Emily Blunt', 'Kevin Spacey', 'Samuel L. Jackson', 'Steve Carell', 'Edward Norton', 'Will Ferrell', 'Denzel Washington', 'Russell Crowe', 'Toni Collette', 'Meryl Streep', 'Morgan Freeman', 'Dominic West', 'Owen Wilson', 'Michelle Monaghan', 'Jessica Biel', 'Dustin Hoffman', 'Ben Whishaw', 'Paula Patton', 'Abbie Cornish', 'Johnny Depp', 'Jack Davenport', 'Rachel Weisz', 'Ellen Burstyn', 'Kang-ho Song', 'Jeremy Irons', 'Marion Cotillard', 'Kirsten Dunst', 'Jennifer Aniston', 'Justin Theroux', 'Maya Rudolph', 'Kate Bosworth', 'Audrey Tautou', 'Luke Wilson', 'Sacha Baron Cohen', 'Bob Balaban']\n",
      "\n"
     ]
    }
   ],
   "source": [
    "print(f'Actors whose movies lead to the largest maximum gap of years(10 years):\\n{[i for i, j in actors_maximum_gap_of_years.items() if j == 10]}\\n')"
   ]
  },
  {
   "cell_type": "markdown",
   "id": "f947b629",
   "metadata": {},
   "source": [
    "# (7) Find all actors who collaborate with Johnny Depp in direct and indirect ways "
   ]
  },
  {
   "cell_type": "code",
   "execution_count": 30,
   "id": "bb93c15b",
   "metadata": {},
   "outputs": [],
   "source": [
    "for i in actors:\n",
    "    j = i.split(',')\n",
    "    if 'Johnny Depp' in j:\n",
    "        print(j)"
   ]
  },
  {
   "cell_type": "code",
   "execution_count": null,
   "id": "b781320c",
   "metadata": {},
   "outputs": [],
   "source": []
  }
 ],
 "metadata": {
  "kernelspec": {
   "display_name": "Python 3 (ipykernel)",
   "language": "python",
   "name": "python3"
  },
  "language_info": {
   "codemirror_mode": {
    "name": "ipython",
    "version": 3
   },
   "file_extension": ".py",
   "mimetype": "text/x-python",
   "name": "python",
   "nbconvert_exporter": "python",
   "pygments_lexer": "ipython3",
   "version": "3.8.11"
  }
 },
 "nbformat": 4,
 "nbformat_minor": 5
}
