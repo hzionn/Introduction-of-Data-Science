{
 "cells": [
  {
   "cell_type": "markdown",
   "id": "b0524204",
   "metadata": {},
   "source": [
    "(x + 2\\*y)(2\\*x^2 - y^2 + z)"
   ]
  },
  {
   "cell_type": "markdown",
   "id": "b514f7be",
   "metadata": {},
   "source": [
    "- 先判斷括號（）\n",
    "- 變數大小寫統一"
   ]
  },
  {
   "cell_type": "code",
   "execution_count": 1,
   "id": "e71b1f55",
   "metadata": {},
   "outputs": [
    {
     "name": "stdout",
     "output_type": "stream",
     "text": [
      "input the polynomials: (A+2*B^2)(B+3C^3)(2*A+B+C)\n",
      "question: (A+2*B^2)(B+3C^3)(2*A+B+C)\n"
     ]
    }
   ],
   "source": [
    "question = input('input the polynomials: ')\n",
    "#question = '(X+2*Y)(2*X^2-Y^2+Z)'\n",
    "#question = '(A+2*B^2)(B+3C^3)(2*A+B+C)'\n",
    "#question = '(2*X+3*Y+4*Z)(XY^2+X^2Y+Z^2)'\n",
    "print(f'question: {question}')"
   ]
  },
  {
   "cell_type": "code",
   "execution_count": 2,
   "id": "46c787c9",
   "metadata": {},
   "outputs": [],
   "source": [
    "count = 0\n",
    "for i in question:\n",
    "    if i == '(':\n",
    "        count += 1"
   ]
  },
  {
   "cell_type": "code",
   "execution_count": 3,
   "id": "e66964eb",
   "metadata": {},
   "outputs": [],
   "source": [
    "question = question.split(')(')\n",
    "\n",
    "if count == 2:\n",
    "    first = question[0].replace('(', '')\n",
    "    second = question[1].replace(')', '')\n",
    "    all_group = [first, second]\n",
    "if count == 3:\n",
    "    first = question[0].replace('(', '')\n",
    "    second = question[1]\n",
    "    third = question[2].replace(')', '')\n",
    "    all_group = [first, second, third]"
   ]
  },
  {
   "cell_type": "code",
   "execution_count": 4,
   "id": "3ba82c9c",
   "metadata": {},
   "outputs": [],
   "source": [
    "def complete_split(count):\n",
    "    all_in_one = []\n",
    "    for i in range(count):\n",
    "        all_in_one.append([])\n",
    "    \n",
    "    for i in range(len(all_group)):\n",
    "        splited_plus = all_group[i].split('+')\n",
    "\n",
    "        for j in splited_plus:\n",
    "            if '-' in j:\n",
    "                splited_minus = j.split('-')\n",
    "                \n",
    "                len_splites_minus = len(splited_minus)\n",
    "                for m in range(1,len_splites_minus):\n",
    "                    splited_minus[m-len_splites_minus] = '-' + splited_minus[m-len_splites_minus]\n",
    "                \n",
    "                for k in splited_minus:\n",
    "                    all_in_one[i].append(k)\n",
    "            else:\n",
    "                all_in_one[i].append(j)\n",
    "    return all_in_one"
   ]
  },
  {
   "cell_type": "code",
   "execution_count": 5,
   "id": "922f4003",
   "metadata": {},
   "outputs": [
    {
     "name": "stdout",
     "output_type": "stream",
     "text": [
      "[['A', '2*B^2'], ['B', '3C^3'], ['2*A', 'B', 'C']] \n",
      "\n"
     ]
    }
   ],
   "source": [
    "complete = complete_split(count)\n",
    "print(complete, '\\n')"
   ]
  },
  {
   "cell_type": "code",
   "execution_count": 6,
   "id": "ff26a345",
   "metadata": {},
   "outputs": [
    {
     "name": "stdout",
     "output_type": "stream",
     "text": [
      "+(A)(B)+(A)(3C^3)+(2*B^2)(B)+(2*B^2)(3C^3)+(B)(2*A)+(B)(B)+(B)(C)+(3C^3)(2*A)+(3C^3)(B)+(3C^3)(C)\n"
     ]
    }
   ],
   "source": [
    "finish = []\n",
    "for i in range(len(complete)-1):\n",
    "    for j in range(len(complete[i])):\n",
    "        for k in range(len(complete[i+1])):\n",
    "            finish.append(f'({complete[i][j]})({complete[i+1][k]})')\n",
    "\n",
    "end_finish = ''\n",
    "for i in finish:\n",
    "    end_finish += f'+{i}'\n",
    "\n",
    "print(end_finish)"
   ]
  },
  {
   "cell_type": "code",
   "execution_count": null,
   "id": "2b21dc88",
   "metadata": {},
   "outputs": [],
   "source": []
  }
 ],
 "metadata": {
  "kernelspec": {
   "display_name": "Python 3 (ipykernel)",
   "language": "python",
   "name": "python3"
  },
  "language_info": {
   "codemirror_mode": {
    "name": "ipython",
    "version": 3
   },
   "file_extension": ".py",
   "mimetype": "text/x-python",
   "name": "python",
   "nbconvert_exporter": "python",
   "pygments_lexer": "ipython3",
   "version": "3.8.11"
  }
 },
 "nbformat": 4,
 "nbformat_minor": 5
}
