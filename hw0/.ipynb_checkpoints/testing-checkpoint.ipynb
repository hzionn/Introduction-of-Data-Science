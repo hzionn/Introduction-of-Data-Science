{
 "cells": [
  {
   "cell_type": "code",
   "execution_count": 1,
   "id": "fcb31ff4",
   "metadata": {},
   "outputs": [],
   "source": [
    "with open('IMDB-Movie-Data.csv', 'r') as f:\n",
    "    contents = [line for line in f]\n",
    "    titles = contents[0].strip('\\n').split(',')\n",
    "    rows = [content.strip('\\n').split(',') for content in contents[1:]]"
   ]
  },
  {
   "cell_type": "code",
   "execution_count": 2,
   "id": "a7792221",
   "metadata": {},
   "outputs": [
    {
     "name": "stdout",
     "output_type": "stream",
     "text": [
      "1000\n"
     ]
    }
   ],
   "source": [
    "print(len(contents[1:]))"
   ]
  },
  {
   "cell_type": "code",
   "execution_count": 3,
   "id": "5241eec6",
   "metadata": {},
   "outputs": [
    {
     "name": "stdout",
     "output_type": "stream",
     "text": [
      "11\n",
      "['Rank', 'Title', 'Genre', 'Director', 'Actors', 'Year', 'Runtime (Minutes)', 'Rating', 'Votes', 'Revenue (Millions)', 'Metascore']\n"
     ]
    },
    {
     "data": {
      "text/plain": [
       "2"
      ]
     },
     "execution_count": 3,
     "metadata": {},
     "output_type": "execute_result"
    }
   ],
   "source": [
    "print(len(titles))\n",
    "print(titles)\n",
    "titles.index('Genre')"
   ]
  },
  {
   "cell_type": "code",
   "execution_count": 4,
   "id": "9bfcd15b",
   "metadata": {},
   "outputs": [
    {
     "data": {
      "text/plain": [
       "\"43,Don't Fuck in the Woods,Horror,Shawn Burkett,Brittany Blanton| Ayse Howard| Roman Jossart|Nadia White,2016,73,2.7,496,,\\n\""
      ]
     },
     "execution_count": 4,
     "metadata": {},
     "output_type": "execute_result"
    }
   ],
   "source": [
    "contents[-3]"
   ]
  },
  {
   "cell_type": "code",
   "execution_count": 5,
   "id": "62bd7ff2",
   "metadata": {},
   "outputs": [
    {
     "data": {
      "text/plain": [
       "\"43,Don't Fuck in the Woods,Horror,Shawn Burkett,Brittany Blanton| Ayse Howard| Roman Jossart|Nadia White,2016,73,2.7,496,,\""
      ]
     },
     "execution_count": 5,
     "metadata": {},
     "output_type": "execute_result"
    }
   ],
   "source": [
    "contents[-3].strip('\\n')"
   ]
  },
  {
   "cell_type": "code",
   "execution_count": 6,
   "id": "4abdcaf1",
   "metadata": {},
   "outputs": [
    {
     "data": {
      "text/plain": [
       "['43',\n",
       " \"Don't Fuck in the Woods\",\n",
       " 'Horror',\n",
       " 'Shawn Burkett',\n",
       " 'Brittany Blanton| Ayse Howard| Roman Jossart|Nadia White',\n",
       " '2016',\n",
       " '73',\n",
       " '2.7',\n",
       " '496',\n",
       " '',\n",
       " '']"
      ]
     },
     "execution_count": 6,
     "metadata": {},
     "output_type": "execute_result"
    }
   ],
   "source": [
    "contents[-3].strip('\\n').split(',')"
   ]
  },
  {
   "cell_type": "code",
   "execution_count": 7,
   "id": "4c0b09d8",
   "metadata": {},
   "outputs": [
    {
     "name": "stdout",
     "output_type": "stream",
     "text": [
      "['43', \"Don't Fuck in the Woods\", 'Horror', 'Shawn Burkett', 'Brittany Blanton| Ayse Howard| Roman Jossart|Nadia White', '2016', '73', '2.7', '496', '', '']\n"
     ]
    }
   ],
   "source": [
    "print(contents[-3].strip('\\n').split(','))"
   ]
  },
  {
   "cell_type": "code",
   "execution_count": 8,
   "id": "a1664cbe",
   "metadata": {},
   "outputs": [
    {
     "data": {
      "text/plain": [
       "['43',\n",
       " \"Don't Fuck in the Woods\",\n",
       " 'Horror',\n",
       " 'Shawn Burkett',\n",
       " 'Brittany Blanton| Ayse Howard| Roman Jossart|Nadia White',\n",
       " '2016',\n",
       " '73',\n",
       " '2.7',\n",
       " '496',\n",
       " '',\n",
       " '']"
      ]
     },
     "execution_count": 8,
     "metadata": {},
     "output_type": "execute_result"
    }
   ],
   "source": [
    "[row for row in rows][-3]"
   ]
  },
  {
   "cell_type": "code",
   "execution_count": null,
   "id": "edd70576",
   "metadata": {},
   "outputs": [],
   "source": []
  }
 ],
 "metadata": {
  "kernelspec": {
   "display_name": "Python 3 (ipykernel)",
   "language": "python",
   "name": "python3"
  },
  "language_info": {
   "codemirror_mode": {
    "name": "ipython",
    "version": 3
   },
   "file_extension": ".py",
   "mimetype": "text/x-python",
   "name": "python",
   "nbconvert_exporter": "python",
   "pygments_lexer": "ipython3",
   "version": "3.8.11"
  }
 },
 "nbformat": 4,
 "nbformat_minor": 5
}
