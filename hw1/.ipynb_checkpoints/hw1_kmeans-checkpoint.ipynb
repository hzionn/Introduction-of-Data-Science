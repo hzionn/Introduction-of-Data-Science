{
 "cells": [
  {
   "cell_type": "markdown",
   "id": "f8ed676e",
   "metadata": {},
   "source": [
    "# Problem 3: K‐means Clustering Implementation"
   ]
  },
  {
   "cell_type": "markdown",
   "id": "12dfada8",
   "metadata": {},
   "source": [
    "Your task is to use Python (along  with  numpy  and  Pandas) to implement the well‐known clustering algorithm, **K‐means**, based on a synthetic dataset `cdata.csv`. \n",
    "\n",
    "This dataset contains two data columns, *“X”* and *“Y”*, and one *“cluster”* column (1, 2, 3, and 4). \n",
    "\n",
    "In implementing K‐means, you need to use *“X” and “Y”* as **features** for clustering while the “cluster” column is for your validation. \n",
    "\n",
    "Note that it is not necessary to perfectly clustering all of the data points into clusters. \n",
    "\n",
    "**Also note that the “cluster” column cannot be used in clustering.**"
   ]
  },
  {
   "cell_type": "code",
   "execution_count": 1,
   "id": "6e02c2ca",
   "metadata": {},
   "outputs": [],
   "source": [
    "import pandas as pd # reading csv as input data\n",
    "from typing import List # for better code reading experience\n",
    "import matplotlib.pyplot as plt # data visualization\n",
    "import itertools, random, math #"
   ]
  },
  {
   "cell_type": "code",
   "execution_count": 2,
   "id": "23548507",
   "metadata": {},
   "outputs": [],
   "source": [
    "# we may use a python list with contains all float numbers to represent a Vector type object\n",
    "Vector = List[float]"
   ]
  },
  {
   "cell_type": "code",
   "execution_count": 3,
   "id": "37a380c1",
   "metadata": {},
   "outputs": [
    {
     "name": "stdout",
     "output_type": "stream",
     "text": [
      "[9, 12]\n"
     ]
    }
   ],
   "source": [
    "def vector_sum(vectors: List[Vector]) -> Vector:\n",
    "    '''sum all vector into one vector'''\n",
    "    num_elements = len(vectors[0])\n",
    "    return [sum(vector[i] for vector in vectors)\n",
    "            for i in range(num_elements)]\n",
    "\n",
    "print(vector_sum([[1, 2], [3, 4], [5, 6]]))"
   ]
  },
  {
   "cell_type": "code",
   "execution_count": 4,
   "id": "75f1bae9",
   "metadata": {},
   "outputs": [
    {
     "name": "stdout",
     "output_type": "stream",
     "text": [
      "[6, 9, 12]\n"
     ]
    }
   ],
   "source": [
    "def scalar_multiply(c: float, vector: Vector) -> Vector:\n",
    "    '''multiply a value c to each element in our Vector'''\n",
    "    return [c * ele for ele in vector]\n",
    "\n",
    "print(scalar_multiply(3, [2, 3, 4]))"
   ]
  },
  {
   "cell_type": "code",
   "execution_count": 5,
   "id": "9e1bc7f9",
   "metadata": {},
   "outputs": [
    {
     "name": "stdout",
     "output_type": "stream",
     "text": [
      "[3.0, 4.0]\n"
     ]
    }
   ],
   "source": [
    "def vector_mean(vectors: List[Vector]) -> Vector:\n",
    "    '''count mean by each element from '''\n",
    "    n = len(vectors)\n",
    "    return scalar_multiply(1/n, vector_sum(vectors))\n",
    "\n",
    "print(vector_mean([[1, 2], [3, 4], [5, 6]]))"
   ]
  },
  {
   "cell_type": "code",
   "execution_count": 6,
   "id": "4000eb92",
   "metadata": {},
   "outputs": [],
   "source": [
    "def dot(v: Vector, w: Vector) -> float:\n",
    "    return sum(v_i * w_i for v_i, w_i in zip(v, w))"
   ]
  },
  {
   "cell_type": "code",
   "execution_count": 7,
   "id": "83199f4d",
   "metadata": {},
   "outputs": [],
   "source": [
    "def subtract(v:Vector, w:Vector) -> Vector:\n",
    "    return [v_i - w_i for v_i, w_i in zip(v, w)]"
   ]
  },
  {
   "cell_type": "code",
   "execution_count": 8,
   "id": "6dc1c25f",
   "metadata": {},
   "outputs": [],
   "source": [
    "def squared_distance(v: Vector, w: Vector) -> float:\n",
    "    sum_of_squares = lambda v: dot(v, v)\n",
    "    return sum_of_squares(subtract(v, w))"
   ]
  },
  {
   "cell_type": "code",
   "execution_count": 9,
   "id": "25899577",
   "metadata": {},
   "outputs": [],
   "source": [
    "def distance(v: Vector, w:Vector) -> float:\n",
    "    '''count distance between Vector v and Vector w'''\n",
    "    return math.sqrt(squared_distance(v, w))"
   ]
  },
  {
   "cell_type": "code",
   "execution_count": 10,
   "id": "5d77841c",
   "metadata": {},
   "outputs": [
    {
     "name": "stdout",
     "output_type": "stream",
     "text": [
      "2\n"
     ]
    }
   ],
   "source": [
    "def num_differences(vector_1: Vector, vector_2: Vector) -> int:\n",
    "    '''use this to track element in two Vectors if they are different from each other'''\n",
    "    v1_v2 = zip(vector_1, vector_2)\n",
    "    return len([x1 for x1, x2 in v1_v2 if x1 != x2])\n",
    "\n",
    "print(num_differences([1, 2, 3], [2, 1, 3]))"
   ]
  },
  {
   "cell_type": "code",
   "execution_count": 11,
   "id": "1b254b04",
   "metadata": {},
   "outputs": [],
   "source": [
    "def cluster_mean(k: int, inputs: List[Vector], assignments: List[int]) -> List[Vector]:\n",
    "    clusters = [[] for _ in range(k)]\n",
    "    for input, assignment in zip(inputs, assignments):\n",
    "        clusters[assignment].append(input)\n",
    "    return [vector_mean(cluster) if cluster else random.choice(inputs)\n",
    "            for cluster in clusters]"
   ]
  },
  {
   "cell_type": "code",
   "execution_count": 12,
   "id": "feeb4061",
   "metadata": {},
   "outputs": [],
   "source": [
    "class KMeans:\n",
    "    '''K-Means object'''\n",
    "    \n",
    "    def __init__(self, k: int):\n",
    "        self.k = k   # cluster number\n",
    "        self.centroids = None\n",
    "    \n",
    "    def classify(self, input: Vector) -> int:\n",
    "        '''assign back to the nearest cluster'''\n",
    "        \n",
    "        return min(range(self.k), key=lambda i: squared_distance(input, self.centroids[i]))\n",
    "    \n",
    "    def fit(self, inputs: List[Vector], visualize=False, set_seed=None):\n",
    "        '''train our k-means model'''\n",
    "        \n",
    "        random.seed(set_seed)\n",
    "        \n",
    "        self.assignments = [random.randrange(self.k) for _ in inputs]\n",
    "        self.features = [feature for feature in inputs]\n",
    "        \n",
    "        step = 1\n",
    "        for _ in itertools.count():\n",
    "            # keep looping until converged, and quit loop with return\n",
    "\n",
    "            self.centroids = cluster_mean(self.k, inputs, self.assignments)\n",
    "            self.new_assignments = [self.classify(input) for input in inputs]\n",
    "\n",
    "            num_changed = num_differences(self.assignments, self.new_assignments)\n",
    "            if num_changed == 0:\n",
    "                return\n",
    "            self.assignments = self.new_assignments\n",
    "            self.centroids = cluster_mean(self.k, inputs, self.assignments)\n",
    "\n",
    "            if visualize == True:\n",
    "                # let user choose to show step or not to show step\n",
    "                plt.title(f'step {step}')\n",
    "                step += 1\n",
    "                colors = [\"orange\",\"pink\",\"blue\",\"brown\",\"red\",\"grey\",\"yellow\",\"green\"] * 10\n",
    "                f_a = [(i, j) for i, j in zip(inputs, self.assignments)]\n",
    "                type_0 = [point for point, color in f_a if color == 0]\n",
    "                type_1 = [point for point, color in f_a if color == 1]\n",
    "                type_2 = [point for point, color in f_a if color == 2]\n",
    "                type_3 = [point for point, color in f_a if color == 3]\n",
    "                type_4 = [point for point, color in f_a if color == 4]\n",
    "                plt.scatter([j[0] for j in type_0], [j[1] for j in type_0], color=colors[0])\n",
    "                plt.scatter([j[0] for j in type_1], [j[1] for j in type_1], color=colors[1])\n",
    "                plt.scatter([j[0] for j in type_2], [j[1] for j in type_2], color=colors[2])\n",
    "                plt.scatter([j[0] for j in type_3], [j[1] for j in type_3], color=colors[3])\n",
    "                plt.scatter([j[0] for j in type_4], [j[1] for j in type_4], color=colors[4])\n",
    "                plt.scatter([i[0] for i in model.centroids], [i[1] for i in model.centroids], marker='*', s=200, color='gold')\n",
    "                plt.show()"
   ]
  },
  {
   "cell_type": "code",
   "execution_count": 13,
   "id": "f66e378f",
   "metadata": {},
   "outputs": [],
   "source": [
    "df = pd.read_csv('cdata.csv')\n",
    "labels = [i for i in df.cluster]\n",
    "x1 = [i for i in df.x]\n",
    "x2 = [i for i in df.y]\n",
    "input_data = [[i, j] for i, j in zip(x1, x2)]"
   ]
  },
  {
   "cell_type": "markdown",
   "id": "194552b1",
   "metadata": {},
   "source": [
    "## (1) Randomly select data points as the initialized centroids. \n",
    "By default, please set K=4. Report and \n",
    "plot  the  process  until  convergence.  The  centroids  also  need  to  be  plotted.  An  example  is \n",
    "shown below. Note that it may not have 3 rounds (it can be 4 or 5 rounds, depend on initialized \n",
    "centroids)."
   ]
  },
  {
   "cell_type": "code",
   "execution_count": 14,
   "id": "3e1fc899",
   "metadata": {},
   "outputs": [
    {
     "data": {
      "image/png": "[encoded data removed]",
      "text/plain": [
       "<Figure size 432x288 with 1 Axes>"
      ]
     },
     "metadata": {
      "needs_background": "light"
     },
     "output_type": "display_data"
    },
    {
     "data": {
      "image/png": "[encoded data removed]",
      "text/plain": [
       "<Figure size 432x288 with 1 Axes>"
      ]
     },
     "metadata": {
      "needs_background": "light"
     },
     "output_type": "display_data"
    }
   ],
   "source": [
    "model = KMeans(4)\n",
    "model.fit(input_data, visualize=True)"
   ]
  },
  {
   "cell_type": "code",
   "execution_count": 15,
   "id": "4d2e0320",
   "metadata": {},
   "outputs": [
    {
     "data": {
      "text/plain": [
       "[[7.753689333333332, -1.3732426666666668],\n",
       " [0.8677146666666671, 1.9825840000000003],\n",
       " [2.830810666666667, -1.5843826666666665],\n",
       " [4.419069333333333, 0.9497333333333331]]"
      ]
     },
     "execution_count": 15,
     "metadata": {},
     "output_type": "execute_result"
    }
   ],
   "source": [
    "model.centroids"
   ]
  },
  {
   "cell_type": "markdown",
   "id": "586224bd",
   "metadata": {},
   "source": [
    "## (2) Re‐execute your K‐means clustering algorithm by changing K from 2 to 50 (from 2 to 10 is also okay). \n",
    "\n",
    "Plot the K value (x‐axis) vs. the value of Sum of Squared Error (SSE) (y‐axis) as below. \n",
    "\n",
    "Note that it is reasonable and acceptable if the curve is 凹凸不平."
   ]
  },
  {
   "cell_type": "code",
   "execution_count": 16,
   "id": "fb9a5fcd",
   "metadata": {},
   "outputs": [],
   "source": [
    "def count_errors(inputs: List[Vector], k: int) -> float:\n",
    "    ''''''\n",
    "    model = KMeans(k)\n",
    "    model.fit(inputs)\n",
    "    centroids = model.centroids\n",
    "    assignments = [model.classify(point) for point in inputs]\n",
    "    \n",
    "    return sum(squared_distance(point, centroids[cluster])\n",
    "               for point, cluster in zip(inputs, assignments))"
   ]
  },
  {
   "cell_type": "code",
   "execution_count": 17,
   "id": "557f4d76",
   "metadata": {},
   "outputs": [
    {
     "data": {
      "text/plain": [
       "<function matplotlib.pyplot.show(close=None, block=None)>"
      ]
     },
     "execution_count": 17,
     "metadata": {},
     "output_type": "execute_result"
    },
    {
     "data": {
      "image/png": "[encoded data removed]",
      "text/plain": [
       "<Figure size 432x288 with 1 Axes>"
      ]
     },
     "metadata": {
      "needs_background": "light"
     },
     "output_type": "display_data"
    }
   ],
   "source": [
    "ks = range(2, 21)\n",
    "errors = [count_errors(input_data, k) for k in ks]\n",
    "\n",
    "plt.plot(ks, errors)\n",
    "plt.xticks(ks)\n",
    "plt.xlabel('number of k')\n",
    "plt.ylabel('total squared error')\n",
    "plt.title('total error vs # of clusters')\n",
    "plt.show"
   ]
  },
  {
   "cell_type": "markdown",
   "id": "9ecdb901",
   "metadata": {},
   "source": [
    "## (3) Try 10 times of randomly initialized centroids, and plot their SSE values (y‐axis) such as below. "
   ]
  },
  {
   "cell_type": "code",
   "execution_count": 18,
   "id": "9f0dd6e6",
   "metadata": {},
   "outputs": [
    {
     "data": {
      "text/plain": [
       "<function matplotlib.pyplot.show(close=None, block=None)>"
      ]
     },
     "execution_count": 18,
     "metadata": {},
     "output_type": "execute_result"
    },
    {
     "data": {
      "image/png": "[encoded data removed]",
      "text/plain": [
       "<Figure size 432x288 with 1 Axes>"
      ]
     },
     "metadata": {
      "needs_background": "light"
     },
     "output_type": "display_data"
    }
   ],
   "source": [
    "times = range(10)\n",
    "k = 10\n",
    "errors = [count_errors(input_data, k) for _ in times]\n",
    "\n",
    "plt.bar(times, errors)\n",
    "plt.xticks(times)\n",
    "plt.xlabel('Fixed k = 10')\n",
    "plt.ylabel('SSE')\n",
    "plt.title('Results of 10 times randomly pick the initial point')\n",
    "plt.show"
   ]
  },
  {
   "cell_type": "code",
   "execution_count": null,
   "id": "c4ab469c",
   "metadata": {},
   "outputs": [],
   "source": []
  },
  {
   "cell_type": "code",
   "execution_count": null,
   "id": "24cec5bc",
   "metadata": {},
   "outputs": [],
   "source": []
  }
 ],
 "metadata": {
  "kernelspec": {
   "display_name": "Python 3 (ipykernel)",
   "language": "python",
   "name": "python3"
  },
  "language_info": {
   "codemirror_mode": {
    "name": "ipython",
    "version": 3
   },
   "file_extension": ".py",
   "mimetype": "text/x-python",
   "name": "python",
   "nbconvert_exporter": "python",
   "pygments_lexer": "ipython3",
   "version": "3.8.11"
  }
 },
 "nbformat": 4,
 "nbformat_minor": 5
}
