{
 "cells": [
  {
   "cell_type": "markdown",
   "id": "321f474d",
   "metadata": {},
   "source": [
    "# import all needed dependencies"
   ]
  },
  {
   "cell_type": "code",
   "execution_count": 1,
   "id": "eadb03e6",
   "metadata": {},
   "outputs": [],
   "source": [
    "import numpy as np\n",
    "import pandas as pd\n",
    "from keras import models, layers, metrics\n",
    "import matplotlib.pyplot as plt\n",
    "import seaborn as sns"
   ]
  },
  {
   "cell_type": "markdown",
   "id": "28e12446",
   "metadata": {},
   "source": [
    "# data preperation"
   ]
  },
  {
   "cell_type": "code",
   "execution_count": 2,
   "id": "689e2b8d",
   "metadata": {},
   "outputs": [],
   "source": [
    "df_train = pd.read_csv('../churn_prediction_data/train.csv')"
   ]
  },
  {
   "cell_type": "markdown",
   "id": "b70822d3",
   "metadata": {},
   "source": [
    "## take a look at the data"
   ]
  },
  {
   "cell_type": "code",
   "execution_count": 3,
   "id": "613f1e0f",
   "metadata": {},
   "outputs": [
    {
     "data": {
      "text/html": [
       "<div>\n",
       "<style scoped>\n",
       "    .dataframe tbody tr th:only-of-type {\n",
       "        vertical-align: middle;\n",
       "    }\n",
       "\n",
       "    .dataframe tbody tr th {\n",
       "        vertical-align: top;\n",
       "    }\n",
       "\n",
       "    .dataframe thead th {\n",
       "        text-align: right;\n",
       "    }\n",
       "</style>\n",
       "<table border=\"1\" class=\"dataframe\">\n",
       "  <thead>\n",
       "    <tr style=\"text-align: right;\">\n",
       "      <th></th>\n",
       "      <th>RowNumber</th>\n",
       "      <th>CustomerId</th>\n",
       "      <th>Surname</th>\n",
       "      <th>CreditScore</th>\n",
       "      <th>Geography</th>\n",
       "      <th>Gender</th>\n",
       "      <th>Age</th>\n",
       "      <th>Tenure</th>\n",
       "      <th>Balance</th>\n",
       "      <th>NumOfProducts</th>\n",
       "      <th>HasCrCard</th>\n",
       "      <th>IsActiveMember</th>\n",
       "      <th>EstimatedSalary</th>\n",
       "      <th>Exited</th>\n",
       "    </tr>\n",
       "  </thead>\n",
       "  <tbody>\n",
       "    <tr>\n",
       "      <th>0</th>\n",
       "      <td>551</td>\n",
       "      <td>15806307</td>\n",
       "      <td>Trevisano</td>\n",
       "      <td>720</td>\n",
       "      <td>Spain</td>\n",
       "      <td>Male</td>\n",
       "      <td>38</td>\n",
       "      <td>5</td>\n",
       "      <td>114051.97</td>\n",
       "      <td>2</td>\n",
       "      <td>0</td>\n",
       "      <td>1</td>\n",
       "      <td>107577.29</td>\n",
       "      <td>0</td>\n",
       "    </tr>\n",
       "    <tr>\n",
       "      <th>1</th>\n",
       "      <td>6897</td>\n",
       "      <td>15709621</td>\n",
       "      <td>Martin</td>\n",
       "      <td>682</td>\n",
       "      <td>France</td>\n",
       "      <td>Female</td>\n",
       "      <td>54</td>\n",
       "      <td>4</td>\n",
       "      <td>62397.41</td>\n",
       "      <td>1</td>\n",
       "      <td>1</td>\n",
       "      <td>0</td>\n",
       "      <td>113088.60</td>\n",
       "      <td>1</td>\n",
       "    </tr>\n",
       "    <tr>\n",
       "      <th>2</th>\n",
       "      <td>4588</td>\n",
       "      <td>15619340</td>\n",
       "      <td>Palmer</td>\n",
       "      <td>672</td>\n",
       "      <td>France</td>\n",
       "      <td>Female</td>\n",
       "      <td>31</td>\n",
       "      <td>5</td>\n",
       "      <td>119903.67</td>\n",
       "      <td>1</td>\n",
       "      <td>1</td>\n",
       "      <td>1</td>\n",
       "      <td>132925.17</td>\n",
       "      <td>0</td>\n",
       "    </tr>\n",
       "  </tbody>\n",
       "</table>\n",
       "</div>"
      ],
      "text/plain": [
       "   RowNumber  CustomerId    Surname  CreditScore Geography  Gender  Age  \\\n",
       "0        551    15806307  Trevisano          720     Spain    Male   38   \n",
       "1       6897    15709621     Martin          682    France  Female   54   \n",
       "2       4588    15619340     Palmer          672    France  Female   31   \n",
       "\n",
       "   Tenure    Balance  NumOfProducts  HasCrCard  IsActiveMember  \\\n",
       "0       5  114051.97              2          0               1   \n",
       "1       4   62397.41              1          1               0   \n",
       "2       5  119903.67              1          1               1   \n",
       "\n",
       "   EstimatedSalary  Exited  \n",
       "0        107577.29       0  \n",
       "1        113088.60       1  \n",
       "2        132925.17       0  "
      ]
     },
     "execution_count": 3,
     "metadata": {},
     "output_type": "execute_result"
    }
   ],
   "source": [
    "df_train.head(3)"
   ]
  },
  {
   "cell_type": "code",
   "execution_count": 4,
   "id": "69a9370e",
   "metadata": {},
   "outputs": [],
   "source": [
    "from sklearn import preprocessing\n",
    "lbl = preprocessing.LabelEncoder()\n",
    "df_train['Geography'] = lbl.fit_transform(df_train['Geography'].astype(str))\n",
    "df_train['Gender'] = lbl.fit_transform(df_train['Gender'].astype(str))"
   ]
  },
  {
   "cell_type": "code",
   "execution_count": 5,
   "id": "d6b11915",
   "metadata": {},
   "outputs": [],
   "source": [
    "#df_train['Gender'] = df_train['Gender'].replace({'Male': 0, 'Female': 1})\n",
    "#df_train.drop('Geography', inplace=True, axis=1)"
   ]
  },
  {
   "cell_type": "markdown",
   "id": "cac56139",
   "metadata": {},
   "source": [
    "## heatmap on features of train & test data"
   ]
  },
  {
   "cell_type": "code",
   "execution_count": 7,
   "id": "0cbed0b0",
   "metadata": {},
   "outputs": [
    {
     "data": {
      "text/plain": [
       "Text(0.5, 1.0, 'x_train')"
      ]
     },
     "execution_count": 7,
     "metadata": {},
     "output_type": "execute_result"
    },
    {
     "data": {
      "image/png": "[encoded data removed]",
      "text/plain": [
       "<Figure size 1440x360 with 3 Axes>"
      ]
     },
     "metadata": {
      "needs_background": "light"
     },
     "output_type": "display_data"
    }
   ],
   "source": [
    "fig, axes = plt.subplots(1, 2, figsize=(20, 5), sharex=True, sharey=True)\n",
    "#fig.suptitle('')\n",
    "\n",
    "train_data = df_train.loc[:, 'CreditScore': 'EstimatedSalary']\n",
    "\n",
    "sns.heatmap(train_data.corr(), ax=axes[0], annot=True)\n",
    "axes[0].set_title('x_train')"
   ]
  },
  {
   "cell_type": "markdown",
   "id": "5f2c711f",
   "metadata": {},
   "source": [
    "## checking label distribution on training data"
   ]
  },
  {
   "cell_type": "code",
   "execution_count": 8,
   "id": "a0486386",
   "metadata": {},
   "outputs": [
    {
     "name": "stdout",
     "output_type": "stream",
     "text": [
      "[0 1]\n",
      "0    6368\n",
      "1    1632\n",
      "Name: Exited, dtype: int64\n"
     ]
    }
   ],
   "source": [
    "print(df_train.Exited.unique())\n",
    "print(df_train.Exited.value_counts())"
   ]
  },
  {
   "cell_type": "markdown",
   "id": "0320a1fd",
   "metadata": {},
   "source": [
    "###### (must be careful on imbalance label)"
   ]
  },
  {
   "cell_type": "markdown",
   "id": "151b135a",
   "metadata": {},
   "source": [
    "## x-y preperation"
   ]
  },
  {
   "cell_type": "code",
   "execution_count": 9,
   "id": "c17fbc3c",
   "metadata": {},
   "outputs": [],
   "source": [
    "train_data = df_train.loc[:, 'CreditScore': 'EstimatedSalary']\n",
    "train_label = df_train['Exited']"
   ]
  },
  {
   "cell_type": "code",
   "execution_count": 10,
   "id": "08903f9e",
   "metadata": {},
   "outputs": [],
   "source": [
    "from sklearn.model_selection import train_test_split\n",
    "x_train, x_test, y_train, y_test = train_test_split(train_data, train_label, test_size = 0.25, random_state = 48)"
   ]
  },
  {
   "cell_type": "code",
   "execution_count": 11,
   "id": "99114163",
   "metadata": {},
   "outputs": [],
   "source": [
    "from sklearn.preprocessing import StandardScaler\n",
    "scaler = StandardScaler()\n",
    "x_train_standardized = scaler.fit_transform(x_train)\n",
    "x_test_standardized = scaler.transform(x_test)"
   ]
  },
  {
   "cell_type": "code",
   "execution_count": 12,
   "id": "ea2f9bea",
   "metadata": {},
   "outputs": [],
   "source": [
    "from keras.utils import np_utils\n",
    "y_train = np_utils.to_categorical(y_train)\n",
    "y_test = np_utils.to_categorical(y_test)"
   ]
  },
  {
   "cell_type": "code",
   "execution_count": 13,
   "id": "edd1496f",
   "metadata": {},
   "outputs": [
    {
     "data": {
      "text/plain": [
       "((6000, 2), (2000, 2))"
      ]
     },
     "execution_count": 13,
     "metadata": {},
     "output_type": "execute_result"
    }
   ],
   "source": [
    "y_train.shape, y_test.shape"
   ]
  },
  {
   "cell_type": "code",
   "execution_count": 14,
   "id": "278388da",
   "metadata": {},
   "outputs": [
    {
     "data": {
      "text/html": [
       "<div>\n",
       "<style scoped>\n",
       "    .dataframe tbody tr th:only-of-type {\n",
       "        vertical-align: middle;\n",
       "    }\n",
       "\n",
       "    .dataframe tbody tr th {\n",
       "        vertical-align: top;\n",
       "    }\n",
       "\n",
       "    .dataframe thead th {\n",
       "        text-align: right;\n",
       "    }\n",
       "</style>\n",
       "<table border=\"1\" class=\"dataframe\">\n",
       "  <thead>\n",
       "    <tr style=\"text-align: right;\">\n",
       "      <th></th>\n",
       "      <th>CreditScore</th>\n",
       "      <th>Geography</th>\n",
       "      <th>Gender</th>\n",
       "      <th>Age</th>\n",
       "      <th>Tenure</th>\n",
       "      <th>Balance</th>\n",
       "      <th>NumOfProducts</th>\n",
       "      <th>HasCrCard</th>\n",
       "      <th>IsActiveMember</th>\n",
       "      <th>EstimatedSalary</th>\n",
       "    </tr>\n",
       "  </thead>\n",
       "  <tbody>\n",
       "    <tr>\n",
       "      <th>82</th>\n",
       "      <td>542</td>\n",
       "      <td>0</td>\n",
       "      <td>0</td>\n",
       "      <td>44</td>\n",
       "      <td>3</td>\n",
       "      <td>62397.41</td>\n",
       "      <td>2</td>\n",
       "      <td>1</td>\n",
       "      <td>0</td>\n",
       "      <td>71012.75</td>\n",
       "    </tr>\n",
       "    <tr>\n",
       "      <th>7150</th>\n",
       "      <td>631</td>\n",
       "      <td>2</td>\n",
       "      <td>1</td>\n",
       "      <td>42</td>\n",
       "      <td>3</td>\n",
       "      <td>62397.41</td>\n",
       "      <td>3</td>\n",
       "      <td>1</td>\n",
       "      <td>0</td>\n",
       "      <td>85994.11</td>\n",
       "    </tr>\n",
       "    <tr>\n",
       "      <th>4900</th>\n",
       "      <td>689</td>\n",
       "      <td>0</td>\n",
       "      <td>1</td>\n",
       "      <td>41</td>\n",
       "      <td>5</td>\n",
       "      <td>133969.11</td>\n",
       "      <td>1</td>\n",
       "      <td>1</td>\n",
       "      <td>1</td>\n",
       "      <td>139697.67</td>\n",
       "    </tr>\n",
       "    <tr>\n",
       "      <th>2228</th>\n",
       "      <td>643</td>\n",
       "      <td>0</td>\n",
       "      <td>0</td>\n",
       "      <td>49</td>\n",
       "      <td>5</td>\n",
       "      <td>122594.60</td>\n",
       "      <td>1</td>\n",
       "      <td>0</td>\n",
       "      <td>1</td>\n",
       "      <td>85570.47</td>\n",
       "    </tr>\n",
       "    <tr>\n",
       "      <th>4488</th>\n",
       "      <td>711</td>\n",
       "      <td>0</td>\n",
       "      <td>1</td>\n",
       "      <td>36</td>\n",
       "      <td>6</td>\n",
       "      <td>62397.41</td>\n",
       "      <td>2</td>\n",
       "      <td>0</td>\n",
       "      <td>0</td>\n",
       "      <td>130631.04</td>\n",
       "    </tr>\n",
       "    <tr>\n",
       "      <th>...</th>\n",
       "      <td>...</td>\n",
       "      <td>...</td>\n",
       "      <td>...</td>\n",
       "      <td>...</td>\n",
       "      <td>...</td>\n",
       "      <td>...</td>\n",
       "      <td>...</td>\n",
       "      <td>...</td>\n",
       "      <td>...</td>\n",
       "      <td>...</td>\n",
       "    </tr>\n",
       "    <tr>\n",
       "      <th>3860</th>\n",
       "      <td>671</td>\n",
       "      <td>0</td>\n",
       "      <td>1</td>\n",
       "      <td>37</td>\n",
       "      <td>6</td>\n",
       "      <td>117472.16</td>\n",
       "      <td>2</td>\n",
       "      <td>1</td>\n",
       "      <td>1</td>\n",
       "      <td>79397.91</td>\n",
       "    </tr>\n",
       "    <tr>\n",
       "      <th>1644</th>\n",
       "      <td>572</td>\n",
       "      <td>2</td>\n",
       "      <td>0</td>\n",
       "      <td>32</td>\n",
       "      <td>3</td>\n",
       "      <td>62397.41</td>\n",
       "      <td>2</td>\n",
       "      <td>0</td>\n",
       "      <td>1</td>\n",
       "      <td>141578.81</td>\n",
       "    </tr>\n",
       "    <tr>\n",
       "      <th>7954</th>\n",
       "      <td>569</td>\n",
       "      <td>0</td>\n",
       "      <td>0</td>\n",
       "      <td>31</td>\n",
       "      <td>5</td>\n",
       "      <td>132308.54</td>\n",
       "      <td>1</td>\n",
       "      <td>1</td>\n",
       "      <td>0</td>\n",
       "      <td>112700.04</td>\n",
       "    </tr>\n",
       "    <tr>\n",
       "      <th>5437</th>\n",
       "      <td>614</td>\n",
       "      <td>2</td>\n",
       "      <td>1</td>\n",
       "      <td>47</td>\n",
       "      <td>3</td>\n",
       "      <td>104277.57</td>\n",
       "      <td>1</td>\n",
       "      <td>0</td>\n",
       "      <td>1</td>\n",
       "      <td>91856.46</td>\n",
       "    </tr>\n",
       "    <tr>\n",
       "      <th>5839</th>\n",
       "      <td>637</td>\n",
       "      <td>2</td>\n",
       "      <td>0</td>\n",
       "      <td>35</td>\n",
       "      <td>5</td>\n",
       "      <td>110324.80</td>\n",
       "      <td>1</td>\n",
       "      <td>0</td>\n",
       "      <td>0</td>\n",
       "      <td>100977.09</td>\n",
       "    </tr>\n",
       "  </tbody>\n",
       "</table>\n",
       "<p>2000 rows × 10 columns</p>\n",
       "</div>"
      ],
      "text/plain": [
       "      CreditScore  Geography  Gender  Age  Tenure    Balance  NumOfProducts  \\\n",
       "82            542          0       0   44       3   62397.41              2   \n",
       "7150          631          2       1   42       3   62397.41              3   \n",
       "4900          689          0       1   41       5  133969.11              1   \n",
       "2228          643          0       0   49       5  122594.60              1   \n",
       "4488          711          0       1   36       6   62397.41              2   \n",
       "...           ...        ...     ...  ...     ...        ...            ...   \n",
       "3860          671          0       1   37       6  117472.16              2   \n",
       "1644          572          2       0   32       3   62397.41              2   \n",
       "7954          569          0       0   31       5  132308.54              1   \n",
       "5437          614          2       1   47       3  104277.57              1   \n",
       "5839          637          2       0   35       5  110324.80              1   \n",
       "\n",
       "      HasCrCard  IsActiveMember  EstimatedSalary  \n",
       "82            1               0         71012.75  \n",
       "7150          1               0         85994.11  \n",
       "4900          1               1        139697.67  \n",
       "2228          0               1         85570.47  \n",
       "4488          0               0        130631.04  \n",
       "...         ...             ...              ...  \n",
       "3860          1               1         79397.91  \n",
       "1644          0               1        141578.81  \n",
       "7954          1               0        112700.04  \n",
       "5437          0               1         91856.46  \n",
       "5839          0               0        100977.09  \n",
       "\n",
       "[2000 rows x 10 columns]"
      ]
     },
     "execution_count": 14,
     "metadata": {},
     "output_type": "execute_result"
    }
   ],
   "source": [
    "x_test"
   ]
  },
  {
   "cell_type": "code",
   "execution_count": 15,
   "id": "e7363741",
   "metadata": {},
   "outputs": [
    {
     "data": {
      "text/plain": [
       "array([0., 1.], dtype=float32)"
      ]
     },
     "execution_count": 15,
     "metadata": {},
     "output_type": "execute_result"
    }
   ],
   "source": [
    "y_test[1]"
   ]
  },
  {
   "cell_type": "markdown",
   "id": "f429c954",
   "metadata": {},
   "source": [
    "## model training"
   ]
  },
  {
   "cell_type": "code",
   "execution_count": 16,
   "id": "77f20692",
   "metadata": {},
   "outputs": [
    {
     "name": "stderr",
     "output_type": "stream",
     "text": [
      "2021-12-03 02:29:05.948464: I tensorflow/core/platform/cpu_feature_guard.cc:142] This TensorFlow binary is optimized with oneAPI Deep Neural Network Library (oneDNN) to use the following CPU instructions in performance-critical operations:  AVX2 FMA\n",
      "To enable them in other operations, rebuild TensorFlow with the appropriate compiler flags.\n"
     ]
    }
   ],
   "source": [
    "import tensorflow_addons as tfa\n",
    "METRICS = [\n",
    "    'accuracy', \n",
    "    metrics.Precision(name='precision', thresholds=0.7), \n",
    "    tfa.metrics.F1Score(num_classes=2)\n",
    "]"
   ]
  },
  {
   "cell_type": "code",
   "execution_count": 17,
   "id": "3375e4d3",
   "metadata": {},
   "outputs": [
    {
     "name": "stdout",
     "output_type": "stream",
     "text": [
      "Model: \"sequential\"\n",
      "_________________________________________________________________\n",
      "Layer (type)                 Output Shape              Param #   \n",
      "=================================================================\n",
      "dense (Dense)                (None, 9)                 99        \n",
      "_________________________________________________________________\n",
      "dense_1 (Dense)              (None, 18)                180       \n",
      "_________________________________________________________________\n",
      "dense_2 (Dense)              (None, 18)                342       \n",
      "_________________________________________________________________\n",
      "dense_3 (Dense)              (None, 9)                 171       \n",
      "_________________________________________________________________\n",
      "dense_4 (Dense)              (None, 9)                 90        \n",
      "_________________________________________________________________\n",
      "dense_5 (Dense)              (None, 2)                 20        \n",
      "=================================================================\n",
      "Total params: 902\n",
      "Trainable params: 902\n",
      "Non-trainable params: 0\n",
      "_________________________________________________________________\n"
     ]
    }
   ],
   "source": [
    "from keras import regularizers\n",
    "number_of_features = x_train_standardized.shape[1]\n",
    "\n",
    "network = models.Sequential()\n",
    "network.add(layers.Dense(units=9, activation='relu', input_dim=number_of_features))\n",
    "network.add(layers.Dense(units=18, activation='relu'))\n",
    "network.add(layers.Dense(units=18, activation='relu', kernel_regularizer=regularizers.l2(0.01))) #kernel_regularizer=regularizers.l2(0.01)\n",
    "network.add(layers.Dense(units=9, activation='relu', kernel_regularizer=regularizers.l2(0.01)))\n",
    "network.add(layers.Dense(units=9, activation='relu'))\n",
    "network.add(layers.Dense(units=2, activation='sigmoid'))\n",
    "\n",
    "network.compile(\n",
    "    loss='binary_crossentropy', \n",
    "    optimizer='rmsprop', \n",
    "    metrics=METRICS)\n",
    "\n",
    "network.summary()"
   ]
  },
  {
   "cell_type": "code",
   "execution_count": 18,
   "id": "86082c63",
   "metadata": {},
   "outputs": [
    {
     "name": "stderr",
     "output_type": "stream",
     "text": [
      "2021-12-03 02:29:06.088173: I tensorflow/compiler/mlir/mlir_graph_optimization_pass.cc:185] None of the MLIR Optimization Passes are enabled (registered 2)\n"
     ]
    },
    {
     "name": "stdout",
     "output_type": "stream",
     "text": [
      "Epoch 1/150\n",
      "120/120 [==============================] - 1s 4ms/step - loss: 0.8044 - accuracy: 0.7452 - precision: 0.8449 - f1_score: 0.4931 - val_loss: 0.6166 - val_accuracy: 0.8070 - val_precision: 0.8459 - val_f1_score: 0.4466\n",
      "Epoch 2/150\n",
      "120/120 [==============================] - 0s 1ms/step - loss: 0.5682 - accuracy: 0.7923 - precision: 0.8286 - f1_score: 0.4421 - val_loss: 0.5021 - val_accuracy: 0.8070 - val_precision: 0.8527 - val_f1_score: 0.4466\n",
      "Epoch 3/150\n",
      "120/120 [==============================] - 0s 1ms/step - loss: 0.4969 - accuracy: 0.7923 - precision: 0.8480 - f1_score: 0.4421 - val_loss: 0.4625 - val_accuracy: 0.8070 - val_precision: 0.8708 - val_f1_score: 0.4466\n",
      "Epoch 4/150\n",
      "120/120 [==============================] - 0s 1ms/step - loss: 0.4712 - accuracy: 0.7923 - precision: 0.8584 - f1_score: 0.4421 - val_loss: 0.4481 - val_accuracy: 0.8070 - val_precision: 0.8719 - val_f1_score: 0.4466\n",
      "Epoch 5/150\n",
      "120/120 [==============================] - 0s 1ms/step - loss: 0.4604 - accuracy: 0.7923 - precision: 0.8637 - f1_score: 0.4421 - val_loss: 0.4402 - val_accuracy: 0.8070 - val_precision: 0.8768 - val_f1_score: 0.4466\n",
      "Epoch 6/150\n",
      "120/120 [==============================] - 0s 2ms/step - loss: 0.4531 - accuracy: 0.7923 - precision: 0.8683 - f1_score: 0.4421 - val_loss: 0.4354 - val_accuracy: 0.8075 - val_precision: 0.8777 - val_f1_score: 0.4493\n",
      "Epoch 7/150\n",
      "120/120 [==============================] - 0s 1ms/step - loss: 0.4474 - accuracy: 0.8063 - precision: 0.8690 - f1_score: 0.5365 - val_loss: 0.4323 - val_accuracy: 0.8365 - val_precision: 0.8843 - val_f1_score: 0.6282\n",
      "Epoch 8/150\n",
      "120/120 [==============================] - 0s 2ms/step - loss: 0.4430 - accuracy: 0.8163 - precision: 0.8706 - f1_score: 0.5936 - val_loss: 0.4272 - val_accuracy: 0.8340 - val_precision: 0.8794 - val_f1_score: 0.6139\n",
      "Epoch 9/150\n",
      "120/120 [==============================] - 0s 2ms/step - loss: 0.4393 - accuracy: 0.8163 - precision: 0.8724 - f1_score: 0.6056 - val_loss: 0.4246 - val_accuracy: 0.8335 - val_precision: 0.8764 - val_f1_score: 0.6134\n",
      "Epoch 10/150\n",
      "120/120 [==============================] - 0s 2ms/step - loss: 0.4363 - accuracy: 0.8192 - precision: 0.8729 - f1_score: 0.6240 - val_loss: 0.4214 - val_accuracy: 0.8370 - val_precision: 0.8822 - val_f1_score: 0.6466\n",
      "Epoch 11/150\n",
      "120/120 [==============================] - 0s 1ms/step - loss: 0.4335 - accuracy: 0.8198 - precision: 0.8733 - f1_score: 0.6365 - val_loss: 0.4206 - val_accuracy: 0.8395 - val_precision: 0.8891 - val_f1_score: 0.6682\n",
      "Epoch 12/150\n",
      "120/120 [==============================] - 0s 1ms/step - loss: 0.4308 - accuracy: 0.8220 - precision: 0.8753 - f1_score: 0.6464 - val_loss: 0.4165 - val_accuracy: 0.8380 - val_precision: 0.8780 - val_f1_score: 0.6477\n",
      "Epoch 13/150\n",
      "120/120 [==============================] - 0s 1ms/step - loss: 0.4280 - accuracy: 0.8220 - precision: 0.8755 - f1_score: 0.6491 - val_loss: 0.4142 - val_accuracy: 0.8365 - val_precision: 0.8900 - val_f1_score: 0.6679\n",
      "Epoch 14/150\n",
      "120/120 [==============================] - 0s 1ms/step - loss: 0.4250 - accuracy: 0.8235 - precision: 0.8768 - f1_score: 0.6603 - val_loss: 0.4102 - val_accuracy: 0.8400 - val_precision: 0.8855 - val_f1_score: 0.6678\n",
      "Epoch 15/150\n",
      "120/120 [==============================] - 0s 1ms/step - loss: 0.4218 - accuracy: 0.8248 - precision: 0.8773 - f1_score: 0.6598 - val_loss: 0.4082 - val_accuracy: 0.8385 - val_precision: 0.8928 - val_f1_score: 0.6766\n",
      "Epoch 16/150\n",
      "120/120 [==============================] - 0s 1ms/step - loss: 0.4188 - accuracy: 0.8277 - precision: 0.8814 - f1_score: 0.6725 - val_loss: 0.4043 - val_accuracy: 0.8405 - val_precision: 0.8915 - val_f1_score: 0.6751\n",
      "Epoch 17/150\n",
      "120/120 [==============================] - 0s 1ms/step - loss: 0.4155 - accuracy: 0.8277 - precision: 0.8831 - f1_score: 0.6699 - val_loss: 0.4007 - val_accuracy: 0.8445 - val_precision: 0.8946 - val_f1_score: 0.6869\n",
      "Epoch 18/150\n",
      "120/120 [==============================] - 0s 1ms/step - loss: 0.4115 - accuracy: 0.8312 - precision: 0.8868 - f1_score: 0.6784 - val_loss: 0.3973 - val_accuracy: 0.8465 - val_precision: 0.8912 - val_f1_score: 0.6909\n",
      "Epoch 19/150\n",
      "120/120 [==============================] - 0s 1ms/step - loss: 0.4078 - accuracy: 0.8322 - precision: 0.8859 - f1_score: 0.6847 - val_loss: 0.3992 - val_accuracy: 0.8490 - val_precision: 0.9030 - val_f1_score: 0.7184\n",
      "Epoch 20/150\n",
      "120/120 [==============================] - 0s 1ms/step - loss: 0.4040 - accuracy: 0.8348 - precision: 0.8903 - f1_score: 0.6911 - val_loss: 0.3884 - val_accuracy: 0.8520 - val_precision: 0.8908 - val_f1_score: 0.7016\n",
      "Epoch 21/150\n",
      "120/120 [==============================] - 0s 1ms/step - loss: 0.3995 - accuracy: 0.8362 - precision: 0.8891 - f1_score: 0.6946 - val_loss: 0.3848 - val_accuracy: 0.8560 - val_precision: 0.8998 - val_f1_score: 0.7176\n",
      "Epoch 22/150\n",
      "120/120 [==============================] - 0s 1ms/step - loss: 0.3958 - accuracy: 0.8378 - precision: 0.8897 - f1_score: 0.6982 - val_loss: 0.3794 - val_accuracy: 0.8555 - val_precision: 0.8996 - val_f1_score: 0.7131\n",
      "Epoch 23/150\n",
      "120/120 [==============================] - 0s 1ms/step - loss: 0.3915 - accuracy: 0.8393 - precision: 0.8912 - f1_score: 0.7006 - val_loss: 0.3778 - val_accuracy: 0.8590 - val_precision: 0.8992 - val_f1_score: 0.7330\n",
      "Epoch 24/150\n",
      "120/120 [==============================] - 0s 1ms/step - loss: 0.3874 - accuracy: 0.8415 - precision: 0.8959 - f1_score: 0.7087 - val_loss: 0.3717 - val_accuracy: 0.8605 - val_precision: 0.9008 - val_f1_score: 0.7276\n",
      "Epoch 25/150\n",
      "120/120 [==============================] - 0s 1ms/step - loss: 0.3835 - accuracy: 0.8438 - precision: 0.8933 - f1_score: 0.7116 - val_loss: 0.3691 - val_accuracy: 0.8630 - val_precision: 0.9038 - val_f1_score: 0.7392\n",
      "Epoch 26/150\n",
      "120/120 [==============================] - 0s 1ms/step - loss: 0.3802 - accuracy: 0.8475 - precision: 0.8947 - f1_score: 0.7220 - val_loss: 0.3669 - val_accuracy: 0.8625 - val_precision: 0.9075 - val_f1_score: 0.7399\n",
      "Epoch 27/150\n",
      "120/120 [==============================] - 0s 1ms/step - loss: 0.3762 - accuracy: 0.8483 - precision: 0.8993 - f1_score: 0.7237 - val_loss: 0.3616 - val_accuracy: 0.8625 - val_precision: 0.8993 - val_f1_score: 0.7223\n",
      "Epoch 28/150\n",
      "120/120 [==============================] - 0s 1ms/step - loss: 0.3735 - accuracy: 0.8472 - precision: 0.9003 - f1_score: 0.7214 - val_loss: 0.3593 - val_accuracy: 0.8660 - val_precision: 0.9052 - val_f1_score: 0.7429\n",
      "Epoch 29/150\n",
      "120/120 [==============================] - 0s 1ms/step - loss: 0.3704 - accuracy: 0.8503 - precision: 0.9002 - f1_score: 0.7282 - val_loss: 0.3567 - val_accuracy: 0.8680 - val_precision: 0.9012 - val_f1_score: 0.7346\n",
      "Epoch 30/150\n",
      "120/120 [==============================] - 0s 1ms/step - loss: 0.3676 - accuracy: 0.8518 - precision: 0.9006 - f1_score: 0.7302 - val_loss: 0.3545 - val_accuracy: 0.8680 - val_precision: 0.9031 - val_f1_score: 0.7368\n",
      "Epoch 31/150\n",
      "120/120 [==============================] - 0s 1ms/step - loss: 0.3662 - accuracy: 0.8505 - precision: 0.8989 - f1_score: 0.7275 - val_loss: 0.3539 - val_accuracy: 0.8690 - val_precision: 0.9082 - val_f1_score: 0.7545\n",
      "Epoch 32/150\n",
      "120/120 [==============================] - 0s 1ms/step - loss: 0.3641 - accuracy: 0.8508 - precision: 0.9019 - f1_score: 0.7294 - val_loss: 0.3527 - val_accuracy: 0.8685 - val_precision: 0.9073 - val_f1_score: 0.7545\n",
      "Epoch 33/150\n",
      "120/120 [==============================] - 0s 1ms/step - loss: 0.3622 - accuracy: 0.8533 - precision: 0.9016 - f1_score: 0.7336 - val_loss: 0.3504 - val_accuracy: 0.8700 - val_precision: 0.9013 - val_f1_score: 0.7423\n",
      "Epoch 34/150\n",
      "120/120 [==============================] - 0s 1ms/step - loss: 0.3609 - accuracy: 0.8548 - precision: 0.9019 - f1_score: 0.7375 - val_loss: 0.3497 - val_accuracy: 0.8635 - val_precision: 0.9045 - val_f1_score: 0.7412\n",
      "Epoch 35/150\n",
      "120/120 [==============================] - 0s 1ms/step - loss: 0.3594 - accuracy: 0.8518 - precision: 0.9049 - f1_score: 0.7310 - val_loss: 0.3475 - val_accuracy: 0.8660 - val_precision: 0.9082 - val_f1_score: 0.7469\n",
      "Epoch 36/150\n",
      "120/120 [==============================] - 0s 1ms/step - loss: 0.3578 - accuracy: 0.8537 - precision: 0.9046 - f1_score: 0.7349 - val_loss: 0.3472 - val_accuracy: 0.8700 - val_precision: 0.9025 - val_f1_score: 0.7465\n",
      "Epoch 37/150\n",
      "120/120 [==============================] - 0s 1ms/step - loss: 0.3570 - accuracy: 0.8548 - precision: 0.9048 - f1_score: 0.7356 - val_loss: 0.3449 - val_accuracy: 0.8690 - val_precision: 0.9024 - val_f1_score: 0.7445\n",
      "Epoch 38/150\n",
      "120/120 [==============================] - 0s 1ms/step - loss: 0.3560 - accuracy: 0.8560 - precision: 0.9036 - f1_score: 0.7404 - val_loss: 0.3446 - val_accuracy: 0.8665 - val_precision: 0.9061 - val_f1_score: 0.7448\n",
      "Epoch 39/150\n",
      "120/120 [==============================] - 0s 1ms/step - loss: 0.3549 - accuracy: 0.8562 - precision: 0.9049 - f1_score: 0.7395 - val_loss: 0.3452 - val_accuracy: 0.8705 - val_precision: 0.9043 - val_f1_score: 0.7498\n",
      "Epoch 40/150\n",
      "120/120 [==============================] - 0s 1ms/step - loss: 0.3537 - accuracy: 0.8560 - precision: 0.9033 - f1_score: 0.7398 - val_loss: 0.3457 - val_accuracy: 0.8680 - val_precision: 0.9035 - val_f1_score: 0.7426\n",
      "Epoch 41/150\n",
      "120/120 [==============================] - 0s 1ms/step - loss: 0.3538 - accuracy: 0.8565 - precision: 0.9048 - f1_score: 0.7391 - val_loss: 0.3431 - val_accuracy: 0.8680 - val_precision: 0.9011 - val_f1_score: 0.7440\n",
      "Epoch 42/150\n",
      "120/120 [==============================] - 0s 1ms/step - loss: 0.3525 - accuracy: 0.8583 - precision: 0.9039 - f1_score: 0.7434 - val_loss: 0.3425 - val_accuracy: 0.8665 - val_precision: 0.9041 - val_f1_score: 0.7428\n",
      "Epoch 43/150\n",
      "120/120 [==============================] - 0s 1ms/step - loss: 0.3522 - accuracy: 0.8577 - precision: 0.9062 - f1_score: 0.7424 - val_loss: 0.3439 - val_accuracy: 0.8655 - val_precision: 0.9085 - val_f1_score: 0.7495\n",
      "Epoch 44/150\n",
      "120/120 [==============================] - 0s 1ms/step - loss: 0.3512 - accuracy: 0.8577 - precision: 0.9041 - f1_score: 0.7430 - val_loss: 0.3410 - val_accuracy: 0.8680 - val_precision: 0.9026 - val_f1_score: 0.7412\n",
      "Epoch 45/150\n",
      "120/120 [==============================] - 0s 1ms/step - loss: 0.3509 - accuracy: 0.8565 - precision: 0.9057 - f1_score: 0.7408 - val_loss: 0.3419 - val_accuracy: 0.8675 - val_precision: 0.9003 - val_f1_score: 0.7369\n",
      "Epoch 46/150\n",
      "120/120 [==============================] - 0s 1ms/step - loss: 0.3497 - accuracy: 0.8592 - precision: 0.9032 - f1_score: 0.7446 - val_loss: 0.3509 - val_accuracy: 0.8635 - val_precision: 0.9095 - val_f1_score: 0.7612\n",
      "Epoch 47/150\n",
      "120/120 [==============================] - 0s 1ms/step - loss: 0.3503 - accuracy: 0.8570 - precision: 0.9058 - f1_score: 0.7411 - val_loss: 0.3411 - val_accuracy: 0.8675 - val_precision: 0.9019 - val_f1_score: 0.7427\n",
      "Epoch 48/150\n",
      "120/120 [==============================] - 0s 1ms/step - loss: 0.3490 - accuracy: 0.8592 - precision: 0.9048 - f1_score: 0.7466 - val_loss: 0.3463 - val_accuracy: 0.8670 - val_precision: 0.9074 - val_f1_score: 0.7610\n",
      "Epoch 49/150\n",
      "120/120 [==============================] - 0s 1ms/step - loss: 0.3499 - accuracy: 0.8578 - precision: 0.9067 - f1_score: 0.7452 - val_loss: 0.3407 - val_accuracy: 0.8675 - val_precision: 0.9042 - val_f1_score: 0.7434\n",
      "Epoch 50/150\n",
      "120/120 [==============================] - 0s 1ms/step - loss: 0.3488 - accuracy: 0.8577 - precision: 0.9058 - f1_score: 0.7421 - val_loss: 0.3422 - val_accuracy: 0.8665 - val_precision: 0.9011 - val_f1_score: 0.7435\n",
      "Epoch 51/150\n",
      "120/120 [==============================] - 0s 1ms/step - loss: 0.3478 - accuracy: 0.8605 - precision: 0.9057 - f1_score: 0.7494 - val_loss: 0.3397 - val_accuracy: 0.8670 - val_precision: 0.8995 - val_f1_score: 0.7427\n",
      "Epoch 52/150\n",
      "120/120 [==============================] - 0s 1ms/step - loss: 0.3482 - accuracy: 0.8565 - precision: 0.9060 - f1_score: 0.7422 - val_loss: 0.3404 - val_accuracy: 0.8670 - val_precision: 0.9009 - val_f1_score: 0.7427\n",
      "Epoch 53/150\n",
      "120/120 [==============================] - 0s 1ms/step - loss: 0.3476 - accuracy: 0.8565 - precision: 0.9047 - f1_score: 0.7414 - val_loss: 0.3448 - val_accuracy: 0.8680 - val_precision: 0.9110 - val_f1_score: 0.7575\n",
      "Epoch 54/150\n",
      "120/120 [==============================] - 0s 1ms/step - loss: 0.3474 - accuracy: 0.8587 - precision: 0.9073 - f1_score: 0.7438 - val_loss: 0.3405 - val_accuracy: 0.8670 - val_precision: 0.8990 - val_f1_score: 0.7448\n",
      "Epoch 55/150\n",
      "120/120 [==============================] - 0s 2ms/step - loss: 0.3462 - accuracy: 0.8590 - precision: 0.9086 - f1_score: 0.7468 - val_loss: 0.3410 - val_accuracy: 0.8655 - val_precision: 0.8975 - val_f1_score: 0.7352\n",
      "Epoch 56/150\n",
      "120/120 [==============================] - 0s 1ms/step - loss: 0.3458 - accuracy: 0.8607 - precision: 0.9049 - f1_score: 0.7496 - val_loss: 0.3401 - val_accuracy: 0.8670 - val_precision: 0.8978 - val_f1_score: 0.7399\n",
      "Epoch 57/150\n",
      "120/120 [==============================] - 0s 1ms/step - loss: 0.3473 - accuracy: 0.8592 - precision: 0.9035 - f1_score: 0.7468 - val_loss: 0.3412 - val_accuracy: 0.8665 - val_precision: 0.8991 - val_f1_score: 0.7462\n",
      "Epoch 58/150\n",
      "120/120 [==============================] - 0s 1ms/step - loss: 0.3464 - accuracy: 0.8602 - precision: 0.9070 - f1_score: 0.7484 - val_loss: 0.3394 - val_accuracy: 0.8675 - val_precision: 0.8981 - val_f1_score: 0.7427\n",
      "Epoch 59/150\n",
      "120/120 [==============================] - 0s 1ms/step - loss: 0.3460 - accuracy: 0.8593 - precision: 0.9049 - f1_score: 0.7462 - val_loss: 0.3388 - val_accuracy: 0.8685 - val_precision: 0.8991 - val_f1_score: 0.7446\n",
      "Epoch 60/150\n",
      "120/120 [==============================] - 0s 1ms/step - loss: 0.3457 - accuracy: 0.8623 - precision: 0.9050 - f1_score: 0.7530 - val_loss: 0.3396 - val_accuracy: 0.8685 - val_precision: 0.9024 - val_f1_score: 0.7506\n",
      "Epoch 61/150\n",
      "120/120 [==============================] - 0s 1ms/step - loss: 0.3456 - accuracy: 0.8603 - precision: 0.9061 - f1_score: 0.7486 - val_loss: 0.3411 - val_accuracy: 0.8675 - val_precision: 0.8985 - val_f1_score: 0.7507\n",
      "Epoch 62/150\n",
      "120/120 [==============================] - 0s 1ms/step - loss: 0.3452 - accuracy: 0.8610 - precision: 0.9068 - f1_score: 0.7496 - val_loss: 0.3444 - val_accuracy: 0.8685 - val_precision: 0.9054 - val_f1_score: 0.7623\n",
      "Epoch 63/150\n",
      "120/120 [==============================] - 0s 1ms/step - loss: 0.3447 - accuracy: 0.8603 - precision: 0.9062 - f1_score: 0.7516 - val_loss: 0.3401 - val_accuracy: 0.8680 - val_precision: 0.9000 - val_f1_score: 0.7519\n",
      "Epoch 64/150\n",
      "120/120 [==============================] - 0s 1ms/step - loss: 0.3449 - accuracy: 0.8605 - precision: 0.9059 - f1_score: 0.7494 - val_loss: 0.3422 - val_accuracy: 0.8665 - val_precision: 0.9083 - val_f1_score: 0.7563\n",
      "Epoch 65/150\n",
      "120/120 [==============================] - 0s 1ms/step - loss: 0.3443 - accuracy: 0.8625 - precision: 0.9075 - f1_score: 0.7536 - val_loss: 0.3433 - val_accuracy: 0.8650 - val_precision: 0.9071 - val_f1_score: 0.7538\n",
      "Epoch 66/150\n",
      "120/120 [==============================] - 0s 1ms/step - loss: 0.3441 - accuracy: 0.8598 - precision: 0.9058 - f1_score: 0.7504 - val_loss: 0.3420 - val_accuracy: 0.8660 - val_precision: 0.8962 - val_f1_score: 0.7313\n",
      "Epoch 67/150\n",
      "120/120 [==============================] - 0s 1ms/step - loss: 0.3446 - accuracy: 0.8593 - precision: 0.9077 - f1_score: 0.7454 - val_loss: 0.3454 - val_accuracy: 0.8660 - val_precision: 0.9089 - val_f1_score: 0.7580\n",
      "Epoch 68/150\n",
      "120/120 [==============================] - 0s 1ms/step - loss: 0.3439 - accuracy: 0.8602 - precision: 0.9084 - f1_score: 0.7486 - val_loss: 0.3421 - val_accuracy: 0.8670 - val_precision: 0.9053 - val_f1_score: 0.7557\n",
      "Epoch 69/150\n",
      "120/120 [==============================] - 0s 1ms/step - loss: 0.3433 - accuracy: 0.8608 - precision: 0.9060 - f1_score: 0.7514 - val_loss: 0.3404 - val_accuracy: 0.8690 - val_precision: 0.9046 - val_f1_score: 0.7588\n",
      "Epoch 70/150\n",
      "120/120 [==============================] - 0s 1ms/step - loss: 0.3439 - accuracy: 0.8577 - precision: 0.9057 - f1_score: 0.7458 - val_loss: 0.3385 - val_accuracy: 0.8660 - val_precision: 0.8985 - val_f1_score: 0.7422\n",
      "Epoch 71/150\n",
      "120/120 [==============================] - 0s 4ms/step - loss: 0.3432 - accuracy: 0.8608 - precision: 0.9060 - f1_score: 0.7504 - val_loss: 0.3382 - val_accuracy: 0.8680 - val_precision: 0.9042 - val_f1_score: 0.7551\n",
      "Epoch 72/150\n",
      "120/120 [==============================] - 0s 2ms/step - loss: 0.3429 - accuracy: 0.8607 - precision: 0.9046 - f1_score: 0.7514 - val_loss: 0.3384 - val_accuracy: 0.8670 - val_precision: 0.9024 - val_f1_score: 0.7507\n",
      "Epoch 73/150\n",
      "120/120 [==============================] - 0s 1ms/step - loss: 0.3429 - accuracy: 0.8612 - precision: 0.9065 - f1_score: 0.7518 - val_loss: 0.3432 - val_accuracy: 0.8675 - val_precision: 0.9089 - val_f1_score: 0.7622\n",
      "Epoch 74/150\n",
      "120/120 [==============================] - 0s 1ms/step - loss: 0.3424 - accuracy: 0.8627 - precision: 0.9079 - f1_score: 0.7550 - val_loss: 0.3388 - val_accuracy: 0.8660 - val_precision: 0.8970 - val_f1_score: 0.7456\n",
      "Epoch 75/150\n",
      "120/120 [==============================] - 0s 1ms/step - loss: 0.3429 - accuracy: 0.8610 - precision: 0.9049 - f1_score: 0.7516 - val_loss: 0.3393 - val_accuracy: 0.8680 - val_precision: 0.9037 - val_f1_score: 0.7538\n",
      "Epoch 76/150\n",
      "120/120 [==============================] - 0s 1ms/step - loss: 0.3425 - accuracy: 0.8600 - precision: 0.9053 - f1_score: 0.7488 - val_loss: 0.3401 - val_accuracy: 0.8665 - val_precision: 0.8992 - val_f1_score: 0.7507\n",
      "Epoch 77/150\n",
      "120/120 [==============================] - 0s 1ms/step - loss: 0.3424 - accuracy: 0.8617 - precision: 0.9057 - f1_score: 0.7543 - val_loss: 0.3391 - val_accuracy: 0.8665 - val_precision: 0.8981 - val_f1_score: 0.7379\n",
      "Epoch 78/150\n",
      "120/120 [==============================] - 0s 1ms/step - loss: 0.3424 - accuracy: 0.8585 - precision: 0.9067 - f1_score: 0.7466 - val_loss: 0.3437 - val_accuracy: 0.8630 - val_precision: 0.9073 - val_f1_score: 0.7561\n",
      "Epoch 79/150\n",
      "120/120 [==============================] - 0s 1ms/step - loss: 0.3418 - accuracy: 0.8632 - precision: 0.9069 - f1_score: 0.7578 - val_loss: 0.3388 - val_accuracy: 0.8655 - val_precision: 0.8992 - val_f1_score: 0.7352\n",
      "Epoch 80/150\n",
      "120/120 [==============================] - 0s 1ms/step - loss: 0.3414 - accuracy: 0.8632 - precision: 0.9073 - f1_score: 0.7552 - val_loss: 0.3407 - val_accuracy: 0.8680 - val_precision: 0.9091 - val_f1_score: 0.7599\n",
      "Epoch 81/150\n",
      "120/120 [==============================] - 0s 1ms/step - loss: 0.3408 - accuracy: 0.8608 - precision: 0.9069 - f1_score: 0.7539 - val_loss: 0.3416 - val_accuracy: 0.8665 - val_precision: 0.9088 - val_f1_score: 0.7604\n",
      "Epoch 82/150\n",
      "120/120 [==============================] - 0s 1ms/step - loss: 0.3408 - accuracy: 0.8617 - precision: 0.9067 - f1_score: 0.7528 - val_loss: 0.3419 - val_accuracy: 0.8670 - val_precision: 0.9020 - val_f1_score: 0.7587\n",
      "Epoch 83/150\n",
      "120/120 [==============================] - 0s 1ms/step - loss: 0.3417 - accuracy: 0.8623 - precision: 0.9077 - f1_score: 0.7574 - val_loss: 0.3375 - val_accuracy: 0.8680 - val_precision: 0.8983 - val_f1_score: 0.7467\n",
      "Epoch 84/150\n",
      "120/120 [==============================] - 0s 1ms/step - loss: 0.3407 - accuracy: 0.8632 - precision: 0.9063 - f1_score: 0.7578 - val_loss: 0.3391 - val_accuracy: 0.8690 - val_precision: 0.9006 - val_f1_score: 0.7563\n",
      "Epoch 85/150\n",
      "120/120 [==============================] - 0s 1ms/step - loss: 0.3410 - accuracy: 0.8622 - precision: 0.9079 - f1_score: 0.7543 - val_loss: 0.3377 - val_accuracy: 0.8675 - val_precision: 0.9020 - val_f1_score: 0.7494\n",
      "Epoch 86/150\n",
      "120/120 [==============================] - 0s 1ms/step - loss: 0.3410 - accuracy: 0.8625 - precision: 0.9055 - f1_score: 0.7569 - val_loss: 0.3378 - val_accuracy: 0.8690 - val_precision: 0.8990 - val_f1_score: 0.7486\n",
      "Epoch 87/150\n",
      "120/120 [==============================] - 0s 1ms/step - loss: 0.3411 - accuracy: 0.8608 - precision: 0.9074 - f1_score: 0.7518 - val_loss: 0.3389 - val_accuracy: 0.8675 - val_precision: 0.9043 - val_f1_score: 0.7575\n",
      "Epoch 88/150\n",
      "120/120 [==============================] - 0s 1ms/step - loss: 0.3400 - accuracy: 0.8642 - precision: 0.9074 - f1_score: 0.7579 - val_loss: 0.3411 - val_accuracy: 0.8675 - val_precision: 0.8988 - val_f1_score: 0.7461\n",
      "Epoch 89/150\n",
      "120/120 [==============================] - 0s 1ms/step - loss: 0.3403 - accuracy: 0.8605 - precision: 0.9054 - f1_score: 0.7529 - val_loss: 0.3392 - val_accuracy: 0.8685 - val_precision: 0.9045 - val_f1_score: 0.7617\n",
      "Epoch 90/150\n",
      "120/120 [==============================] - 0s 1ms/step - loss: 0.3396 - accuracy: 0.8622 - precision: 0.9080 - f1_score: 0.7566 - val_loss: 0.3385 - val_accuracy: 0.8660 - val_precision: 0.9018 - val_f1_score: 0.7532\n",
      "Epoch 91/150\n",
      "120/120 [==============================] - 0s 1ms/step - loss: 0.3395 - accuracy: 0.8643 - precision: 0.9080 - f1_score: 0.7594 - val_loss: 0.3487 - val_accuracy: 0.8655 - val_precision: 0.9103 - val_f1_score: 0.7625\n",
      "Epoch 92/150\n",
      "120/120 [==============================] - 0s 1ms/step - loss: 0.3397 - accuracy: 0.8623 - precision: 0.9068 - f1_score: 0.7557 - val_loss: 0.3397 - val_accuracy: 0.8685 - val_precision: 0.8971 - val_f1_score: 0.7396\n",
      "Epoch 93/150\n",
      "120/120 [==============================] - 0s 1ms/step - loss: 0.3403 - accuracy: 0.8618 - precision: 0.9084 - f1_score: 0.7551 - val_loss: 0.3384 - val_accuracy: 0.8685 - val_precision: 0.8995 - val_f1_score: 0.7453\n",
      "Epoch 94/150\n",
      "120/120 [==============================] - 0s 1ms/step - loss: 0.3394 - accuracy: 0.8618 - precision: 0.9069 - f1_score: 0.7538 - val_loss: 0.3404 - val_accuracy: 0.8680 - val_precision: 0.9069 - val_f1_score: 0.7605\n",
      "Epoch 95/150\n",
      "120/120 [==============================] - 0s 1ms/step - loss: 0.3399 - accuracy: 0.8627 - precision: 0.9078 - f1_score: 0.7565 - val_loss: 0.3416 - val_accuracy: 0.8670 - val_precision: 0.9039 - val_f1_score: 0.7592\n",
      "Epoch 96/150\n",
      "120/120 [==============================] - 0s 1ms/step - loss: 0.3391 - accuracy: 0.8607 - precision: 0.9051 - f1_score: 0.7535 - val_loss: 0.3373 - val_accuracy: 0.8700 - val_precision: 0.8989 - val_f1_score: 0.7465\n",
      "Epoch 97/150\n",
      "120/120 [==============================] - 0s 1ms/step - loss: 0.3388 - accuracy: 0.8600 - precision: 0.9079 - f1_score: 0.7514 - val_loss: 0.3437 - val_accuracy: 0.8630 - val_precision: 0.9067 - val_f1_score: 0.7544\n",
      "Epoch 98/150\n",
      "120/120 [==============================] - 0s 1ms/step - loss: 0.3394 - accuracy: 0.8642 - precision: 0.9070 - f1_score: 0.7600 - val_loss: 0.3373 - val_accuracy: 0.8685 - val_precision: 0.8985 - val_f1_score: 0.7467\n",
      "Epoch 99/150\n",
      "120/120 [==============================] - 0s 1ms/step - loss: 0.3394 - accuracy: 0.8622 - precision: 0.9067 - f1_score: 0.7540 - val_loss: 0.3423 - val_accuracy: 0.8650 - val_precision: 0.9082 - val_f1_score: 0.7591\n",
      "Epoch 100/150\n",
      "120/120 [==============================] - 0s 1ms/step - loss: 0.3394 - accuracy: 0.8625 - precision: 0.9057 - f1_score: 0.7574 - val_loss: 0.3431 - val_accuracy: 0.8700 - val_precision: 0.9052 - val_f1_score: 0.7675\n",
      "Epoch 101/150\n",
      "120/120 [==============================] - 0s 1ms/step - loss: 0.3391 - accuracy: 0.8623 - precision: 0.9084 - f1_score: 0.7568 - val_loss: 0.3397 - val_accuracy: 0.8670 - val_precision: 0.9039 - val_f1_score: 0.7592\n",
      "Epoch 102/150\n",
      "120/120 [==============================] - 0s 1ms/step - loss: 0.3389 - accuracy: 0.8635 - precision: 0.9087 - f1_score: 0.7577 - val_loss: 0.3457 - val_accuracy: 0.8690 - val_precision: 0.9082 - val_f1_score: 0.7695\n",
      "Epoch 103/150\n",
      "120/120 [==============================] - 0s 1ms/step - loss: 0.3386 - accuracy: 0.8612 - precision: 0.9071 - f1_score: 0.7547 - val_loss: 0.3373 - val_accuracy: 0.8690 - val_precision: 0.8999 - val_f1_score: 0.7563\n",
      "Epoch 104/150\n",
      "120/120 [==============================] - 0s 1ms/step - loss: 0.3384 - accuracy: 0.8633 - precision: 0.9080 - f1_score: 0.7582 - val_loss: 0.3391 - val_accuracy: 0.8675 - val_precision: 0.9026 - val_f1_score: 0.7593\n",
      "Epoch 105/150\n",
      "120/120 [==============================] - 0s 1ms/step - loss: 0.3386 - accuracy: 0.8637 - precision: 0.9077 - f1_score: 0.7588 - val_loss: 0.3380 - val_accuracy: 0.8685 - val_precision: 0.9049 - val_f1_score: 0.7593\n",
      "Epoch 106/150\n",
      "120/120 [==============================] - 0s 1ms/step - loss: 0.3378 - accuracy: 0.8635 - precision: 0.9078 - f1_score: 0.7579 - val_loss: 0.3381 - val_accuracy: 0.8690 - val_precision: 0.8981 - val_f1_score: 0.7486\n",
      "Epoch 107/150\n",
      "120/120 [==============================] - 0s 1ms/step - loss: 0.3387 - accuracy: 0.8628 - precision: 0.9082 - f1_score: 0.7557 - val_loss: 0.3362 - val_accuracy: 0.8700 - val_precision: 0.8976 - val_f1_score: 0.7538\n",
      "Epoch 108/150\n",
      "120/120 [==============================] - 0s 1ms/step - loss: 0.3383 - accuracy: 0.8647 - precision: 0.9063 - f1_score: 0.7610 - val_loss: 0.3371 - val_accuracy: 0.8670 - val_precision: 0.8975 - val_f1_score: 0.7501\n",
      "Epoch 109/150\n",
      "120/120 [==============================] - 0s 1ms/step - loss: 0.3378 - accuracy: 0.8633 - precision: 0.9071 - f1_score: 0.7579 - val_loss: 0.3393 - val_accuracy: 0.8665 - val_precision: 0.9051 - val_f1_score: 0.7575\n",
      "Epoch 110/150\n",
      "120/120 [==============================] - 0s 1ms/step - loss: 0.3376 - accuracy: 0.8630 - precision: 0.9088 - f1_score: 0.7578 - val_loss: 0.3384 - val_accuracy: 0.8690 - val_precision: 0.8977 - val_f1_score: 0.7473\n",
      "Epoch 111/150\n",
      "120/120 [==============================] - 0s 1ms/step - loss: 0.3381 - accuracy: 0.8637 - precision: 0.9066 - f1_score: 0.7584 - val_loss: 0.3408 - val_accuracy: 0.8665 - val_precision: 0.9048 - val_f1_score: 0.7569\n",
      "Epoch 112/150\n",
      "120/120 [==============================] - 0s 1ms/step - loss: 0.3376 - accuracy: 0.8633 - precision: 0.9071 - f1_score: 0.7592 - val_loss: 0.3388 - val_accuracy: 0.8685 - val_precision: 0.8974 - val_f1_score: 0.7480\n",
      "Epoch 113/150\n",
      "120/120 [==============================] - 0s 1ms/step - loss: 0.3383 - accuracy: 0.8663 - precision: 0.9079 - f1_score: 0.7637 - val_loss: 0.3374 - val_accuracy: 0.8675 - val_precision: 0.9018 - val_f1_score: 0.7427\n",
      "Epoch 114/150\n",
      "120/120 [==============================] - 0s 1ms/step - loss: 0.3382 - accuracy: 0.8645 - precision: 0.9076 - f1_score: 0.7595 - val_loss: 0.3388 - val_accuracy: 0.8685 - val_precision: 0.9038 - val_f1_score: 0.7587\n",
      "Epoch 115/150\n",
      "120/120 [==============================] - 0s 1ms/step - loss: 0.3368 - accuracy: 0.8650 - precision: 0.9072 - f1_score: 0.7601 - val_loss: 0.3371 - val_accuracy: 0.8670 - val_precision: 0.9006 - val_f1_score: 0.7557\n",
      "Epoch 116/150\n",
      "120/120 [==============================] - 0s 1ms/step - loss: 0.3374 - accuracy: 0.8630 - precision: 0.9079 - f1_score: 0.7586 - val_loss: 0.3388 - val_accuracy: 0.8675 - val_precision: 0.9018 - val_f1_score: 0.7593\n",
      "Epoch 117/150\n",
      "120/120 [==============================] - 0s 1ms/step - loss: 0.3371 - accuracy: 0.8647 - precision: 0.9081 - f1_score: 0.7610 - val_loss: 0.3369 - val_accuracy: 0.8685 - val_precision: 0.9020 - val_f1_score: 0.7557\n",
      "Epoch 118/150\n",
      "120/120 [==============================] - 0s 1ms/step - loss: 0.3367 - accuracy: 0.8642 - precision: 0.9084 - f1_score: 0.7600 - val_loss: 0.3377 - val_accuracy: 0.8700 - val_precision: 0.8978 - val_f1_score: 0.7465\n",
      "Epoch 119/150\n",
      "120/120 [==============================] - 0s 1ms/step - loss: 0.3371 - accuracy: 0.8638 - precision: 0.9059 - f1_score: 0.7575 - val_loss: 0.3456 - val_accuracy: 0.8615 - val_precision: 0.9059 - val_f1_score: 0.7577\n",
      "Epoch 120/150\n",
      "120/120 [==============================] - 0s 1ms/step - loss: 0.3374 - accuracy: 0.8652 - precision: 0.9057 - f1_score: 0.7638 - val_loss: 0.3388 - val_accuracy: 0.8685 - val_precision: 0.9025 - val_f1_score: 0.7587\n",
      "Epoch 121/150\n",
      "120/120 [==============================] - 0s 1ms/step - loss: 0.3372 - accuracy: 0.8632 - precision: 0.9066 - f1_score: 0.7577 - val_loss: 0.3391 - val_accuracy: 0.8660 - val_precision: 0.9049 - val_f1_score: 0.7574\n",
      "Epoch 122/150\n",
      "120/120 [==============================] - 0s 1ms/step - loss: 0.3362 - accuracy: 0.8647 - precision: 0.9086 - f1_score: 0.7621 - val_loss: 0.3378 - val_accuracy: 0.8685 - val_precision: 0.9028 - val_f1_score: 0.7587\n",
      "Epoch 123/150\n",
      "120/120 [==============================] - 0s 1ms/step - loss: 0.3365 - accuracy: 0.8655 - precision: 0.9062 - f1_score: 0.7623 - val_loss: 0.3429 - val_accuracy: 0.8610 - val_precision: 0.9076 - val_f1_score: 0.7549\n",
      "Epoch 124/150\n",
      "120/120 [==============================] - 0s 1ms/step - loss: 0.3361 - accuracy: 0.8645 - precision: 0.9061 - f1_score: 0.7595 - val_loss: 0.3384 - val_accuracy: 0.8655 - val_precision: 0.9027 - val_f1_score: 0.7520\n",
      "Epoch 125/150\n",
      "120/120 [==============================] - 0s 1ms/step - loss: 0.3364 - accuracy: 0.8652 - precision: 0.9057 - f1_score: 0.7619 - val_loss: 0.3400 - val_accuracy: 0.8660 - val_precision: 0.9049 - val_f1_score: 0.7574\n",
      "Epoch 126/150\n",
      "120/120 [==============================] - 0s 1ms/step - loss: 0.3360 - accuracy: 0.8630 - precision: 0.9091 - f1_score: 0.7582 - val_loss: 0.3362 - val_accuracy: 0.8670 - val_precision: 0.8963 - val_f1_score: 0.7513\n",
      "Epoch 127/150\n",
      "120/120 [==============================] - 0s 2ms/step - loss: 0.3363 - accuracy: 0.8648 - precision: 0.9070 - f1_score: 0.7626 - val_loss: 0.3393 - val_accuracy: 0.8685 - val_precision: 0.9040 - val_f1_score: 0.7581\n",
      "Epoch 128/150\n",
      "120/120 [==============================] - 0s 1ms/step - loss: 0.3367 - accuracy: 0.8640 - precision: 0.9072 - f1_score: 0.7588 - val_loss: 0.3395 - val_accuracy: 0.8670 - val_precision: 0.9053 - val_f1_score: 0.7557\n",
      "Epoch 129/150\n",
      "120/120 [==============================] - 0s 1ms/step - loss: 0.3363 - accuracy: 0.8643 - precision: 0.9068 - f1_score: 0.7594 - val_loss: 0.3384 - val_accuracy: 0.8650 - val_precision: 0.9059 - val_f1_score: 0.7532\n",
      "Epoch 130/150\n",
      "120/120 [==============================] - 0s 1ms/step - loss: 0.3361 - accuracy: 0.8622 - precision: 0.9080 - f1_score: 0.7570 - val_loss: 0.3357 - val_accuracy: 0.8665 - val_precision: 0.8991 - val_f1_score: 0.7494\n",
      "Epoch 131/150\n",
      "120/120 [==============================] - 0s 1ms/step - loss: 0.3363 - accuracy: 0.8637 - precision: 0.9074 - f1_score: 0.7596 - val_loss: 0.3455 - val_accuracy: 0.8600 - val_precision: 0.9076 - val_f1_score: 0.7531\n",
      "Epoch 132/150\n",
      "120/120 [==============================] - 0s 1ms/step - loss: 0.3354 - accuracy: 0.8637 - precision: 0.9079 - f1_score: 0.7590 - val_loss: 0.3375 - val_accuracy: 0.8665 - val_precision: 0.9020 - val_f1_score: 0.7538\n",
      "Epoch 133/150\n",
      "120/120 [==============================] - 0s 1ms/step - loss: 0.3366 - accuracy: 0.8632 - precision: 0.9080 - f1_score: 0.7565 - val_loss: 0.3379 - val_accuracy: 0.8660 - val_precision: 0.8996 - val_f1_score: 0.7514\n",
      "Epoch 134/150\n",
      "120/120 [==============================] - 0s 1ms/step - loss: 0.3359 - accuracy: 0.8630 - precision: 0.9083 - f1_score: 0.7584 - val_loss: 0.3398 - val_accuracy: 0.8675 - val_precision: 0.9056 - val_f1_score: 0.7581\n",
      "Epoch 135/150\n",
      "120/120 [==============================] - 0s 1ms/step - loss: 0.3354 - accuracy: 0.8648 - precision: 0.9065 - f1_score: 0.7602 - val_loss: 0.3405 - val_accuracy: 0.8645 - val_precision: 0.9059 - val_f1_score: 0.7526\n",
      "Epoch 136/150\n",
      "120/120 [==============================] - 0s 1ms/step - loss: 0.3351 - accuracy: 0.8633 - precision: 0.9105 - f1_score: 0.7586 - val_loss: 0.3372 - val_accuracy: 0.8690 - val_precision: 0.8996 - val_f1_score: 0.7480\n",
      "Epoch 137/150\n",
      "120/120 [==============================] - 0s 1ms/step - loss: 0.3359 - accuracy: 0.8637 - precision: 0.9073 - f1_score: 0.7592 - val_loss: 0.3369 - val_accuracy: 0.8675 - val_precision: 0.8990 - val_f1_score: 0.7487\n",
      "Epoch 138/150\n",
      "120/120 [==============================] - 0s 1ms/step - loss: 0.3358 - accuracy: 0.8640 - precision: 0.9093 - f1_score: 0.7583 - val_loss: 0.3370 - val_accuracy: 0.8675 - val_precision: 0.9029 - val_f1_score: 0.7569\n",
      "Epoch 139/150\n",
      "120/120 [==============================] - 0s 1ms/step - loss: 0.3357 - accuracy: 0.8647 - precision: 0.9075 - f1_score: 0.7613 - val_loss: 0.3387 - val_accuracy: 0.8720 - val_precision: 0.8976 - val_f1_score: 0.7490\n",
      "Epoch 140/150\n",
      "120/120 [==============================] - 0s 1ms/step - loss: 0.3353 - accuracy: 0.8650 - precision: 0.9074 - f1_score: 0.7608 - val_loss: 0.3360 - val_accuracy: 0.8665 - val_precision: 0.9007 - val_f1_score: 0.7468\n",
      "Epoch 141/150\n",
      "120/120 [==============================] - 0s 1ms/step - loss: 0.3352 - accuracy: 0.8638 - precision: 0.9068 - f1_score: 0.7614 - val_loss: 0.3365 - val_accuracy: 0.8680 - val_precision: 0.9010 - val_f1_score: 0.7440\n",
      "Epoch 142/150\n",
      "120/120 [==============================] - 0s 1ms/step - loss: 0.3348 - accuracy: 0.8650 - precision: 0.9076 - f1_score: 0.7612 - val_loss: 0.3372 - val_accuracy: 0.8645 - val_precision: 0.9000 - val_f1_score: 0.7463\n",
      "Epoch 143/150\n",
      "120/120 [==============================] - 0s 1ms/step - loss: 0.3349 - accuracy: 0.8640 - precision: 0.9090 - f1_score: 0.7588 - val_loss: 0.3407 - val_accuracy: 0.8640 - val_precision: 0.9034 - val_f1_score: 0.7556\n",
      "Epoch 144/150\n",
      "120/120 [==============================] - 0s 1ms/step - loss: 0.3345 - accuracy: 0.8645 - precision: 0.9077 - f1_score: 0.7602 - val_loss: 0.3374 - val_accuracy: 0.8680 - val_precision: 0.9020 - val_f1_score: 0.7538\n",
      "Epoch 145/150\n",
      "120/120 [==============================] - 0s 1ms/step - loss: 0.3346 - accuracy: 0.8628 - precision: 0.9084 - f1_score: 0.7574 - val_loss: 0.3375 - val_accuracy: 0.8650 - val_precision: 0.9005 - val_f1_score: 0.7489\n",
      "Epoch 146/150\n",
      "120/120 [==============================] - 0s 1ms/step - loss: 0.3355 - accuracy: 0.8637 - precision: 0.9093 - f1_score: 0.7598 - val_loss: 0.3374 - val_accuracy: 0.8665 - val_precision: 0.8979 - val_f1_score: 0.7475\n",
      "Epoch 147/150\n",
      "120/120 [==============================] - 0s 1ms/step - loss: 0.3339 - accuracy: 0.8643 - precision: 0.9082 - f1_score: 0.7606 - val_loss: 0.3381 - val_accuracy: 0.8650 - val_precision: 0.9043 - val_f1_score: 0.7538\n",
      "Epoch 148/150\n",
      "120/120 [==============================] - 0s 1ms/step - loss: 0.3339 - accuracy: 0.8640 - precision: 0.9057 - f1_score: 0.7609 - val_loss: 0.3354 - val_accuracy: 0.8675 - val_precision: 0.8994 - val_f1_score: 0.7526\n",
      "Epoch 149/150\n",
      "120/120 [==============================] - 0s 1ms/step - loss: 0.3338 - accuracy: 0.8678 - precision: 0.9077 - f1_score: 0.7672 - val_loss: 0.3367 - val_accuracy: 0.8690 - val_precision: 0.9002 - val_f1_score: 0.7493\n",
      "Epoch 150/150\n",
      "120/120 [==============================] - 0s 1ms/step - loss: 0.3344 - accuracy: 0.8647 - precision: 0.9074 - f1_score: 0.7613 - val_loss: 0.3362 - val_accuracy: 0.8690 - val_precision: 0.9003 - val_f1_score: 0.7526\n"
     ]
    }
   ],
   "source": [
    "history = network.fit(\n",
    "    x_train_standardized, \n",
    "    y_train, \n",
    "    epochs=150, \n",
    "    verbose=1, \n",
    "    batch_size=50, # -> 6000/50\n",
    "    validation_data=(x_test_standardized, y_test)\n",
    "    )"
   ]
  },
  {
   "cell_type": "code",
   "execution_count": 19,
   "id": "7b70f015",
   "metadata": {},
   "outputs": [
    {
     "name": "stdout",
     "output_type": "stream",
     "text": [
      "200/200 [==============================] - 0s 973us/step - loss: 0.3362 - accuracy: 0.8690 - precision: 0.9003 - f1_score: 0.7526\n",
      "loss : 0.33618026971817017\n",
      "accuracy : 0.8690000176429749\n",
      "precision : 0.9002848863601685\n",
      "f1_score : [0.9223013  0.58280253]\n"
     ]
    }
   ],
   "source": [
    "network_result = network.evaluate(x_test_standardized, y_test, batch_size=10, verbose=1)\n",
    "for name, value in zip(network.metrics_names, network_result):\n",
    "    print(name, ':', value)"
   ]
  },
  {
   "cell_type": "code",
   "execution_count": 20,
   "id": "6b8d591b",
   "metadata": {},
   "outputs": [
    {
     "data": {
      "text/plain": [
       "0.8406122724215189"
      ]
     },
     "execution_count": 20,
     "metadata": {},
     "output_type": "execute_result"
    }
   ],
   "source": [
    "final = (network_result[1] + network_result[2] + sum(network_result[3])/2) / 3\n",
    "final"
   ]
  },
  {
   "cell_type": "markdown",
   "id": "8a2a2d18",
   "metadata": {},
   "source": [
    "## model evaluation"
   ]
  },
  {
   "cell_type": "code",
   "execution_count": 21,
   "id": "a3805abc",
   "metadata": {},
   "outputs": [
    {
     "data": {
      "image/png": "[encoded data removed]",
      "text/plain": [
       "<Figure size 432x288 with 1 Axes>"
      ]
     },
     "metadata": {
      "needs_background": "light"
     },
     "output_type": "display_data"
    }
   ],
   "source": [
    "training_loss = history.history['loss']\n",
    "test_loss  = history.history['val_loss']\n",
    "epoch_count = range(1, len(training_loss)+1)\n",
    "plt.plot(epoch_count, training_loss)\n",
    "plt.plot(epoch_count, test_loss)\n",
    "plt.legend(['training_loss', 'test_loss'])\n",
    "plt.xlabel('epoch')\n",
    "plt.ylabel('loss')\n",
    "plt.show()"
   ]
  },
  {
   "cell_type": "code",
   "execution_count": 22,
   "id": "41d3c9a0",
   "metadata": {},
   "outputs": [
    {
     "data": {
      "image/png": "[encoded data removed]",
      "text/plain": [
       "<Figure size 432x288 with 1 Axes>"
      ]
     },
     "metadata": {
      "needs_background": "light"
     },
     "output_type": "display_data"
    }
   ],
   "source": [
    "training_accuracy = history.history['accuracy']\n",
    "test_accuracy = history.history['val_accuracy']\n",
    "plt.plot(epoch_count, training_accuracy)\n",
    "plt.plot(epoch_count, test_accuracy)\n",
    "plt.legend(['training_accuracy', 'test_accuracy'])\n",
    "plt.xlabel('epoch')\n",
    "plt.ylabel('accuracy score')\n",
    "plt.show()"
   ]
  },
  {
   "cell_type": "code",
   "execution_count": 23,
   "id": "4958e1d9",
   "metadata": {},
   "outputs": [
    {
     "data": {
      "text/plain": [
       "dict_keys(['loss', 'accuracy', 'precision', 'f1_score', 'val_loss', 'val_accuracy', 'val_precision', 'val_f1_score'])"
      ]
     },
     "execution_count": 23,
     "metadata": {},
     "output_type": "execute_result"
    }
   ],
   "source": [
    "history.history.keys()"
   ]
  },
  {
   "cell_type": "code",
   "execution_count": 24,
   "id": "dcf9fa0e",
   "metadata": {},
   "outputs": [
    {
     "data": {
      "image/png": "[encoded data removed]",
      "text/plain": [
       "<Figure size 432x288 with 1 Axes>"
      ]
     },
     "metadata": {
      "needs_background": "light"
     },
     "output_type": "display_data"
    }
   ],
   "source": [
    "plt.plot(epoch_count, history.history['precision'])\n",
    "plt.plot(epoch_count, history.history['val_precision'])\n",
    "plt.legend(['training_precision', 'test_precision'])\n",
    "plt.xlabel('epoch')\n",
    "plt.ylabel('precision score')\n",
    "plt.show()"
   ]
  },
  {
   "cell_type": "code",
   "execution_count": 25,
   "id": "57627a77",
   "metadata": {},
   "outputs": [
    {
     "data": {
      "text/plain": [
       "array([[0.90712965, 0.09254628],\n",
       "       [0.8256679 , 0.17521957],\n",
       "       [0.9713521 , 0.02806774],\n",
       "       ...,\n",
       "       [0.9008671 , 0.0988777 ],\n",
       "       [0.80497146, 0.19638842],\n",
       "       [0.8756263 , 0.12444651]], dtype=float32)"
      ]
     },
     "execution_count": 25,
     "metadata": {},
     "output_type": "execute_result"
    }
   ],
   "source": [
    "predictions = network.predict(x_test_standardized)\n",
    "predictions"
   ]
  },
  {
   "cell_type": "code",
   "execution_count": 26,
   "id": "4bc1d650",
   "metadata": {},
   "outputs": [
    {
     "data": {
      "text/plain": [
       "array([0, 0, 0, ..., 0, 0, 0])"
      ]
     },
     "execution_count": 26,
     "metadata": {},
     "output_type": "execute_result"
    }
   ],
   "source": [
    "predictions_label = np.argmax(network.predict(x_test_standardized), axis=1)\n",
    "assert len(predictions_label) == 2000\n",
    "predictions_label"
   ]
  },
  {
   "cell_type": "code",
   "execution_count": 27,
   "id": "0fbc6d5d",
   "metadata": {},
   "outputs": [
    {
     "name": "stdout",
     "output_type": "stream",
     "text": [
      "0.869\n"
     ]
    }
   ],
   "source": [
    "count_1 = 0\n",
    "count_0 = 0\n",
    "for ans1, ans2 in zip(predictions_label, np.argmax(y_test, axis=1)):\n",
    "    if ans1 == 1 and ans2 == 1:\n",
    "        count_1 += 1\n",
    "    elif ans1 == 0 and ans2 == 0:\n",
    "        count_0 += 1\n",
    "print((count_1+count_0)/2000)"
   ]
  },
  {
   "cell_type": "code",
   "execution_count": 28,
   "id": "07e7141f",
   "metadata": {},
   "outputs": [
    {
     "data": {
      "text/plain": [
       "0"
      ]
     },
     "execution_count": 28,
     "metadata": {},
     "output_type": "execute_result"
    }
   ],
   "source": [
    "predictions_label[1]"
   ]
  },
  {
   "cell_type": "code",
   "execution_count": 29,
   "id": "b146215f",
   "metadata": {},
   "outputs": [
    {
     "data": {
      "text/plain": [
       "1"
      ]
     },
     "execution_count": 29,
     "metadata": {},
     "output_type": "execute_result"
    }
   ],
   "source": [
    "np.argmax(y_test, axis=1)[1]"
   ]
  },
  {
   "cell_type": "markdown",
   "id": "b3231a1d",
   "metadata": {},
   "source": [
    "# output result on `test.csv`"
   ]
  },
  {
   "cell_type": "code",
   "execution_count": 30,
   "id": "25dd0026",
   "metadata": {},
   "outputs": [
    {
     "data": {
      "text/html": [
       "<div>\n",
       "<style scoped>\n",
       "    .dataframe tbody tr th:only-of-type {\n",
       "        vertical-align: middle;\n",
       "    }\n",
       "\n",
       "    .dataframe tbody tr th {\n",
       "        vertical-align: top;\n",
       "    }\n",
       "\n",
       "    .dataframe thead th {\n",
       "        text-align: right;\n",
       "    }\n",
       "</style>\n",
       "<table border=\"1\" class=\"dataframe\">\n",
       "  <thead>\n",
       "    <tr style=\"text-align: right;\">\n",
       "      <th></th>\n",
       "      <th>RowNumber</th>\n",
       "      <th>CustomerId</th>\n",
       "      <th>Surname</th>\n",
       "      <th>CreditScore</th>\n",
       "      <th>Geography</th>\n",
       "      <th>Gender</th>\n",
       "      <th>Age</th>\n",
       "      <th>Tenure</th>\n",
       "      <th>Balance</th>\n",
       "      <th>NumOfProducts</th>\n",
       "      <th>HasCrCard</th>\n",
       "      <th>IsActiveMember</th>\n",
       "      <th>EstimatedSalary</th>\n",
       "    </tr>\n",
       "  </thead>\n",
       "  <tbody>\n",
       "    <tr>\n",
       "      <th>0</th>\n",
       "      <td>2209</td>\n",
       "      <td>15623595</td>\n",
       "      <td>Scott</td>\n",
       "      <td>726</td>\n",
       "      <td>France</td>\n",
       "      <td>Female</td>\n",
       "      <td>39</td>\n",
       "      <td>3</td>\n",
       "      <td>62397.41</td>\n",
       "      <td>1</td>\n",
       "      <td>0</td>\n",
       "      <td>0</td>\n",
       "      <td>106139.31</td>\n",
       "    </tr>\n",
       "    <tr>\n",
       "      <th>1</th>\n",
       "      <td>9924</td>\n",
       "      <td>15740283</td>\n",
       "      <td>Yegorova</td>\n",
       "      <td>661</td>\n",
       "      <td>France</td>\n",
       "      <td>Male</td>\n",
       "      <td>42</td>\n",
       "      <td>3</td>\n",
       "      <td>130339.64</td>\n",
       "      <td>1</td>\n",
       "      <td>1</td>\n",
       "      <td>0</td>\n",
       "      <td>125776.38</td>\n",
       "    </tr>\n",
       "    <tr>\n",
       "      <th>2</th>\n",
       "      <td>4617</td>\n",
       "      <td>15802368</td>\n",
       "      <td>Tan</td>\n",
       "      <td>545</td>\n",
       "      <td>France</td>\n",
       "      <td>Male</td>\n",
       "      <td>34</td>\n",
       "      <td>6</td>\n",
       "      <td>62397.41</td>\n",
       "      <td>2</td>\n",
       "      <td>1</td>\n",
       "      <td>1</td>\n",
       "      <td>78372.28</td>\n",
       "    </tr>\n",
       "    <tr>\n",
       "      <th>3</th>\n",
       "      <td>6077</td>\n",
       "      <td>15615322</td>\n",
       "      <td>Anayochukwu</td>\n",
       "      <td>731</td>\n",
       "      <td>Spain</td>\n",
       "      <td>Female</td>\n",
       "      <td>42</td>\n",
       "      <td>3</td>\n",
       "      <td>86717.08</td>\n",
       "      <td>1</td>\n",
       "      <td>1</td>\n",
       "      <td>0</td>\n",
       "      <td>136026.27</td>\n",
       "    </tr>\n",
       "    <tr>\n",
       "      <th>4</th>\n",
       "      <td>9240</td>\n",
       "      <td>15766374</td>\n",
       "      <td>Glover</td>\n",
       "      <td>533</td>\n",
       "      <td>France</td>\n",
       "      <td>Female</td>\n",
       "      <td>50</td>\n",
       "      <td>6</td>\n",
       "      <td>62397.41</td>\n",
       "      <td>1</td>\n",
       "      <td>1</td>\n",
       "      <td>1</td>\n",
       "      <td>135205.58</td>\n",
       "    </tr>\n",
       "    <tr>\n",
       "      <th>...</th>\n",
       "      <td>...</td>\n",
       "      <td>...</td>\n",
       "      <td>...</td>\n",
       "      <td>...</td>\n",
       "      <td>...</td>\n",
       "      <td>...</td>\n",
       "      <td>...</td>\n",
       "      <td>...</td>\n",
       "      <td>...</td>\n",
       "      <td>...</td>\n",
       "      <td>...</td>\n",
       "      <td>...</td>\n",
       "      <td>...</td>\n",
       "    </tr>\n",
       "    <tr>\n",
       "      <th>1995</th>\n",
       "      <td>7872</td>\n",
       "      <td>15617348</td>\n",
       "      <td>Taylor</td>\n",
       "      <td>628</td>\n",
       "      <td>France</td>\n",
       "      <td>Male</td>\n",
       "      <td>35</td>\n",
       "      <td>6</td>\n",
       "      <td>62397.41</td>\n",
       "      <td>2</td>\n",
       "      <td>1</td>\n",
       "      <td>1</td>\n",
       "      <td>96201.09</td>\n",
       "    </tr>\n",
       "    <tr>\n",
       "      <th>1996</th>\n",
       "      <td>4257</td>\n",
       "      <td>15642785</td>\n",
       "      <td>Tokareva</td>\n",
       "      <td>639</td>\n",
       "      <td>Germany</td>\n",
       "      <td>Male</td>\n",
       "      <td>41</td>\n",
       "      <td>5</td>\n",
       "      <td>98154.30</td>\n",
       "      <td>2</td>\n",
       "      <td>1</td>\n",
       "      <td>0</td>\n",
       "      <td>109531.64</td>\n",
       "    </tr>\n",
       "    <tr>\n",
       "      <th>1997</th>\n",
       "      <td>2273</td>\n",
       "      <td>15766575</td>\n",
       "      <td>Trevisan</td>\n",
       "      <td>548</td>\n",
       "      <td>France</td>\n",
       "      <td>Female</td>\n",
       "      <td>46</td>\n",
       "      <td>3</td>\n",
       "      <td>119078.34</td>\n",
       "      <td>2</td>\n",
       "      <td>1</td>\n",
       "      <td>1</td>\n",
       "      <td>116725.67</td>\n",
       "    </tr>\n",
       "    <tr>\n",
       "      <th>1998</th>\n",
       "      <td>315</td>\n",
       "      <td>15610271</td>\n",
       "      <td>Dickson</td>\n",
       "      <td>602</td>\n",
       "      <td>Spain</td>\n",
       "      <td>Female</td>\n",
       "      <td>44</td>\n",
       "      <td>7</td>\n",
       "      <td>62397.41</td>\n",
       "      <td>2</td>\n",
       "      <td>1</td>\n",
       "      <td>1</td>\n",
       "      <td>128135.95</td>\n",
       "    </tr>\n",
       "    <tr>\n",
       "      <th>1999</th>\n",
       "      <td>3628</td>\n",
       "      <td>15763895</td>\n",
       "      <td>He</td>\n",
       "      <td>615</td>\n",
       "      <td>Germany</td>\n",
       "      <td>Female</td>\n",
       "      <td>32</td>\n",
       "      <td>5</td>\n",
       "      <td>105570.37</td>\n",
       "      <td>1</td>\n",
       "      <td>1</td>\n",
       "      <td>0</td>\n",
       "      <td>104140.30</td>\n",
       "    </tr>\n",
       "  </tbody>\n",
       "</table>\n",
       "<p>2000 rows × 13 columns</p>\n",
       "</div>"
      ],
      "text/plain": [
       "      RowNumber  CustomerId      Surname  CreditScore Geography  Gender  Age  \\\n",
       "0          2209    15623595        Scott          726    France  Female   39   \n",
       "1          9924    15740283     Yegorova          661    France    Male   42   \n",
       "2          4617    15802368          Tan          545    France    Male   34   \n",
       "3          6077    15615322  Anayochukwu          731     Spain  Female   42   \n",
       "4          9240    15766374       Glover          533    France  Female   50   \n",
       "...         ...         ...          ...          ...       ...     ...  ...   \n",
       "1995       7872    15617348       Taylor          628    France    Male   35   \n",
       "1996       4257    15642785     Tokareva          639   Germany    Male   41   \n",
       "1997       2273    15766575     Trevisan          548    France  Female   46   \n",
       "1998        315    15610271      Dickson          602     Spain  Female   44   \n",
       "1999       3628    15763895           He          615   Germany  Female   32   \n",
       "\n",
       "      Tenure    Balance  NumOfProducts  HasCrCard  IsActiveMember  \\\n",
       "0          3   62397.41              1          0               0   \n",
       "1          3  130339.64              1          1               0   \n",
       "2          6   62397.41              2          1               1   \n",
       "3          3   86717.08              1          1               0   \n",
       "4          6   62397.41              1          1               1   \n",
       "...      ...        ...            ...        ...             ...   \n",
       "1995       6   62397.41              2          1               1   \n",
       "1996       5   98154.30              2          1               0   \n",
       "1997       3  119078.34              2          1               1   \n",
       "1998       7   62397.41              2          1               1   \n",
       "1999       5  105570.37              1          1               0   \n",
       "\n",
       "      EstimatedSalary  \n",
       "0           106139.31  \n",
       "1           125776.38  \n",
       "2            78372.28  \n",
       "3           136026.27  \n",
       "4           135205.58  \n",
       "...               ...  \n",
       "1995         96201.09  \n",
       "1996        109531.64  \n",
       "1997        116725.67  \n",
       "1998        128135.95  \n",
       "1999        104140.30  \n",
       "\n",
       "[2000 rows x 13 columns]"
      ]
     },
     "execution_count": 30,
     "metadata": {},
     "output_type": "execute_result"
    }
   ],
   "source": [
    "df_test = pd.read_csv('../churn_prediction_data/test.csv')\n",
    "df_test"
   ]
  },
  {
   "cell_type": "code",
   "execution_count": 31,
   "id": "2c72438c",
   "metadata": {},
   "outputs": [],
   "source": [
    "lbl = preprocessing.LabelEncoder()\n",
    "df_test['Geography'] = lbl.fit_transform(df_test['Geography'].astype(str))\n",
    "df_test['Gender'] = lbl.fit_transform(df_test['Gender'].astype(str))"
   ]
  },
  {
   "cell_type": "code",
   "execution_count": 32,
   "id": "28e56040",
   "metadata": {},
   "outputs": [],
   "source": [
    "#df_test['Gender'] = df_test['Gender'].replace({'Male': 0, 'Female': 1})\n",
    "#df_test.drop('Geography', inplace=True, axis=1)\n",
    "x_hat_test = df_test.loc[:, 'CreditScore': 'EstimatedSalary']\n",
    "x_hat_test_standardized = scaler.transform(x_hat_test)"
   ]
  },
  {
   "cell_type": "code",
   "execution_count": 33,
   "id": "d3b5c761",
   "metadata": {},
   "outputs": [
    {
     "data": {
      "text/plain": [
       "array([0, 0, 0, ..., 0, 0, 0])"
      ]
     },
     "execution_count": 33,
     "metadata": {},
     "output_type": "execute_result"
    }
   ],
   "source": [
    "y_hat_predictions_label = np.argmax(network.predict(x_hat_test_standardized), axis=1)\n",
    "y_hat_predictions_label"
   ]
  },
  {
   "cell_type": "code",
   "execution_count": 34,
   "id": "0d21091c",
   "metadata": {},
   "outputs": [
    {
     "data": {
      "text/html": [
       "<div>\n",
       "<style scoped>\n",
       "    .dataframe tbody tr th:only-of-type {\n",
       "        vertical-align: middle;\n",
       "    }\n",
       "\n",
       "    .dataframe tbody tr th {\n",
       "        vertical-align: top;\n",
       "    }\n",
       "\n",
       "    .dataframe thead th {\n",
       "        text-align: right;\n",
       "    }\n",
       "</style>\n",
       "<table border=\"1\" class=\"dataframe\">\n",
       "  <thead>\n",
       "    <tr style=\"text-align: right;\">\n",
       "      <th></th>\n",
       "      <th>RowNumber</th>\n",
       "      <th>Exited</th>\n",
       "    </tr>\n",
       "  </thead>\n",
       "  <tbody>\n",
       "    <tr>\n",
       "      <th>0</th>\n",
       "      <td>2209</td>\n",
       "      <td>0</td>\n",
       "    </tr>\n",
       "    <tr>\n",
       "      <th>1</th>\n",
       "      <td>9924</td>\n",
       "      <td>0</td>\n",
       "    </tr>\n",
       "    <tr>\n",
       "      <th>2</th>\n",
       "      <td>4617</td>\n",
       "      <td>0</td>\n",
       "    </tr>\n",
       "    <tr>\n",
       "      <th>3</th>\n",
       "      <td>6077</td>\n",
       "      <td>0</td>\n",
       "    </tr>\n",
       "    <tr>\n",
       "      <th>4</th>\n",
       "      <td>9240</td>\n",
       "      <td>1</td>\n",
       "    </tr>\n",
       "    <tr>\n",
       "      <th>...</th>\n",
       "      <td>...</td>\n",
       "      <td>...</td>\n",
       "    </tr>\n",
       "    <tr>\n",
       "      <th>1995</th>\n",
       "      <td>7872</td>\n",
       "      <td>0</td>\n",
       "    </tr>\n",
       "    <tr>\n",
       "      <th>1996</th>\n",
       "      <td>4257</td>\n",
       "      <td>0</td>\n",
       "    </tr>\n",
       "    <tr>\n",
       "      <th>1997</th>\n",
       "      <td>2273</td>\n",
       "      <td>0</td>\n",
       "    </tr>\n",
       "    <tr>\n",
       "      <th>1998</th>\n",
       "      <td>315</td>\n",
       "      <td>0</td>\n",
       "    </tr>\n",
       "    <tr>\n",
       "      <th>1999</th>\n",
       "      <td>3628</td>\n",
       "      <td>0</td>\n",
       "    </tr>\n",
       "  </tbody>\n",
       "</table>\n",
       "<p>2000 rows × 2 columns</p>\n",
       "</div>"
      ],
      "text/plain": [
       "      RowNumber  Exited\n",
       "0          2209       0\n",
       "1          9924       0\n",
       "2          4617       0\n",
       "3          6077       0\n",
       "4          9240       1\n",
       "...         ...     ...\n",
       "1995       7872       0\n",
       "1996       4257       0\n",
       "1997       2273       0\n",
       "1998        315       0\n",
       "1999       3628       0\n",
       "\n",
       "[2000 rows x 2 columns]"
      ]
     },
     "execution_count": 34,
     "metadata": {},
     "output_type": "execute_result"
    }
   ],
   "source": [
    "df_upload = pd.DataFrame({\n",
    "    'RowNumber': list(df_test.RowNumber), \n",
    "    'Exited': y_hat_predictions_label\n",
    "})\n",
    "df_upload"
   ]
  },
  {
   "cell_type": "code",
   "execution_count": 35,
   "id": "2613cc13",
   "metadata": {},
   "outputs": [],
   "source": [
    "df_upload.to_csv('../churn_prediction_data/DNN.csv')"
   ]
  },
  {
   "cell_type": "code",
   "execution_count": null,
   "id": "e9c0a26e",
   "metadata": {},
   "outputs": [],
   "source": []
  }
 ],
 "metadata": {
  "kernelspec": {
   "display_name": "Python 3 (ipykernel)",
   "language": "python",
   "name": "python3"
  },
  "language_info": {
   "codemirror_mode": {
    "name": "ipython",
    "version": 3
   },
   "file_extension": ".py",
   "mimetype": "text/x-python",
   "name": "python",
   "nbconvert_exporter": "python",
   "pygments_lexer": "ipython3",
   "version": "3.8.11"
  }
 },
 "nbformat": 4,
 "nbformat_minor": 5
}
