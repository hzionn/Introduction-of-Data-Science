{
 "cells": [
  {
   "cell_type": "code",
   "execution_count": 27,
   "metadata": {},
   "outputs": [],
   "source": [
    "from pandas import DataFrame, read_csv\n",
    "from numpy import argmax\n",
    "from sklearn.preprocessing import LabelEncoder, StandardScaler\n",
    "from sklearn.model_selection import train_test_split\n",
    "from keras.utils import np_utils\n",
    "from keras.models import Sequential\n",
    "from keras.layers import Dense\n",
    "from keras.regularizers import l2\n",
    "import matplotlib.pyplot as plt\n",
    "import tensorflow_addons as tfa\n",
    "from keras import metrics\n",
    "from os import listdir\n",
    "from hyperparameter import EPOCHS, VERBOSE, BATCH_SIZE"
   ]
  },
  {
   "cell_type": "code",
   "execution_count": 4,
   "metadata": {},
   "outputs": [],
   "source": [
    "df_train = read_csv('../churn_prediction_data/train.csv')\n",
    "df_test = read_csv('../churn_prediction_data/test.csv')"
   ]
  },
  {
   "cell_type": "code",
   "execution_count": 5,
   "metadata": {},
   "outputs": [],
   "source": [
    "lbl = LabelEncoder()\n",
    "\n",
    "df_train['Geography'] = lbl.fit_transform(df_train['Geography'].astype(str))\n",
    "df_train['Gender'] = lbl.fit_transform(df_train['Gender'].astype(str))\n",
    "\n",
    "df_test['Geography'] = lbl.fit_transform(df_test['Geography'].astype(str))\n",
    "df_test['Gender'] = lbl.fit_transform(df_test['Gender'].astype(str))"
   ]
  },
  {
   "cell_type": "code",
   "execution_count": 6,
   "metadata": {},
   "outputs": [],
   "source": [
    "train_data = df_train.loc[:, 'CreditScore': 'EstimatedSalary']\n",
    "train_label = df_train['Exited']\n",
    "\n",
    "x_train, x_test, y_train, y_test = train_test_split(\n",
    "    train_data, train_label, test_size=0.25, random_state=48)"
   ]
  },
  {
   "cell_type": "code",
   "execution_count": 7,
   "metadata": {},
   "outputs": [],
   "source": [
    "scaler = StandardScaler()\n",
    "x_train_standardized = scaler.fit_transform(x_train)\n",
    "x_test_standardized = scaler.transform(x_test)"
   ]
  },
  {
   "cell_type": "code",
   "execution_count": 8,
   "metadata": {},
   "outputs": [],
   "source": [
    "y_train = np_utils.to_categorical(y_train)\n",
    "y_test = np_utils.to_categorical(y_test)"
   ]
  },
  {
   "cell_type": "code",
   "execution_count": 9,
   "metadata": {},
   "outputs": [],
   "source": [
    "METRICS = [\n",
    "    'accuracy',\n",
    "    metrics.Precision(name='precision', thresholds=0.7),\n",
    "    tfa.metrics.F1Score(num_classes=2)\n",
    "]"
   ]
  },
  {
   "cell_type": "code",
   "execution_count": 10,
   "metadata": {},
   "outputs": [
    {
     "name": "stdout",
     "output_type": "stream",
     "text": [
      "Model: \"sequential\"\n",
      "_________________________________________________________________\n",
      "Layer (type)                 Output Shape              Param #   \n",
      "=================================================================\n",
      "dense (Dense)                (None, 9)                 99        \n",
      "_________________________________________________________________\n",
      "dense_1 (Dense)              (None, 18)                180       \n",
      "_________________________________________________________________\n",
      "dense_2 (Dense)              (None, 18)                342       \n",
      "_________________________________________________________________\n",
      "dense_3 (Dense)              (None, 9)                 171       \n",
      "_________________________________________________________________\n",
      "dense_4 (Dense)              (None, 9)                 90        \n",
      "_________________________________________________________________\n",
      "dense_5 (Dense)              (None, 2)                 20        \n",
      "=================================================================\n",
      "Total params: 902\n",
      "Trainable params: 902\n",
      "Non-trainable params: 0\n",
      "_________________________________________________________________\n"
     ]
    }
   ],
   "source": [
    "number_of_features = x_train_standardized.shape[1]\n",
    "\n",
    "network = Sequential()\n",
    "network.add(Dense(units=9, activation='relu', input_dim=number_of_features))\n",
    "network.add(Dense(units=18, activation='relu'))\n",
    "network.add(Dense(units=18, activation='relu', kernel_regularizer=l2(0.01))) #kernel_regularizer=regularizers.l2(0.01)\n",
    "network.add(Dense(units=9, activation='relu', kernel_regularizer=l2(0.01)))\n",
    "network.add(Dense(units=9, activation='relu'))\n",
    "network.add(Dense(units=2, activation='sigmoid'))\n",
    "\n",
    "network.compile(\n",
    "    loss='binary_crossentropy', \n",
    "    optimizer='rmsprop', \n",
    "    metrics=METRICS)\n",
    "\n",
    "network.summary()"
   ]
  },
  {
   "cell_type": "code",
   "execution_count": 11,
   "metadata": {},
   "outputs": [
    {
     "name": "stdout",
     "output_type": "stream",
     "text": [
      "Epoch 1/150\n"
     ]
    },
    {
     "name": "stderr",
     "output_type": "stream",
     "text": [
      "2021-12-03 03:50:50.394079: I tensorflow/compiler/mlir/mlir_graph_optimization_pass.cc:185] None of the MLIR Optimization Passes are enabled (registered 2)\n"
     ]
    },
    {
     "name": "stdout",
     "output_type": "stream",
     "text": [
      "120/120 [==============================] - 2s 3ms/step - loss: 0.7665 - accuracy: 0.7905 - precision: 0.8020 - f1_score: 0.4415 - val_loss: 0.6206 - val_accuracy: 0.8070 - val_precision: 0.8303 - val_f1_score: 0.4466\n",
      "Epoch 2/150\n",
      "120/120 [==============================] - 0s 2ms/step - loss: 0.5757 - accuracy: 0.7923 - precision: 0.8414 - f1_score: 0.4421 - val_loss: 0.5066 - val_accuracy: 0.8070 - val_precision: 0.8740 - val_f1_score: 0.4466\n",
      "Epoch 3/150\n",
      "120/120 [==============================] - 0s 1ms/step - loss: 0.4987 - accuracy: 0.7923 - precision: 0.8665 - f1_score: 0.4421 - val_loss: 0.4642 - val_accuracy: 0.8070 - val_precision: 0.8990 - val_f1_score: 0.4466\n",
      "Epoch 4/150\n",
      "120/120 [==============================] - 0s 1ms/step - loss: 0.4676 - accuracy: 0.7923 - precision: 0.8736 - f1_score: 0.4421 - val_loss: 0.4409 - val_accuracy: 0.8070 - val_precision: 0.8962 - val_f1_score: 0.4466\n",
      "Epoch 5/150\n",
      "120/120 [==============================] - 0s 1ms/step - loss: 0.4526 - accuracy: 0.8055 - precision: 0.8811 - f1_score: 0.5521 - val_loss: 0.4290 - val_accuracy: 0.8255 - val_precision: 0.8941 - val_f1_score: 0.5673\n",
      "Epoch 6/150\n",
      "120/120 [==============================] - 0s 1ms/step - loss: 0.4426 - accuracy: 0.8120 - precision: 0.8823 - f1_score: 0.6000 - val_loss: 0.4212 - val_accuracy: 0.8280 - val_precision: 0.8864 - val_f1_score: 0.5726\n",
      "Epoch 7/150\n",
      "120/120 [==============================] - 0s 1ms/step - loss: 0.4343 - accuracy: 0.8132 - precision: 0.8851 - f1_score: 0.6111 - val_loss: 0.4146 - val_accuracy: 0.8290 - val_precision: 0.9068 - val_f1_score: 0.6512\n",
      "Epoch 8/150\n",
      "120/120 [==============================] - 0s 3ms/step - loss: 0.4276 - accuracy: 0.8155 - precision: 0.8895 - f1_score: 0.6377 - val_loss: 0.4084 - val_accuracy: 0.8325 - val_precision: 0.9095 - val_f1_score: 0.6608\n",
      "Epoch 9/150\n",
      "120/120 [==============================] - 0s 2ms/step - loss: 0.4212 - accuracy: 0.8243 - precision: 0.8911 - f1_score: 0.6617 - val_loss: 0.4000 - val_accuracy: 0.8375 - val_precision: 0.8997 - val_f1_score: 0.6471\n",
      "Epoch 10/150\n",
      "120/120 [==============================] - 0s 1ms/step - loss: 0.4165 - accuracy: 0.8257 - precision: 0.8917 - f1_score: 0.6652 - val_loss: 0.3938 - val_accuracy: 0.8420 - val_precision: 0.9049 - val_f1_score: 0.6649\n",
      "Epoch 11/150\n",
      "120/120 [==============================] - 0s 1ms/step - loss: 0.4114 - accuracy: 0.8283 - precision: 0.8948 - f1_score: 0.6738 - val_loss: 0.3880 - val_accuracy: 0.8465 - val_precision: 0.9046 - val_f1_score: 0.6846\n",
      "Epoch 12/150\n",
      "120/120 [==============================] - 0s 1ms/step - loss: 0.4059 - accuracy: 0.8307 - precision: 0.8989 - f1_score: 0.6815 - val_loss: 0.3855 - val_accuracy: 0.8445 - val_precision: 0.9145 - val_f1_score: 0.7028\n",
      "Epoch 13/150\n",
      "120/120 [==============================] - 0s 2ms/step - loss: 0.4002 - accuracy: 0.8317 - precision: 0.8967 - f1_score: 0.6874 - val_loss: 0.3785 - val_accuracy: 0.8490 - val_precision: 0.9100 - val_f1_score: 0.7063\n",
      "Epoch 14/150\n",
      "120/120 [==============================] - 0s 1ms/step - loss: 0.3959 - accuracy: 0.8317 - precision: 0.9000 - f1_score: 0.6892 - val_loss: 0.3744 - val_accuracy: 0.8495 - val_precision: 0.9092 - val_f1_score: 0.7108\n",
      "Epoch 15/150\n",
      "120/120 [==============================] - 0s 1ms/step - loss: 0.3916 - accuracy: 0.8348 - precision: 0.9034 - f1_score: 0.6997 - val_loss: 0.3729 - val_accuracy: 0.8575 - val_precision: 0.8948 - val_f1_score: 0.7001\n",
      "Epoch 16/150\n",
      "120/120 [==============================] - 0s 1ms/step - loss: 0.3885 - accuracy: 0.8377 - precision: 0.9040 - f1_score: 0.7016 - val_loss: 0.3680 - val_accuracy: 0.8575 - val_precision: 0.9051 - val_f1_score: 0.7187\n",
      "Epoch 17/150\n",
      "120/120 [==============================] - 0s 1ms/step - loss: 0.3856 - accuracy: 0.8375 - precision: 0.9032 - f1_score: 0.7026 - val_loss: 0.3646 - val_accuracy: 0.8495 - val_precision: 0.9148 - val_f1_score: 0.7183\n",
      "Epoch 18/150\n",
      "120/120 [==============================] - 0s 1ms/step - loss: 0.3828 - accuracy: 0.8413 - precision: 0.9023 - f1_score: 0.7121 - val_loss: 0.3617 - val_accuracy: 0.8565 - val_precision: 0.9077 - val_f1_score: 0.7182\n",
      "Epoch 19/150\n",
      "120/120 [==============================] - 0s 1ms/step - loss: 0.3801 - accuracy: 0.8385 - precision: 0.9046 - f1_score: 0.7059 - val_loss: 0.3612 - val_accuracy: 0.8495 - val_precision: 0.9146 - val_f1_score: 0.7168\n",
      "Epoch 20/150\n",
      "120/120 [==============================] - 0s 1ms/step - loss: 0.3793 - accuracy: 0.8385 - precision: 0.9035 - f1_score: 0.7082 - val_loss: 0.3595 - val_accuracy: 0.8625 - val_precision: 0.9029 - val_f1_score: 0.7239\n",
      "Epoch 21/150\n",
      "120/120 [==============================] - 0s 1ms/step - loss: 0.3770 - accuracy: 0.8423 - precision: 0.9026 - f1_score: 0.7132 - val_loss: 0.3576 - val_accuracy: 0.8615 - val_precision: 0.9016 - val_f1_score: 0.7203\n",
      "Epoch 22/150\n",
      "120/120 [==============================] - 0s 1ms/step - loss: 0.3754 - accuracy: 0.8407 - precision: 0.9025 - f1_score: 0.7104 - val_loss: 0.3554 - val_accuracy: 0.8625 - val_precision: 0.9069 - val_f1_score: 0.7285\n",
      "Epoch 23/150\n",
      "120/120 [==============================] - 0s 1ms/step - loss: 0.3743 - accuracy: 0.8398 - precision: 0.9003 - f1_score: 0.7097 - val_loss: 0.3538 - val_accuracy: 0.8615 - val_precision: 0.9084 - val_f1_score: 0.7310\n",
      "Epoch 24/150\n",
      "120/120 [==============================] - 0s 1ms/step - loss: 0.3733 - accuracy: 0.8438 - precision: 0.9025 - f1_score: 0.7174 - val_loss: 0.3541 - val_accuracy: 0.8595 - val_precision: 0.9134 - val_f1_score: 0.7293\n",
      "Epoch 25/150\n",
      "120/120 [==============================] - 0s 1ms/step - loss: 0.3712 - accuracy: 0.8447 - precision: 0.9038 - f1_score: 0.7181 - val_loss: 0.3525 - val_accuracy: 0.8610 - val_precision: 0.9078 - val_f1_score: 0.7340\n",
      "Epoch 26/150\n",
      "120/120 [==============================] - 0s 1ms/step - loss: 0.3706 - accuracy: 0.8443 - precision: 0.9035 - f1_score: 0.7194 - val_loss: 0.3539 - val_accuracy: 0.8580 - val_precision: 0.9168 - val_f1_score: 0.7365\n",
      "Epoch 27/150\n",
      "120/120 [==============================] - 0s 1ms/step - loss: 0.3684 - accuracy: 0.8470 - precision: 0.9013 - f1_score: 0.7233 - val_loss: 0.3581 - val_accuracy: 0.8580 - val_precision: 0.9209 - val_f1_score: 0.7442\n",
      "Epoch 28/150\n",
      "120/120 [==============================] - 0s 1ms/step - loss: 0.3677 - accuracy: 0.8452 - precision: 0.9058 - f1_score: 0.7225 - val_loss: 0.3496 - val_accuracy: 0.8665 - val_precision: 0.9078 - val_f1_score: 0.7379\n",
      "Epoch 29/150\n",
      "120/120 [==============================] - 0s 1ms/step - loss: 0.3676 - accuracy: 0.8493 - precision: 0.8989 - f1_score: 0.7277 - val_loss: 0.3497 - val_accuracy: 0.8665 - val_precision: 0.9115 - val_f1_score: 0.7428\n",
      "Epoch 30/150\n",
      "120/120 [==============================] - 0s 1ms/step - loss: 0.3661 - accuracy: 0.8463 - precision: 0.9035 - f1_score: 0.7209 - val_loss: 0.3488 - val_accuracy: 0.8610 - val_precision: 0.9104 - val_f1_score: 0.7401\n",
      "Epoch 31/150\n",
      "120/120 [==============================] - 0s 1ms/step - loss: 0.3650 - accuracy: 0.8467 - precision: 0.9049 - f1_score: 0.7238 - val_loss: 0.3482 - val_accuracy: 0.8660 - val_precision: 0.9079 - val_f1_score: 0.7462\n",
      "Epoch 32/150\n",
      "120/120 [==============================] - 0s 1ms/step - loss: 0.3648 - accuracy: 0.8497 - precision: 0.9024 - f1_score: 0.7287 - val_loss: 0.3474 - val_accuracy: 0.8690 - val_precision: 0.9047 - val_f1_score: 0.7445\n",
      "Epoch 33/150\n",
      "120/120 [==============================] - 0s 1ms/step - loss: 0.3634 - accuracy: 0.8487 - precision: 0.9042 - f1_score: 0.7289 - val_loss: 0.3490 - val_accuracy: 0.8635 - val_precision: 0.9117 - val_f1_score: 0.7451\n",
      "Epoch 34/150\n",
      "120/120 [==============================] - 0s 1ms/step - loss: 0.3628 - accuracy: 0.8495 - precision: 0.9046 - f1_score: 0.7296 - val_loss: 0.3482 - val_accuracy: 0.8695 - val_precision: 0.9010 - val_f1_score: 0.7326\n",
      "Epoch 35/150\n",
      "120/120 [==============================] - 0s 1ms/step - loss: 0.3622 - accuracy: 0.8495 - precision: 0.9022 - f1_score: 0.7292 - val_loss: 0.3471 - val_accuracy: 0.8655 - val_precision: 0.9114 - val_f1_score: 0.7489\n",
      "Epoch 36/150\n",
      "120/120 [==============================] - 0s 1ms/step - loss: 0.3599 - accuracy: 0.8513 - precision: 0.9035 - f1_score: 0.7315 - val_loss: 0.3453 - val_accuracy: 0.8670 - val_precision: 0.9094 - val_f1_score: 0.7461\n",
      "Epoch 37/150\n",
      "120/120 [==============================] - 0s 1ms/step - loss: 0.3602 - accuracy: 0.8513 - precision: 0.9062 - f1_score: 0.7324 - val_loss: 0.3473 - val_accuracy: 0.8685 - val_precision: 0.9133 - val_f1_score: 0.7617\n",
      "Epoch 38/150\n",
      "120/120 [==============================] - 0s 1ms/step - loss: 0.3592 - accuracy: 0.8530 - precision: 0.9042 - f1_score: 0.7375 - val_loss: 0.3443 - val_accuracy: 0.8685 - val_precision: 0.9059 - val_f1_score: 0.7432\n",
      "Epoch 39/150\n",
      "120/120 [==============================] - 0s 1ms/step - loss: 0.3576 - accuracy: 0.8528 - precision: 0.9030 - f1_score: 0.7356 - val_loss: 0.3440 - val_accuracy: 0.8665 - val_precision: 0.9063 - val_f1_score: 0.7514\n",
      "Epoch 40/150\n",
      "120/120 [==============================] - 0s 1ms/step - loss: 0.3573 - accuracy: 0.8543 - precision: 0.9056 - f1_score: 0.7391 - val_loss: 0.3479 - val_accuracy: 0.8670 - val_precision: 0.9099 - val_f1_score: 0.7616\n",
      "Epoch 41/150\n",
      "120/120 [==============================] - 0s 1ms/step - loss: 0.3576 - accuracy: 0.8522 - precision: 0.9037 - f1_score: 0.7359 - val_loss: 0.3443 - val_accuracy: 0.8675 - val_precision: 0.9037 - val_f1_score: 0.7526\n",
      "Epoch 42/150\n",
      "120/120 [==============================] - 0s 1ms/step - loss: 0.3564 - accuracy: 0.8543 - precision: 0.9044 - f1_score: 0.7378 - val_loss: 0.3497 - val_accuracy: 0.8645 - val_precision: 0.9099 - val_f1_score: 0.7591\n",
      "Epoch 43/150\n",
      "120/120 [==============================] - 0s 2ms/step - loss: 0.3556 - accuracy: 0.8548 - precision: 0.9063 - f1_score: 0.7388 - val_loss: 0.3422 - val_accuracy: 0.8685 - val_precision: 0.9052 - val_f1_score: 0.7453\n",
      "Epoch 44/150\n",
      "120/120 [==============================] - 0s 2ms/step - loss: 0.3544 - accuracy: 0.8557 - precision: 0.9056 - f1_score: 0.7400 - val_loss: 0.3422 - val_accuracy: 0.8665 - val_precision: 0.9041 - val_f1_score: 0.7448\n",
      "Epoch 45/150\n",
      "120/120 [==============================] - 0s 1ms/step - loss: 0.3546 - accuracy: 0.8570 - precision: 0.9048 - f1_score: 0.7436 - val_loss: 0.3439 - val_accuracy: 0.8665 - val_precision: 0.9069 - val_f1_score: 0.7538\n",
      "Epoch 46/150\n",
      "120/120 [==============================] - 0s 1ms/step - loss: 0.3541 - accuracy: 0.8575 - precision: 0.9043 - f1_score: 0.7462 - val_loss: 0.3437 - val_accuracy: 0.8690 - val_precision: 0.9069 - val_f1_score: 0.7588\n",
      "Epoch 47/150\n",
      "120/120 [==============================] - 0s 1ms/step - loss: 0.3520 - accuracy: 0.8580 - precision: 0.9055 - f1_score: 0.7458 - val_loss: 0.3406 - val_accuracy: 0.8710 - val_precision: 0.9057 - val_f1_score: 0.7576\n",
      "Epoch 48/150\n",
      "120/120 [==============================] - 0s 1ms/step - loss: 0.3525 - accuracy: 0.8562 - precision: 0.9045 - f1_score: 0.7422 - val_loss: 0.3418 - val_accuracy: 0.8640 - val_precision: 0.9085 - val_f1_score: 0.7508\n",
      "Epoch 49/150\n",
      "120/120 [==============================] - 0s 1ms/step - loss: 0.3525 - accuracy: 0.8558 - precision: 0.9073 - f1_score: 0.7427 - val_loss: 0.3397 - val_accuracy: 0.8695 - val_precision: 0.9052 - val_f1_score: 0.7431\n",
      "Epoch 50/150\n",
      "120/120 [==============================] - 0s 2ms/step - loss: 0.3517 - accuracy: 0.8590 - precision: 0.9031 - f1_score: 0.7472 - val_loss: 0.3404 - val_accuracy: 0.8665 - val_precision: 0.9064 - val_f1_score: 0.7514\n",
      "Epoch 51/150\n",
      "120/120 [==============================] - 0s 2ms/step - loss: 0.3508 - accuracy: 0.8582 - precision: 0.9063 - f1_score: 0.7484 - val_loss: 0.3413 - val_accuracy: 0.8690 - val_precision: 0.9071 - val_f1_score: 0.7563\n",
      "Epoch 52/150\n",
      "120/120 [==============================] - 0s 2ms/step - loss: 0.3504 - accuracy: 0.8608 - precision: 0.9066 - f1_score: 0.7516 - val_loss: 0.3410 - val_accuracy: 0.8690 - val_precision: 0.9058 - val_f1_score: 0.7410\n",
      "Epoch 53/150\n",
      "120/120 [==============================] - 0s 2ms/step - loss: 0.3501 - accuracy: 0.8588 - precision: 0.9068 - f1_score: 0.7486 - val_loss: 0.3384 - val_accuracy: 0.8700 - val_precision: 0.9066 - val_f1_score: 0.7505\n",
      "Epoch 54/150\n",
      "120/120 [==============================] - 0s 1ms/step - loss: 0.3495 - accuracy: 0.8583 - precision: 0.9053 - f1_score: 0.7478 - val_loss: 0.3403 - val_accuracy: 0.8680 - val_precision: 0.9035 - val_f1_score: 0.7383\n",
      "Epoch 55/150\n",
      "120/120 [==============================] - 0s 1ms/step - loss: 0.3486 - accuracy: 0.8595 - precision: 0.9059 - f1_score: 0.7494 - val_loss: 0.3410 - val_accuracy: 0.8655 - val_precision: 0.9072 - val_f1_score: 0.7550\n",
      "Epoch 56/150\n",
      "120/120 [==============================] - 0s 2ms/step - loss: 0.3492 - accuracy: 0.8613 - precision: 0.9043 - f1_score: 0.7514 - val_loss: 0.3397 - val_accuracy: 0.8660 - val_precision: 0.9061 - val_f1_score: 0.7532\n",
      "Epoch 57/150\n",
      "120/120 [==============================] - 0s 1ms/step - loss: 0.3478 - accuracy: 0.8603 - precision: 0.9053 - f1_score: 0.7510 - val_loss: 0.3394 - val_accuracy: 0.8680 - val_precision: 0.9062 - val_f1_score: 0.7557\n",
      "Epoch 58/150\n",
      "120/120 [==============================] - 0s 1ms/step - loss: 0.3478 - accuracy: 0.8600 - precision: 0.9059 - f1_score: 0.7519 - val_loss: 0.3392 - val_accuracy: 0.8690 - val_precision: 0.9021 - val_f1_score: 0.7417\n",
      "Epoch 59/150\n",
      "120/120 [==============================] - 0s 1ms/step - loss: 0.3475 - accuracy: 0.8620 - precision: 0.9048 - f1_score: 0.7545 - val_loss: 0.3442 - val_accuracy: 0.8655 - val_precision: 0.9094 - val_f1_score: 0.7538\n",
      "Epoch 60/150\n",
      "120/120 [==============================] - 0s 1ms/step - loss: 0.3465 - accuracy: 0.8608 - precision: 0.9073 - f1_score: 0.7526 - val_loss: 0.3470 - val_accuracy: 0.8600 - val_precision: 0.9072 - val_f1_score: 0.7548\n",
      "Epoch 61/150\n",
      "120/120 [==============================] - 0s 1ms/step - loss: 0.3475 - accuracy: 0.8600 - precision: 0.9047 - f1_score: 0.7531 - val_loss: 0.3380 - val_accuracy: 0.8710 - val_precision: 0.9028 - val_f1_score: 0.7531\n",
      "Epoch 62/150\n",
      "120/120 [==============================] - 0s 1ms/step - loss: 0.3473 - accuracy: 0.8605 - precision: 0.9053 - f1_score: 0.7516 - val_loss: 0.3407 - val_accuracy: 0.8640 - val_precision: 0.9055 - val_f1_score: 0.7514\n",
      "Epoch 63/150\n",
      "120/120 [==============================] - 0s 1ms/step - loss: 0.3451 - accuracy: 0.8638 - precision: 0.9030 - f1_score: 0.7583 - val_loss: 0.3499 - val_accuracy: 0.8655 - val_precision: 0.8954 - val_f1_score: 0.7299\n",
      "Epoch 64/150\n",
      "120/120 [==============================] - 0s 1ms/step - loss: 0.3458 - accuracy: 0.8612 - precision: 0.9069 - f1_score: 0.7535 - val_loss: 0.3397 - val_accuracy: 0.8690 - val_precision: 0.9016 - val_f1_score: 0.7473\n",
      "Epoch 65/150\n",
      "120/120 [==============================] - 0s 1ms/step - loss: 0.3455 - accuracy: 0.8612 - precision: 0.9066 - f1_score: 0.7539 - val_loss: 0.3385 - val_accuracy: 0.8675 - val_precision: 0.9045 - val_f1_score: 0.7526\n",
      "Epoch 66/150\n",
      "120/120 [==============================] - 0s 1ms/step - loss: 0.3450 - accuracy: 0.8617 - precision: 0.9060 - f1_score: 0.7532 - val_loss: 0.3399 - val_accuracy: 0.8670 - val_precision: 0.9070 - val_f1_score: 0.7551\n",
      "Epoch 67/150\n",
      "120/120 [==============================] - 0s 1ms/step - loss: 0.3442 - accuracy: 0.8623 - precision: 0.9063 - f1_score: 0.7574 - val_loss: 0.3401 - val_accuracy: 0.8640 - val_precision: 0.9061 - val_f1_score: 0.7483\n",
      "Epoch 68/150\n",
      "120/120 [==============================] - 0s 1ms/step - loss: 0.3443 - accuracy: 0.8638 - precision: 0.9052 - f1_score: 0.7583 - val_loss: 0.3401 - val_accuracy: 0.8650 - val_precision: 0.9083 - val_f1_score: 0.7520\n",
      "Epoch 69/150\n",
      "120/120 [==============================] - 0s 1ms/step - loss: 0.3448 - accuracy: 0.8635 - precision: 0.9057 - f1_score: 0.7575 - val_loss: 0.3379 - val_accuracy: 0.8660 - val_precision: 0.9098 - val_f1_score: 0.7501\n",
      "Epoch 70/150\n",
      "120/120 [==============================] - 0s 1ms/step - loss: 0.3431 - accuracy: 0.8630 - precision: 0.9054 - f1_score: 0.7554 - val_loss: 0.3409 - val_accuracy: 0.8645 - val_precision: 0.9003 - val_f1_score: 0.7532\n",
      "Epoch 71/150\n",
      "120/120 [==============================] - 0s 1ms/step - loss: 0.3446 - accuracy: 0.8622 - precision: 0.9039 - f1_score: 0.7583 - val_loss: 0.3420 - val_accuracy: 0.8640 - val_precision: 0.9067 - val_f1_score: 0.7544\n",
      "Epoch 72/150\n",
      "120/120 [==============================] - 0s 1ms/step - loss: 0.3439 - accuracy: 0.8618 - precision: 0.9055 - f1_score: 0.7547 - val_loss: 0.3373 - val_accuracy: 0.8670 - val_precision: 0.9072 - val_f1_score: 0.7507\n",
      "Epoch 73/150\n",
      "120/120 [==============================] - 0s 1ms/step - loss: 0.3437 - accuracy: 0.8627 - precision: 0.9062 - f1_score: 0.7567 - val_loss: 0.3395 - val_accuracy: 0.8640 - val_precision: 0.9058 - val_f1_score: 0.7532\n",
      "Epoch 74/150\n",
      "120/120 [==============================] - 0s 1ms/step - loss: 0.3433 - accuracy: 0.8635 - precision: 0.9051 - f1_score: 0.7599 - val_loss: 0.3363 - val_accuracy: 0.8675 - val_precision: 0.9056 - val_f1_score: 0.7494\n",
      "Epoch 75/150\n",
      "120/120 [==============================] - 0s 1ms/step - loss: 0.3427 - accuracy: 0.8647 - precision: 0.9070 - f1_score: 0.7608 - val_loss: 0.3367 - val_accuracy: 0.8680 - val_precision: 0.9062 - val_f1_score: 0.7480\n",
      "Epoch 76/150\n",
      "120/120 [==============================] - 0s 1ms/step - loss: 0.3436 - accuracy: 0.8643 - precision: 0.9066 - f1_score: 0.7587 - val_loss: 0.3381 - val_accuracy: 0.8685 - val_precision: 0.9018 - val_f1_score: 0.7446\n",
      "Epoch 77/150\n",
      "120/120 [==============================] - 0s 1ms/step - loss: 0.3419 - accuracy: 0.8650 - precision: 0.9075 - f1_score: 0.7627 - val_loss: 0.3366 - val_accuracy: 0.8690 - val_precision: 0.9035 - val_f1_score: 0.7459\n",
      "Epoch 78/150\n",
      "120/120 [==============================] - 0s 1ms/step - loss: 0.3421 - accuracy: 0.8643 - precision: 0.9084 - f1_score: 0.7613 - val_loss: 0.3367 - val_accuracy: 0.8660 - val_precision: 0.9067 - val_f1_score: 0.7488\n",
      "Epoch 79/150\n",
      "120/120 [==============================] - 0s 1ms/step - loss: 0.3419 - accuracy: 0.8652 - precision: 0.9093 - f1_score: 0.7606 - val_loss: 0.3388 - val_accuracy: 0.8690 - val_precision: 0.8997 - val_f1_score: 0.7506\n",
      "Epoch 80/150\n",
      "120/120 [==============================] - 0s 1ms/step - loss: 0.3424 - accuracy: 0.8627 - precision: 0.9052 - f1_score: 0.7571 - val_loss: 0.3418 - val_accuracy: 0.8640 - val_precision: 0.9085 - val_f1_score: 0.7544\n",
      "Epoch 81/150\n",
      "120/120 [==============================] - 0s 1ms/step - loss: 0.3415 - accuracy: 0.8615 - precision: 0.9064 - f1_score: 0.7555 - val_loss: 0.3375 - val_accuracy: 0.8650 - val_precision: 0.9026 - val_f1_score: 0.7450\n",
      "Epoch 82/150\n",
      "120/120 [==============================] - 0s 1ms/step - loss: 0.3412 - accuracy: 0.8663 - precision: 0.9078 - f1_score: 0.7643 - val_loss: 0.3395 - val_accuracy: 0.8655 - val_precision: 0.9046 - val_f1_score: 0.7562\n",
      "Epoch 83/150\n",
      "120/120 [==============================] - 0s 1ms/step - loss: 0.3415 - accuracy: 0.8650 - precision: 0.9083 - f1_score: 0.7617 - val_loss: 0.3392 - val_accuracy: 0.8635 - val_precision: 0.8993 - val_f1_score: 0.7228\n",
      "Epoch 84/150\n",
      "120/120 [==============================] - 0s 1ms/step - loss: 0.3411 - accuracy: 0.8630 - precision: 0.9052 - f1_score: 0.7554 - val_loss: 0.3369 - val_accuracy: 0.8660 - val_precision: 0.9017 - val_f1_score: 0.7475\n",
      "Epoch 85/150\n",
      "120/120 [==============================] - 0s 1ms/step - loss: 0.3408 - accuracy: 0.8652 - precision: 0.9056 - f1_score: 0.7625 - val_loss: 0.3378 - val_accuracy: 0.8670 - val_precision: 0.9071 - val_f1_score: 0.7538\n",
      "Epoch 86/150\n",
      "120/120 [==============================] - 0s 1ms/step - loss: 0.3410 - accuracy: 0.8627 - precision: 0.9097 - f1_score: 0.7582 - val_loss: 0.3407 - val_accuracy: 0.8670 - val_precision: 0.8985 - val_f1_score: 0.7318\n",
      "Epoch 87/150\n",
      "120/120 [==============================] - 0s 1ms/step - loss: 0.3396 - accuracy: 0.8638 - precision: 0.9075 - f1_score: 0.7600 - val_loss: 0.3409 - val_accuracy: 0.8645 - val_precision: 0.9085 - val_f1_score: 0.7562\n",
      "Epoch 88/150\n",
      "120/120 [==============================] - 0s 1ms/step - loss: 0.3408 - accuracy: 0.8625 - precision: 0.9101 - f1_score: 0.7570 - val_loss: 0.3376 - val_accuracy: 0.8670 - val_precision: 0.9006 - val_f1_score: 0.7488\n",
      "Epoch 89/150\n",
      "120/120 [==============================] - 0s 1ms/step - loss: 0.3402 - accuracy: 0.8658 - precision: 0.9059 - f1_score: 0.7631 - val_loss: 0.3397 - val_accuracy: 0.8645 - val_precision: 0.9031 - val_f1_score: 0.7514\n",
      "Epoch 90/150\n",
      "120/120 [==============================] - 0s 1ms/step - loss: 0.3394 - accuracy: 0.8648 - precision: 0.9065 - f1_score: 0.7621 - val_loss: 0.3370 - val_accuracy: 0.8645 - val_precision: 0.9048 - val_f1_score: 0.7437\n",
      "Epoch 91/150\n",
      "120/120 [==============================] - 0s 1ms/step - loss: 0.3401 - accuracy: 0.8645 - precision: 0.9069 - f1_score: 0.7620 - val_loss: 0.3355 - val_accuracy: 0.8680 - val_precision: 0.9026 - val_f1_score: 0.7433\n",
      "Epoch 92/150\n",
      "120/120 [==============================] - 0s 1ms/step - loss: 0.3392 - accuracy: 0.8650 - precision: 0.9065 - f1_score: 0.7614 - val_loss: 0.3382 - val_accuracy: 0.8665 - val_precision: 0.8997 - val_f1_score: 0.7400\n",
      "Epoch 93/150\n",
      "120/120 [==============================] - 0s 1ms/step - loss: 0.3393 - accuracy: 0.8630 - precision: 0.9057 - f1_score: 0.7580 - val_loss: 0.3365 - val_accuracy: 0.8685 - val_precision: 0.9064 - val_f1_score: 0.7557\n",
      "Epoch 94/150\n",
      "120/120 [==============================] - 0s 1ms/step - loss: 0.3383 - accuracy: 0.8650 - precision: 0.9071 - f1_score: 0.7621 - val_loss: 0.3358 - val_accuracy: 0.8680 - val_precision: 0.9047 - val_f1_score: 0.7551\n",
      "Epoch 95/150\n",
      "120/120 [==============================] - 0s 1ms/step - loss: 0.3390 - accuracy: 0.8647 - precision: 0.9062 - f1_score: 0.7600 - val_loss: 0.3364 - val_accuracy: 0.8660 - val_precision: 0.9036 - val_f1_score: 0.7469\n",
      "Epoch 96/150\n",
      "120/120 [==============================] - 0s 1ms/step - loss: 0.3393 - accuracy: 0.8643 - precision: 0.9062 - f1_score: 0.7624 - val_loss: 0.3358 - val_accuracy: 0.8685 - val_precision: 0.9073 - val_f1_score: 0.7545\n",
      "Epoch 97/150\n",
      "120/120 [==============================] - 0s 1ms/step - loss: 0.3391 - accuracy: 0.8647 - precision: 0.9087 - f1_score: 0.7623 - val_loss: 0.3376 - val_accuracy: 0.8655 - val_precision: 0.9073 - val_f1_score: 0.7532\n",
      "Epoch 98/150\n",
      "120/120 [==============================] - 0s 1ms/step - loss: 0.3381 - accuracy: 0.8650 - precision: 0.9065 - f1_score: 0.7632 - val_loss: 0.3505 - val_accuracy: 0.8585 - val_precision: 0.9080 - val_f1_score: 0.7558\n",
      "Epoch 99/150\n",
      "120/120 [==============================] - 0s 1ms/step - loss: 0.3384 - accuracy: 0.8632 - precision: 0.9077 - f1_score: 0.7601 - val_loss: 0.3373 - val_accuracy: 0.8640 - val_precision: 0.9021 - val_f1_score: 0.7341\n",
      "Epoch 100/150\n",
      "120/120 [==============================] - 0s 1ms/step - loss: 0.3375 - accuracy: 0.8663 - precision: 0.9076 - f1_score: 0.7643 - val_loss: 0.3383 - val_accuracy: 0.8660 - val_precision: 0.9032 - val_f1_score: 0.7429\n",
      "Epoch 101/150\n",
      "120/120 [==============================] - 0s 1ms/step - loss: 0.3376 - accuracy: 0.8638 - precision: 0.9072 - f1_score: 0.7600 - val_loss: 0.3360 - val_accuracy: 0.8670 - val_precision: 0.9036 - val_f1_score: 0.7481\n",
      "Epoch 102/150\n",
      "120/120 [==============================] - 0s 1ms/step - loss: 0.3371 - accuracy: 0.8650 - precision: 0.9103 - f1_score: 0.7616 - val_loss: 0.3384 - val_accuracy: 0.8655 - val_precision: 0.9041 - val_f1_score: 0.7456\n",
      "Epoch 103/150\n",
      "120/120 [==============================] - 0s 1ms/step - loss: 0.3374 - accuracy: 0.8643 - precision: 0.9073 - f1_score: 0.7607 - val_loss: 0.3399 - val_accuracy: 0.8660 - val_precision: 0.9068 - val_f1_score: 0.7580\n",
      "Epoch 104/150\n",
      "120/120 [==============================] - 0s 1ms/step - loss: 0.3375 - accuracy: 0.8625 - precision: 0.9094 - f1_score: 0.7576 - val_loss: 0.3384 - val_accuracy: 0.8660 - val_precision: 0.9069 - val_f1_score: 0.7551\n",
      "Epoch 105/150\n",
      "120/120 [==============================] - 0s 1ms/step - loss: 0.3386 - accuracy: 0.8652 - precision: 0.9069 - f1_score: 0.7645 - val_loss: 0.3372 - val_accuracy: 0.8675 - val_precision: 0.9056 - val_f1_score: 0.7551\n",
      "Epoch 106/150\n",
      "120/120 [==============================] - 0s 1ms/step - loss: 0.3370 - accuracy: 0.8650 - precision: 0.9069 - f1_score: 0.7641 - val_loss: 0.3401 - val_accuracy: 0.8670 - val_precision: 0.9062 - val_f1_score: 0.7587\n",
      "Epoch 107/150\n",
      "120/120 [==============================] - 0s 1ms/step - loss: 0.3368 - accuracy: 0.8628 - precision: 0.9100 - f1_score: 0.7593 - val_loss: 0.3370 - val_accuracy: 0.8650 - val_precision: 0.9079 - val_f1_score: 0.7495\n",
      "Epoch 108/150\n",
      "120/120 [==============================] - 0s 1ms/step - loss: 0.3369 - accuracy: 0.8655 - precision: 0.9073 - f1_score: 0.7642 - val_loss: 0.3356 - val_accuracy: 0.8645 - val_precision: 0.9038 - val_f1_score: 0.7375\n",
      "Epoch 109/150\n",
      "120/120 [==============================] - 0s 2ms/step - loss: 0.3371 - accuracy: 0.8613 - precision: 0.9077 - f1_score: 0.7537 - val_loss: 0.3366 - val_accuracy: 0.8685 - val_precision: 0.9074 - val_f1_score: 0.7538\n",
      "Epoch 110/150\n",
      "120/120 [==============================] - 0s 2ms/step - loss: 0.3376 - accuracy: 0.8648 - precision: 0.9076 - f1_score: 0.7619 - val_loss: 0.3354 - val_accuracy: 0.8670 - val_precision: 0.9036 - val_f1_score: 0.7413\n",
      "Epoch 111/150\n",
      "120/120 [==============================] - 0s 1ms/step - loss: 0.3359 - accuracy: 0.8655 - precision: 0.9074 - f1_score: 0.7631 - val_loss: 0.3410 - val_accuracy: 0.8635 - val_precision: 0.9085 - val_f1_score: 0.7556\n",
      "Epoch 112/150\n",
      "120/120 [==============================] - 0s 2ms/step - loss: 0.3361 - accuracy: 0.8650 - precision: 0.9095 - f1_score: 0.7630 - val_loss: 0.3355 - val_accuracy: 0.8670 - val_precision: 0.9039 - val_f1_score: 0.7441\n",
      "Epoch 113/150\n",
      "120/120 [==============================] - 0s 1ms/step - loss: 0.3358 - accuracy: 0.8652 - precision: 0.9084 - f1_score: 0.7630 - val_loss: 0.3363 - val_accuracy: 0.8655 - val_precision: 0.9017 - val_f1_score: 0.7423\n",
      "Epoch 114/150\n",
      "120/120 [==============================] - 0s 1ms/step - loss: 0.3361 - accuracy: 0.8643 - precision: 0.9082 - f1_score: 0.7607 - val_loss: 0.3355 - val_accuracy: 0.8655 - val_precision: 0.9040 - val_f1_score: 0.7395\n",
      "Epoch 115/150\n",
      "120/120 [==============================] - 0s 1ms/step - loss: 0.3359 - accuracy: 0.8648 - precision: 0.9086 - f1_score: 0.7608 - val_loss: 0.3363 - val_accuracy: 0.8625 - val_precision: 0.8995 - val_f1_score: 0.7300\n",
      "Epoch 116/150\n",
      "120/120 [==============================] - 0s 2ms/step - loss: 0.3357 - accuracy: 0.8653 - precision: 0.9061 - f1_score: 0.7627 - val_loss: 0.3376 - val_accuracy: 0.8635 - val_precision: 0.8998 - val_f1_score: 0.7370\n",
      "Epoch 117/150\n",
      "120/120 [==============================] - 0s 2ms/step - loss: 0.3358 - accuracy: 0.8633 - precision: 0.9083 - f1_score: 0.7606 - val_loss: 0.3359 - val_accuracy: 0.8675 - val_precision: 0.9008 - val_f1_score: 0.7427\n",
      "Epoch 118/150\n",
      "120/120 [==============================] - 0s 2ms/step - loss: 0.3354 - accuracy: 0.8638 - precision: 0.9086 - f1_score: 0.7581 - val_loss: 0.3361 - val_accuracy: 0.8695 - val_precision: 0.9033 - val_f1_score: 0.7588\n",
      "Epoch 119/150\n",
      "120/120 [==============================] - 0s 2ms/step - loss: 0.3347 - accuracy: 0.8670 - precision: 0.9073 - f1_score: 0.7642 - val_loss: 0.3406 - val_accuracy: 0.8630 - val_precision: 0.9060 - val_f1_score: 0.7567\n",
      "Epoch 120/150\n",
      "120/120 [==============================] - 0s 2ms/step - loss: 0.3346 - accuracy: 0.8683 - precision: 0.9092 - f1_score: 0.7690 - val_loss: 0.3379 - val_accuracy: 0.8655 - val_precision: 0.9002 - val_f1_score: 0.7374\n",
      "Epoch 121/150\n",
      "120/120 [==============================] - 0s 1ms/step - loss: 0.3352 - accuracy: 0.8633 - precision: 0.9082 - f1_score: 0.7595 - val_loss: 0.3367 - val_accuracy: 0.8680 - val_precision: 0.9084 - val_f1_score: 0.7563\n",
      "Epoch 122/150\n",
      "120/120 [==============================] - 0s 1ms/step - loss: 0.3341 - accuracy: 0.8648 - precision: 0.9080 - f1_score: 0.7634 - val_loss: 0.3363 - val_accuracy: 0.8655 - val_precision: 0.9032 - val_f1_score: 0.7423\n",
      "Epoch 123/150\n",
      "120/120 [==============================] - 0s 1ms/step - loss: 0.3352 - accuracy: 0.8660 - precision: 0.9101 - f1_score: 0.7629 - val_loss: 0.3404 - val_accuracy: 0.8620 - val_precision: 0.8988 - val_f1_score: 0.7294\n",
      "Epoch 124/150\n",
      "120/120 [==============================] - 0s 1ms/step - loss: 0.3353 - accuracy: 0.8635 - precision: 0.9091 - f1_score: 0.7597 - val_loss: 0.3381 - val_accuracy: 0.8645 - val_precision: 0.8975 - val_f1_score: 0.7403\n",
      "Epoch 125/150\n",
      "120/120 [==============================] - 0s 2ms/step - loss: 0.3336 - accuracy: 0.8682 - precision: 0.9097 - f1_score: 0.7680 - val_loss: 0.3464 - val_accuracy: 0.8605 - val_precision: 0.9122 - val_f1_score: 0.7582\n",
      "Epoch 126/150\n",
      "120/120 [==============================] - 0s 2ms/step - loss: 0.3352 - accuracy: 0.8650 - precision: 0.9068 - f1_score: 0.7637 - val_loss: 0.3373 - val_accuracy: 0.8675 - val_precision: 0.9062 - val_f1_score: 0.7593\n",
      "Epoch 127/150\n",
      "120/120 [==============================] - 0s 2ms/step - loss: 0.3356 - accuracy: 0.8650 - precision: 0.9068 - f1_score: 0.7628 - val_loss: 0.3360 - val_accuracy: 0.8665 - val_precision: 0.9022 - val_f1_score: 0.7507\n",
      "Epoch 128/150\n",
      "120/120 [==============================] - 0s 2ms/step - loss: 0.3338 - accuracy: 0.8655 - precision: 0.9087 - f1_score: 0.7634 - val_loss: 0.3363 - val_accuracy: 0.8620 - val_precision: 0.9006 - val_f1_score: 0.7345\n",
      "Epoch 129/150\n",
      "120/120 [==============================] - 0s 1ms/step - loss: 0.3348 - accuracy: 0.8670 - precision: 0.9066 - f1_score: 0.7663 - val_loss: 0.3387 - val_accuracy: 0.8670 - val_precision: 0.9019 - val_f1_score: 0.7538\n",
      "Epoch 130/150\n",
      "120/120 [==============================] - 0s 1ms/step - loss: 0.3332 - accuracy: 0.8643 - precision: 0.9077 - f1_score: 0.7618 - val_loss: 0.3395 - val_accuracy: 0.8665 - val_precision: 0.9050 - val_f1_score: 0.7604\n",
      "Epoch 131/150\n",
      "120/120 [==============================] - 0s 2ms/step - loss: 0.3343 - accuracy: 0.8648 - precision: 0.9092 - f1_score: 0.7625 - val_loss: 0.3355 - val_accuracy: 0.8675 - val_precision: 0.9020 - val_f1_score: 0.7513\n",
      "Epoch 132/150\n",
      "120/120 [==============================] - 0s 1ms/step - loss: 0.3338 - accuracy: 0.8668 - precision: 0.9081 - f1_score: 0.7651 - val_loss: 0.3421 - val_accuracy: 0.8675 - val_precision: 0.8979 - val_f1_score: 0.7427\n",
      "Epoch 133/150\n",
      "120/120 [==============================] - 0s 1ms/step - loss: 0.3336 - accuracy: 0.8663 - precision: 0.9083 - f1_score: 0.7659 - val_loss: 0.3373 - val_accuracy: 0.8670 - val_precision: 0.9024 - val_f1_score: 0.7494\n",
      "Epoch 134/150\n",
      "120/120 [==============================] - 0s 1ms/step - loss: 0.3337 - accuracy: 0.8662 - precision: 0.9075 - f1_score: 0.7664 - val_loss: 0.3379 - val_accuracy: 0.8670 - val_precision: 0.9058 - val_f1_score: 0.7538\n",
      "Epoch 135/150\n",
      "120/120 [==============================] - 0s 1ms/step - loss: 0.3334 - accuracy: 0.8662 - precision: 0.9082 - f1_score: 0.7657 - val_loss: 0.3391 - val_accuracy: 0.8665 - val_precision: 0.9048 - val_f1_score: 0.7581\n",
      "Epoch 136/150\n",
      "120/120 [==============================] - 0s 1ms/step - loss: 0.3334 - accuracy: 0.8658 - precision: 0.9094 - f1_score: 0.7644 - val_loss: 0.3354 - val_accuracy: 0.8680 - val_precision: 0.9015 - val_f1_score: 0.7513\n",
      "Epoch 137/150\n",
      "120/120 [==============================] - 0s 1ms/step - loss: 0.3328 - accuracy: 0.8640 - precision: 0.9076 - f1_score: 0.7609 - val_loss: 0.3378 - val_accuracy: 0.8690 - val_precision: 0.9023 - val_f1_score: 0.7569\n",
      "Epoch 138/150\n",
      "120/120 [==============================] - 0s 1ms/step - loss: 0.3333 - accuracy: 0.8658 - precision: 0.9081 - f1_score: 0.7651 - val_loss: 0.3374 - val_accuracy: 0.8690 - val_precision: 0.9087 - val_f1_score: 0.7569\n",
      "Epoch 139/150\n",
      "120/120 [==============================] - 0s 1ms/step - loss: 0.3328 - accuracy: 0.8645 - precision: 0.9087 - f1_score: 0.7615 - val_loss: 0.3356 - val_accuracy: 0.8675 - val_precision: 0.9030 - val_f1_score: 0.7520\n",
      "Epoch 140/150\n",
      "120/120 [==============================] - 0s 1ms/step - loss: 0.3337 - accuracy: 0.8642 - precision: 0.9070 - f1_score: 0.7618 - val_loss: 0.3387 - val_accuracy: 0.8675 - val_precision: 0.9070 - val_f1_score: 0.7593\n",
      "Epoch 141/150\n",
      "120/120 [==============================] - 0s 1ms/step - loss: 0.3335 - accuracy: 0.8643 - precision: 0.9075 - f1_score: 0.7617 - val_loss: 0.3391 - val_accuracy: 0.8665 - val_precision: 0.9049 - val_f1_score: 0.7551\n",
      "Epoch 142/150\n",
      "120/120 [==============================] - 0s 1ms/step - loss: 0.3328 - accuracy: 0.8672 - precision: 0.9082 - f1_score: 0.7673 - val_loss: 0.3365 - val_accuracy: 0.8685 - val_precision: 0.9027 - val_f1_score: 0.7493\n",
      "Epoch 143/150\n",
      "120/120 [==============================] - 0s 2ms/step - loss: 0.3317 - accuracy: 0.8668 - precision: 0.9089 - f1_score: 0.7660 - val_loss: 0.3391 - val_accuracy: 0.8620 - val_precision: 0.8995 - val_f1_score: 0.7323\n",
      "Epoch 144/150\n",
      "120/120 [==============================] - 0s 2ms/step - loss: 0.3335 - accuracy: 0.8658 - precision: 0.9063 - f1_score: 0.7651 - val_loss: 0.3366 - val_accuracy: 0.8670 - val_precision: 0.9056 - val_f1_score: 0.7520\n",
      "Epoch 145/150\n",
      "120/120 [==============================] - 0s 2ms/step - loss: 0.3330 - accuracy: 0.8683 - precision: 0.9090 - f1_score: 0.7689 - val_loss: 0.3371 - val_accuracy: 0.8690 - val_precision: 0.9066 - val_f1_score: 0.7600\n",
      "Epoch 146/150\n",
      "120/120 [==============================] - 0s 2ms/step - loss: 0.3322 - accuracy: 0.8648 - precision: 0.9103 - f1_score: 0.7628 - val_loss: 0.3391 - val_accuracy: 0.8655 - val_precision: 0.8982 - val_f1_score: 0.7337\n",
      "Epoch 147/150\n",
      "120/120 [==============================] - 0s 1ms/step - loss: 0.3323 - accuracy: 0.8672 - precision: 0.9091 - f1_score: 0.7649 - val_loss: 0.3431 - val_accuracy: 0.8645 - val_precision: 0.9036 - val_f1_score: 0.7619\n",
      "Epoch 148/150\n",
      "120/120 [==============================] - 0s 1ms/step - loss: 0.3329 - accuracy: 0.8665 - precision: 0.9074 - f1_score: 0.7661 - val_loss: 0.3383 - val_accuracy: 0.8655 - val_precision: 0.9015 - val_f1_score: 0.7501\n",
      "Epoch 149/150\n",
      "120/120 [==============================] - 0s 1ms/step - loss: 0.3313 - accuracy: 0.8653 - precision: 0.9085 - f1_score: 0.7631 - val_loss: 0.3409 - val_accuracy: 0.8660 - val_precision: 0.9069 - val_f1_score: 0.7615\n",
      "Epoch 150/150\n",
      "120/120 [==============================] - 0s 1ms/step - loss: 0.3327 - accuracy: 0.8655 - precision: 0.9089 - f1_score: 0.7647 - val_loss: 0.3383 - val_accuracy: 0.8665 - val_precision: 0.9044 - val_f1_score: 0.7581\n"
     ]
    }
   ],
   "source": [
    "history = network.fit(\n",
    "    x_train_standardized, \n",
    "    y_train, \n",
    "    epochs=EPOCHS, \n",
    "    verbose=VERBOSE, \n",
    "    batch_size=BATCH_SIZE, \n",
    "    validation_data=(x_test_standardized, y_test)\n",
    "    )"
   ]
  },
  {
   "cell_type": "code",
   "execution_count": 12,
   "metadata": {},
   "outputs": [
    {
     "name": "stdout",
     "output_type": "stream",
     "text": [
      "200/200 [==============================] - 1s 2ms/step - loss: 0.3383 - accuracy: 0.8665 - precision: 0.9044 - f1_score: 0.7581\n",
      "loss : 0.338335782289505\n",
      "accuracy : 0.8665000200271606\n",
      "precision : 0.9044032692909241\n",
      "f1_score : [0.92003596 0.5960666 ]\n"
     ]
    }
   ],
   "source": [
    "network_result = network.evaluate(x_test_standardized, y_test, batch_size=10, verbose=1)\n",
    "for name, value in zip(network.metrics_names, network_result):\n",
    "    print(name, ':', value)"
   ]
  },
  {
   "cell_type": "code",
   "execution_count": 13,
   "metadata": {},
   "outputs": [
    {
     "data": {
      "text/plain": [
       "0.8429848551750183"
      ]
     },
     "execution_count": 13,
     "metadata": {},
     "output_type": "execute_result"
    }
   ],
   "source": [
    "final = (network_result[1] + network_result[2] + sum(network_result[3])/2) / 3\n",
    "final"
   ]
  },
  {
   "cell_type": "code",
   "execution_count": 23,
   "metadata": {},
   "outputs": [],
   "source": [
    "def plot_evaluate(model_history, value:str):\n",
    "    training_value = model_history.history[value]\n",
    "    test_value  = model_history.history[f'val_{value}']\n",
    "    epoch_count = range(1, len(training_value)+1)\n",
    "    plt.plot(epoch_count, training_value)\n",
    "    plt.plot(epoch_count, test_value)\n",
    "    plt.legend([f'training_{value}', f'test_{value}'])\n",
    "    plt.xlabel('epoch')\n",
    "    plt.ylabel(value)\n",
    "    plt.show()"
   ]
  },
  {
   "cell_type": "code",
   "execution_count": 24,
   "metadata": {},
   "outputs": [
    {
     "data": {
      "image/png": "[encoded data removed]",
      "text/plain": [
       "<Figure size 432x288 with 1 Axes>"
      ]
     },
     "metadata": {
      "needs_background": "light"
     },
     "output_type": "display_data"
    }
   ],
   "source": [
    "plot_evaluate(history, 'loss')"
   ]
  },
  {
   "cell_type": "code",
   "execution_count": 25,
   "metadata": {},
   "outputs": [
    {
     "data": {
      "image/png": "[encoded data removed]",
      "text/plain": [
       "<Figure size 432x288 with 1 Axes>"
      ]
     },
     "metadata": {
      "needs_background": "light"
     },
     "output_type": "display_data"
    }
   ],
   "source": [
    "plot_evaluate(history, 'accuracy')"
   ]
  },
  {
   "cell_type": "code",
   "execution_count": 26,
   "metadata": {},
   "outputs": [
    {
     "data": {
      "image/png": "[encoded data removed]",
      "text/plain": [
       "<Figure size 432x288 with 1 Axes>"
      ]
     },
     "metadata": {
      "needs_background": "light"
     },
     "output_type": "display_data"
    }
   ],
   "source": [
    "plot_evaluate(history, 'precision')"
   ]
  },
  {
   "cell_type": "code",
   "execution_count": 28,
   "metadata": {},
   "outputs": [
    {
     "name": "stdout",
     "output_type": "stream",
     "text": [
      "['DNN_clean.ipynb', '__pycache__', 'hyperparameter.py', 'LogisticRegression.ipynb', 'XGBoost_CatBoost.ipynb', 'DNN.ipynb', 'SVM.ipynb']\n",
      "['DNN_clean.ipynb', '__pycache__', 'hyperparameter.py', 'LogisticRegression.ipynb', 'XGBoost_CatBoost.ipynb', 'DNN.ipynb', 'SVM.ipynb']\n"
     ]
    }
   ],
   "source": [
    "X_test = df_test.loc[:, 'CreditScore': 'EstimatedSalary']\n",
    "X_test_standardized = scaler.transform(X_test)\n",
    "Y_predictions_label = argmax(network.predict(X_test_standardized), axis=1)\n",
    "df_upload = DataFrame({\n",
    "    'RowNumber': list(df_test.RowNumber), \n",
    "    'Exited': Y_predictions_label\n",
    "})\n",
    "df_upload.to_csv('../churn_prediction_data/DNN.csv')\n",
    "print(listdir())"
   ]
  },
  {
   "cell_type": "code",
   "execution_count": null,
   "metadata": {},
   "outputs": [],
   "source": []
  }
 ],
 "metadata": {
  "interpreter": {
   "hash": "c03ace2cb35ac4a345ce1b2e59427f5299d945d20996f418dffee56d96bd73e0"
  },
  "kernelspec": {
   "display_name": "Python 3.8.11 64-bit ('myenv': conda)",
   "language": "python",
   "name": "python3"
  },
  "language_info": {
   "codemirror_mode": {
    "name": "ipython",
    "version": 3
   },
   "file_extension": ".py",
   "mimetype": "text/x-python",
   "name": "python",
   "nbconvert_exporter": "python",
   "pygments_lexer": "ipython3",
   "version": "3.8.11"
  },
  "orig_nbformat": 4
 },
 "nbformat": 4,
 "nbformat_minor": 2
}
