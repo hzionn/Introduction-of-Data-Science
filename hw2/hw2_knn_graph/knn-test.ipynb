{
 "cells": [
  {
   "cell_type": "code",
   "execution_count": 1,
   "id": "e9dbfe83",
   "metadata": {},
   "outputs": [],
   "source": [
    "import numpy as np\n",
    "import pandas as pd\n",
    "import matplotlib.pyplot as plt\n",
    "import random"
   ]
  },
  {
   "cell_type": "code",
   "execution_count": 2,
   "id": "e4f87c02",
   "metadata": {},
   "outputs": [
    {
     "name": "stdout",
     "output_type": "stream",
     "text": [
      "[7 6 5 4 3 2 1]\n",
      "----------------\n",
      "[1 6 5 4 3 2 7]\n",
      "[1 2 5 4 3 6 7]\n",
      "[1 2 3 4 5 6 7]\n",
      "[3 1 2 4 6 5 7]\n",
      "[3 1 2 4 5 6 7]\n"
     ]
    }
   ],
   "source": [
    "x = np.array([7, 6, 5, 4, 3, 2, 1])\n",
    "print(x)\n",
    "print('----------------')\n",
    "print(np.partition(x, 0))\n",
    "print(np.partition(x, 1))\n",
    "print(np.partition(x, 2))\n",
    "print(np.partition(x, 3))\n",
    "print(np.partition(x, 4))"
   ]
  },
  {
   "cell_type": "code",
   "execution_count": 3,
   "id": "c8d95c4b",
   "metadata": {},
   "outputs": [
    {
     "data": {
      "text/plain": [
       "array([[5, 0, 3, 3, 7, 9],\n",
       "       [3, 5, 2, 4, 7, 6],\n",
       "       [8, 8, 1, 6, 7, 7],\n",
       "       [8, 1, 5, 9, 8, 9]])"
      ]
     },
     "execution_count": 3,
     "metadata": {},
     "output_type": "execute_result"
    }
   ],
   "source": [
    "rand = np.random.RandomState(0)\n",
    "X = rand.randint(0, 10, (4, 6))\n",
    "X"
   ]
  },
  {
   "cell_type": "code",
   "execution_count": 4,
   "id": "de0b2326",
   "metadata": {},
   "outputs": [
    {
     "data": {
      "text/plain": [
       "array([[0, 3, 5, 3, 7, 9],\n",
       "       [2, 3, 5, 4, 7, 6],\n",
       "       [1, 6, 8, 8, 7, 7],\n",
       "       [1, 5, 8, 9, 8, 9]])"
      ]
     },
     "execution_count": 4,
     "metadata": {},
     "output_type": "execute_result"
    }
   ],
   "source": [
    "np.partition(X, 1, axis=1)"
   ]
  },
  {
   "cell_type": "markdown",
   "id": "3a8e3a4a",
   "metadata": {},
   "source": [
    "ex: knn"
   ]
  },
  {
   "cell_type": "code",
   "execution_count": 5,
   "id": "73d47e4c",
   "metadata": {},
   "outputs": [
    {
     "data": {
      "text/plain": [
       "array([[0.64817187, 0.36824154],\n",
       "       [0.95715516, 0.14035078],\n",
       "       [0.87008726, 0.47360805],\n",
       "       [0.80091075, 0.52047748],\n",
       "       [0.67887953, 0.72063265],\n",
       "       [0.58201979, 0.53737323],\n",
       "       [0.75861562, 0.10590761],\n",
       "       [0.47360042, 0.18633234],\n",
       "       [0.73691818, 0.21655035],\n",
       "       [0.13521817, 0.32414101]])"
      ]
     },
     "execution_count": 5,
     "metadata": {},
     "output_type": "execute_result"
    }
   ],
   "source": [
    "X = rand.rand(10, 2)\n",
    "X"
   ]
  },
  {
   "cell_type": "code",
   "execution_count": 6,
   "id": "d9f3c9f2",
   "metadata": {},
   "outputs": [
    {
     "data": {
      "text/plain": [
       "array([1.01641341, 1.09750594, 1.3436953 , 1.32138823, 1.39951218,\n",
       "       1.11939302, 0.86452323, 0.65993276, 0.95346853, 0.45935918])"
      ]
     },
     "execution_count": 6,
     "metadata": {},
     "output_type": "execute_result"
    }
   ],
   "source": [
    "np.sum(X,1)"
   ]
  },
  {
   "cell_type": "code",
   "execution_count": 7,
   "id": "8fa44304",
   "metadata": {},
   "outputs": [
    {
     "data": {
      "text/plain": [
       "<matplotlib.collections.PathCollection at 0x7f96d0caefa0>"
      ]
     },
     "execution_count": 7,
     "metadata": {},
     "output_type": "execute_result"
    },
    {
     "data": {
      "image/png": "[encoded data removed]",
      "text/plain": [
       "<Figure size 432x288 with 1 Axes>"
      ]
     },
     "metadata": {},
     "output_type": "display_data"
    }
   ],
   "source": [
    "import matplotlib.pyplot as plt\n",
    "import seaborn; seaborn.set() # Plot styling\n",
    "\n",
    "plt.scatter(X[:, 0], X[:, 1])"
   ]
  },
  {
   "cell_type": "code",
   "execution_count": 8,
   "id": "7acf744b",
   "metadata": {},
   "outputs": [
    {
     "data": {
      "text/plain": [
       "array([[0.        , 0.14740487, 0.06034854, 0.04650495, 0.12512246,\n",
       "        0.03298163, 0.08101691, 0.06356615, 0.03088612, 0.26506635],\n",
       "       [0.14740487, 0.        , 0.11864122, 0.16890862, 0.41416438,\n",
       "        0.29835337, 0.04060428, 0.23593949, 0.0543107 , 0.70935926],\n",
       "       [0.06034854, 0.11864122, 0.        , 0.00698213, 0.09758155,\n",
       "        0.08704886, 0.14762954, 0.23972914, 0.08381266, 0.56237297],\n",
       "       [0.04650495, 0.16890862, 0.00698213, 0.        , 0.05495371,\n",
       "        0.04819872, 0.17365706, 0.21878503, 0.09646675, 0.48169462],\n",
       "       [0.12512246, 0.41416438, 0.09758155, 0.05495371, 0.        ,\n",
       "        0.04296583, 0.38424473, 0.32761634, 0.25746745, 0.4527733 ],\n",
       "       [0.03298163, 0.29835337, 0.08704886, 0.04819872, 0.04296583,\n",
       "        0.        , 0.21734867, 0.13498446, 0.12692083, 0.24509967],\n",
       "       [0.08101691, 0.04060428, 0.14762954, 0.17365706, 0.38424473,\n",
       "        0.21734867, 0.        , 0.08770181, 0.0127126 , 0.4362502 ],\n",
       "       [0.06356615, 0.23593949, 0.23972914, 0.21878503, 0.32761634,\n",
       "        0.13498446, 0.08770181, 0.        , 0.07024937, 0.13349377],\n",
       "       [0.03088612, 0.0543107 , 0.08381266, 0.09646675, 0.25746745,\n",
       "        0.12692083, 0.0127126 , 0.07024937, 0.        , 0.37361864],\n",
       "       [0.26506635, 0.70935926, 0.56237297, 0.48169462, 0.4527733 ,\n",
       "        0.24509967, 0.4362502 , 0.13349377, 0.37361864, 0.        ]])"
      ]
     },
     "execution_count": 8,
     "metadata": {},
     "output_type": "execute_result"
    }
   ],
   "source": [
    "dist_sq = np.sum((X[:, None, :] - X[None, :, :]) ** 2, axis=-1)\n",
    "dist_sq"
   ]
  },
  {
   "cell_type": "code",
   "execution_count": 9,
   "id": "9d49e18c",
   "metadata": {},
   "outputs": [
    {
     "data": {
      "text/plain": [
       "array([0.        , 0.14740487, 0.06034854, 0.04650495, 0.12512246,\n",
       "       0.03298163, 0.08101691, 0.06356615, 0.03088612, 0.26506635])"
      ]
     },
     "execution_count": 9,
     "metadata": {},
     "output_type": "execute_result"
    }
   ],
   "source": [
    "dist_sq[0]"
   ]
  },
  {
   "cell_type": "code",
   "execution_count": 10,
   "id": "22d036ea",
   "metadata": {},
   "outputs": [
    {
     "data": {
      "text/plain": [
       "array([0., 0., 0., 0., 0., 0., 0., 0., 0., 0.])"
      ]
     },
     "execution_count": 10,
     "metadata": {},
     "output_type": "execute_result"
    }
   ],
   "source": [
    "dist_sq.diagonal()"
   ]
  },
  {
   "cell_type": "code",
   "execution_count": 11,
   "id": "d32b31ce",
   "metadata": {},
   "outputs": [
    {
     "name": "stdout",
     "output_type": "stream",
     "text": [
      "[[0 8 5 3 2 7 6 4 1 9]\n",
      " [1 6 8 2 0 3 7 5 4 9]\n",
      " [2 3 0 8 5 4 1 6 7 9]\n",
      " [3 2 0 5 4 8 1 6 7 9]\n",
      " [4 5 3 2 0 8 7 6 1 9]\n",
      " [5 0 4 3 2 8 7 6 9 1]\n",
      " [6 8 1 0 7 2 3 5 4 9]\n",
      " [7 0 8 6 9 5 3 1 2 4]\n",
      " [8 6 0 1 7 2 3 5 4 9]\n",
      " [9 7 5 0 8 6 4 3 2 1]]\n"
     ]
    }
   ],
   "source": [
    "nearest = np.argsort(dist_sq, axis=1)\n",
    "print(nearest)"
   ]
  },
  {
   "cell_type": "code",
   "execution_count": 12,
   "id": "c923f6d3",
   "metadata": {},
   "outputs": [
    {
     "name": "stdout",
     "output_type": "stream",
     "text": [
      "[[0 8 5 3 2 7 6 4 1 9]\n",
      " [1 6 8 2 0 3 5 7 4 9]\n",
      " [3 2 0 8 5 4 6 7 1 9]\n",
      " [2 3 0 5 4 1 6 7 8 9]\n",
      " [4 5 3 2 0 1 6 7 8 9]\n",
      " [5 0 4 3 2 8 7 6 1 9]\n",
      " [6 8 1 0 7 5 2 3 4 9]\n",
      " [7 0 8 6 9 5 1 3 2 4]\n",
      " [6 8 0 1 7 5 2 3 4 9]\n",
      " [5 9 7 0 1 3 6 2 8 4]]\n"
     ]
    }
   ],
   "source": [
    "K = 2\n",
    "nearest_partition = np.argpartition(dist_sq, K + 1, axis=1)\n",
    "print(nearest_partition)"
   ]
  },
  {
   "cell_type": "code",
   "execution_count": 13,
   "id": "640d75c9",
   "metadata": {},
   "outputs": [
    {
     "data": {
      "image/png": "[encoded data removed]",
      "text/plain": [
       "<Figure size 432x288 with 1 Axes>"
      ]
     },
     "metadata": {},
     "output_type": "display_data"
    }
   ],
   "source": [
    "#plt.scatter(X[:, 0], X[:, 1])\n",
    "\n",
    "# draw lines from each point to its two nearest neighbors\n",
    "K = 2\n",
    "for i in range(X.shape[0]):\n",
    "    for j in nearest_partition[i, :K+1]:\n",
    "        # plot a line from X[i] to X[j]\n",
    "        plt.plot(*zip(X[j], X[i]), color=\"#505050\")"
   ]
  },
  {
   "cell_type": "code",
   "execution_count": null,
   "id": "e8e0eaa8",
   "metadata": {},
   "outputs": [],
   "source": []
  }
 ],
 "metadata": {
  "kernelspec": {
   "display_name": "Python 3 (ipykernel)",
   "language": "python",
   "name": "python3"
  },
  "language_info": {
   "codemirror_mode": {
    "name": "ipython",
    "version": 3
   },
   "file_extension": ".py",
   "mimetype": "text/x-python",
   "name": "python",
   "nbconvert_exporter": "python",
   "pygments_lexer": "ipython3",
   "version": "3.8.11"
  }
 },
 "nbformat": 4,
 "nbformat_minor": 5
}
